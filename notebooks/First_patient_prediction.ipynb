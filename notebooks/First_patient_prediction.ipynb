{
 "cells": [
  {
   "cell_type": "markdown",
   "id": "a0116d8e",
   "metadata": {},
   "source": [
    "# CT patient data input to model"
   ]
  },
  {
   "cell_type": "code",
   "execution_count": 30,
   "id": "6a65b22f",
   "metadata": {},
   "outputs": [
    {
     "name": "stdout",
     "output_type": "stream",
     "text": [
      "Requirement already satisfied: opencv-python in /home/adduser/.pyenv/versions/3.8.6/envs/lewagon/lib/python3.8/site-packages (4.5.2.52)\n",
      "Requirement already satisfied: numpy>=1.17.3 in /home/adduser/.pyenv/versions/3.8.6/envs/lewagon/lib/python3.8/site-packages (from opencv-python) (1.18.5)\n",
      "\u001b[33mWARNING: You are using pip version 21.1.1; however, version 21.1.2 is available.\n",
      "You should consider upgrading via the '/home/adduser/.pyenv/versions/3.8.6/envs/lewagon/bin/python3.8 -m pip install --upgrade pip' command.\u001b[0m\n"
     ]
    }
   ],
   "source": [
    "!pip install opencv-python\n",
    "\n",
    "import pandas as pd\n",
    "import numpy as np\n",
    "import cv2\n",
    "import os\n",
    "import matplotlib.pyplot as plt\n",
    "\n",
    "import tensorflow\n",
    "\n",
    "from tensorflow.keras.utils import to_categorical\n",
    "\n",
    "from sklearn.model_selection import train_test_split\n",
    "\n",
    "from tensorflow.keras import callbacks\n",
    "from tensorflow.keras.models import load_model\n",
    "\n",
    "from joblib import dump, load\n",
    "\n",
    "import re"
   ]
  },
  {
   "cell_type": "markdown",
   "id": "4d29a7fa",
   "metadata": {},
   "source": [
    "## Load model"
   ]
  },
  {
   "cell_type": "code",
   "execution_count": 31,
   "id": "8f039047",
   "metadata": {},
   "outputs": [],
   "source": [
    "# import model (labeled CT data)\n",
    "model_labeledCT = load_model('../models/model_labeled_ct_15epochs')"
   ]
  },
  {
   "cell_type": "markdown",
   "id": "3f8329c9",
   "metadata": {},
   "source": [
    "## Read CT images + grayscale + resize"
   ]
  },
  {
   "cell_type": "code",
   "execution_count": 32,
   "id": "477320cc",
   "metadata": {},
   "outputs": [],
   "source": [
    "def read_ct_img_bydir(target_dir):\n",
    "    img=cv2.imdecode(np.fromfile(target_dir,dtype=np.uint8),cv2.IMREAD_GRAYSCALE)\n",
    "    #img = corp_margin(img)\n",
    "    img=cv2.resize(img,(200,200))\n",
    "    \n",
    "    return img"
   ]
  },
  {
   "cell_type": "markdown",
   "id": "a6e3d884",
   "metadata": {},
   "source": [
    "## Get paths from all patient folders"
   ]
  },
  {
   "cell_type": "code",
   "execution_count": 33,
   "id": "df8a7cea",
   "metadata": {},
   "outputs": [],
   "source": [
    "def get_data_paths(main_dir):\n",
    "    ct_paths = list()\n",
    "    patient_ids = list()\n",
    "    \n",
    "    for dirs in os.listdir(main_dir):\n",
    "\n",
    "        target_dir = f'../raw_data/CT_data/{dirs}/'\n",
    "        sub_dir = os.listdir(target_dir)\n",
    "        target_dir = target_dir+sub_dir[0]+'/'\n",
    "\n",
    "        ct_paths.append(target_dir)\n",
    "        patient_ids.append(dirs)\n",
    "        \n",
    "    return ct_paths\n",
    "\n",
    "    #     for file in os.listdir(target_dir):\n",
    "    #         if file.endswith(\".jpg\"):\n",
    "    #             ct_paths.append(os.path.join(target_dir, file))"
   ]
  },
  {
   "cell_type": "markdown",
   "id": "ca718eaf",
   "metadata": {},
   "source": [
    "## Get data from one patient and store in array"
   ]
  },
  {
   "cell_type": "code",
   "execution_count": 34,
   "id": "3ed49119",
   "metadata": {},
   "outputs": [],
   "source": [
    "def get_patient_data(data_path):\n",
    "    '''Loads raw data from image names of each class folder and assigns a label to it.'''\n",
    "    \n",
    "    target_dir=data_path\n",
    "\n",
    "    target_list=[target_dir+file for file in os.listdir(target_dir)]\n",
    "\n",
    "#     y_list=to_categorical(np.concatenate(np.array([[0]*len(target_list1),\n",
    "#                                                [1]*len(target_list2),\n",
    "#                                                [2]*len(target_list3)])),3)\n",
    "\n",
    "    X=np.array([read_ct_img_bydir(file) for file in target_list])[:,:,:,np.newaxis]\n",
    "\n",
    "    return X"
   ]
  },
  {
   "cell_type": "markdown",
   "id": "562c6993",
   "metadata": {},
   "source": [
    "## Assign classification to prediction"
   ]
  },
  {
   "cell_type": "code",
   "execution_count": 42,
   "id": "7aaaddb6",
   "metadata": {},
   "outputs": [],
   "source": [
    "def classify_prediction(prediction):\n",
    "    \n",
    "    y_pred_class = np.rint(prediction)\n",
    "    classification = -999\n",
    "    \n",
    "    ni = y_pred_class[:,0].sum()\n",
    "    pos = y_pred_class[:,1].sum()\n",
    "    neg = y_pred_class[:,2].sum()\n",
    "    \n",
    "#     if neg > pos:\n",
    "#         classification = 2 #negative\n",
    "#     elif pos > neg:\n",
    "#         classification = 1 #positive\n",
    "\n",
    "    if pos > 0:\n",
    "        classification = 1 #positive\n",
    "    elif pos <= 0:\n",
    "        classification = 2 #negative\n",
    "    \n",
    "    return classification, ni, pos, neg"
   ]
  },
  {
   "cell_type": "markdown",
   "id": "d1c57fb9",
   "metadata": {},
   "source": [
    "## Extract patient ID from path"
   ]
  },
  {
   "cell_type": "code",
   "execution_count": 43,
   "id": "a65ac902",
   "metadata": {},
   "outputs": [],
   "source": [
    "def get_patient_id(path):\n",
    "    pattern = \"Patient *[0-9]*\"\n",
    "    substring = re.search(pattern, path).group(0)\n",
    "    return substring"
   ]
  },
  {
   "cell_type": "code",
   "execution_count": 44,
   "id": "8be775e4",
   "metadata": {},
   "outputs": [
    {
     "name": "stdout",
     "output_type": "stream",
     "text": [
      "['../raw_data/CT_data/Patient 1264/CT/', '../raw_data/CT_data/Patient 534/CT/', '../raw_data/CT_data/Patient 1200/CT/', '../raw_data/CT_data/Patient 148/CT/', '../raw_data/CT_data/Patient 794/CT/', '../raw_data/CT_data/Patient 1215/CT/', '../raw_data/CT_data/Patient 375/CT/', '../raw_data/CT_data/Patient 1184/CT/', '../raw_data/CT_data/Patient 777/CT/', '../raw_data/CT_data/Patient 1177/CT/', '../raw_data/CT_data/Patient 121/CT/', '../raw_data/CT_data/Patient 1186/CT/', '../raw_data/CT_data/Patient 145/CT/', '../raw_data/CT_data/Patient 533/CT/', '../raw_data/CT_data/Patient 1180/CT/', '../raw_data/CT_data/Patient 1275/CT/', '../raw_data/CT_data/Patient 535/CT/', '../raw_data/CT_data/Patient 1188/CT/', '../raw_data/CT_data/Patient 1217/CT/', '../raw_data/CT_data/Patient 1179/CT/', '../raw_data/CT_data/Patient 1181/CT/', '../raw_data/CT_data/Patient 144/CT/', '../raw_data/CT_data/Patient 1185/CT/', '../raw_data/CT_data/Patient 1187/CT/', '../raw_data/CT_data/Patient 1182/CT/', '../raw_data/CT_data/Patient 1265/CT/', '../raw_data/CT_data/Patient 1176/CT/', '../raw_data/CT_data/Patient 168/CT/', '../raw_data/CT_data/Patient 1178/CT/']\n"
     ]
    }
   ],
   "source": [
    "main_dir = f'../raw_data/CT_data/'\n",
    "\n",
    "ct_paths = get_data_paths(main_dir)\n",
    "\n",
    "print(ct_paths)\n",
    "\n",
    "path = ct_paths[0]"
   ]
  },
  {
   "cell_type": "code",
   "execution_count": 45,
   "id": "73bb7161",
   "metadata": {},
   "outputs": [
    {
     "data": {
      "text/plain": [
       "['../raw_data/CT_data/Patient 1264/CT/',\n",
       " '../raw_data/CT_data/Patient 534/CT/',\n",
       " '../raw_data/CT_data/Patient 1200/CT/',\n",
       " '../raw_data/CT_data/Patient 148/CT/',\n",
       " '../raw_data/CT_data/Patient 794/CT/',\n",
       " '../raw_data/CT_data/Patient 1215/CT/',\n",
       " '../raw_data/CT_data/Patient 375/CT/',\n",
       " '../raw_data/CT_data/Patient 1184/CT/',\n",
       " '../raw_data/CT_data/Patient 777/CT/',\n",
       " '../raw_data/CT_data/Patient 1177/CT/',\n",
       " '../raw_data/CT_data/Patient 121/CT/',\n",
       " '../raw_data/CT_data/Patient 1186/CT/',\n",
       " '../raw_data/CT_data/Patient 145/CT/',\n",
       " '../raw_data/CT_data/Patient 533/CT/',\n",
       " '../raw_data/CT_data/Patient 1180/CT/',\n",
       " '../raw_data/CT_data/Patient 1275/CT/',\n",
       " '../raw_data/CT_data/Patient 535/CT/',\n",
       " '../raw_data/CT_data/Patient 1188/CT/',\n",
       " '../raw_data/CT_data/Patient 1217/CT/',\n",
       " '../raw_data/CT_data/Patient 1179/CT/',\n",
       " '../raw_data/CT_data/Patient 1181/CT/',\n",
       " '../raw_data/CT_data/Patient 144/CT/',\n",
       " '../raw_data/CT_data/Patient 1185/CT/',\n",
       " '../raw_data/CT_data/Patient 1187/CT/',\n",
       " '../raw_data/CT_data/Patient 1182/CT/',\n",
       " '../raw_data/CT_data/Patient 1265/CT/',\n",
       " '../raw_data/CT_data/Patient 1176/CT/',\n",
       " '../raw_data/CT_data/Patient 168/CT/',\n",
       " '../raw_data/CT_data/Patient 1178/CT/']"
      ]
     },
     "execution_count": 45,
     "metadata": {},
     "output_type": "execute_result"
    }
   ],
   "source": [
    "ct_paths"
   ]
  },
  {
   "cell_type": "code",
   "execution_count": null,
   "id": "161f042b",
   "metadata": {},
   "outputs": [],
   "source": [
    "pt_id_list = list()\n",
    "\n",
    "for path in ct_paths:\n",
    "    patient_id = get_patiend_id(path)\n",
    "    pt_id_list.append(patient_id)\n",
    "    "
   ]
  },
  {
   "cell_type": "markdown",
   "id": "abbd7f45",
   "metadata": {},
   "source": [
    "## Load model, get prediction & classification, create DataFrame"
   ]
  },
  {
   "cell_type": "code",
   "execution_count": 47,
   "id": "d54d3852",
   "metadata": {},
   "outputs": [
    {
     "name": "stdout",
     "output_type": "stream",
     "text": [
      "Processing:  ../raw_data/CT_data/Patient 1264/CT/\n",
      "Processing:  ../raw_data/CT_data/Patient 534/CT/\n",
      "Processing:  ../raw_data/CT_data/Patient 1200/CT/\n",
      "Processing:  ../raw_data/CT_data/Patient 148/CT/\n",
      "Processing:  ../raw_data/CT_data/Patient 794/CT/\n",
      "Processing:  ../raw_data/CT_data/Patient 1215/CT/\n",
      "Processing:  ../raw_data/CT_data/Patient 375/CT/\n",
      "Processing:  ../raw_data/CT_data/Patient 1184/CT/\n",
      "Processing:  ../raw_data/CT_data/Patient 777/CT/\n",
      "Processing:  ../raw_data/CT_data/Patient 1177/CT/\n",
      "Processing:  ../raw_data/CT_data/Patient 121/CT/\n",
      "Processing:  ../raw_data/CT_data/Patient 1186/CT/\n",
      "Processing:  ../raw_data/CT_data/Patient 145/CT/\n",
      "Processing:  ../raw_data/CT_data/Patient 533/CT/\n",
      "Processing:  ../raw_data/CT_data/Patient 1180/CT/\n",
      "Processing:  ../raw_data/CT_data/Patient 1275/CT/\n",
      "Processing:  ../raw_data/CT_data/Patient 535/CT/\n",
      "Processing:  ../raw_data/CT_data/Patient 1188/CT/\n",
      "Processing:  ../raw_data/CT_data/Patient 1217/CT/\n",
      "Processing:  ../raw_data/CT_data/Patient 1179/CT/\n",
      "Processing:  ../raw_data/CT_data/Patient 1181/CT/\n",
      "Processing:  ../raw_data/CT_data/Patient 144/CT/\n",
      "Processing:  ../raw_data/CT_data/Patient 1185/CT/\n",
      "Processing:  ../raw_data/CT_data/Patient 1187/CT/\n",
      "Processing:  ../raw_data/CT_data/Patient 1182/CT/\n",
      "Processing:  ../raw_data/CT_data/Patient 1265/CT/\n",
      "Processing:  ../raw_data/CT_data/Patient 1176/CT/\n",
      "Processing:  ../raw_data/CT_data/Patient 168/CT/\n",
      "Processing:  ../raw_data/CT_data/Patient 1178/CT/\n"
     ]
    }
   ],
   "source": [
    "predictions = pd.DataFrame()\n",
    "predictions['patient_id']=''\n",
    "predictions['prediction']=''\n",
    "predictions['niCT_slices']=''\n",
    "predictions['pCT_slices']=''\n",
    "predictions['nCT_slices']=''\n",
    "\n",
    "for path in ct_paths:\n",
    "    X = get_patient_data(path)\n",
    "    print('Processing: ',path)\n",
    "    y_pred = model_labeledCT.predict(X)\n",
    "\n",
    "    patient_id = get_patient_id(path)\n",
    "    \n",
    "    classification, ni, pos, neg = classify_prediction(y_pred)\n",
    "    total_ct = int(ni) + int(pos) + int(neg)\n",
    "    #df = df.append({'a':1, 'b':2}, ignore_index=True)\n",
    "    predictions = predictions.append({'patient_id': patient_id, 'prediction': classification, 'niCT_slices': ni, 'pCT_slices': pos,'nCT_slices':neg, 'total_CT_slices': total_ct}, ignore_index = True)    "
   ]
  },
  {
   "cell_type": "code",
   "execution_count": 51,
   "id": "0dfe14f7",
   "metadata": {},
   "outputs": [
    {
     "data": {
      "text/html": [
       "<div>\n",
       "<style scoped>\n",
       "    .dataframe tbody tr th:only-of-type {\n",
       "        vertical-align: middle;\n",
       "    }\n",
       "\n",
       "    .dataframe tbody tr th {\n",
       "        vertical-align: top;\n",
       "    }\n",
       "\n",
       "    .dataframe thead th {\n",
       "        text-align: right;\n",
       "    }\n",
       "</style>\n",
       "<table border=\"1\" class=\"dataframe\">\n",
       "  <thead>\n",
       "    <tr style=\"text-align: right;\">\n",
       "      <th></th>\n",
       "      <th>patient_id</th>\n",
       "      <th>prediction</th>\n",
       "      <th>niCT_slices</th>\n",
       "      <th>pCT_slices</th>\n",
       "      <th>nCT_slices</th>\n",
       "      <th>total_CT_slices</th>\n",
       "    </tr>\n",
       "  </thead>\n",
       "  <tbody>\n",
       "    <tr>\n",
       "      <th>14</th>\n",
       "      <td>Patient 1180</td>\n",
       "      <td>1</td>\n",
       "      <td>73.0</td>\n",
       "      <td>15.0</td>\n",
       "      <td>57.0</td>\n",
       "      <td>145.0</td>\n",
       "    </tr>\n",
       "    <tr>\n",
       "      <th>25</th>\n",
       "      <td>Patient 1265</td>\n",
       "      <td>1</td>\n",
       "      <td>45.0</td>\n",
       "      <td>89.0</td>\n",
       "      <td>20.0</td>\n",
       "      <td>154.0</td>\n",
       "    </tr>\n",
       "    <tr>\n",
       "      <th>17</th>\n",
       "      <td>Patient 1188</td>\n",
       "      <td>1</td>\n",
       "      <td>52.0</td>\n",
       "      <td>5.0</td>\n",
       "      <td>84.0</td>\n",
       "      <td>141.0</td>\n",
       "    </tr>\n",
       "    <tr>\n",
       "      <th>13</th>\n",
       "      <td>Patient 533</td>\n",
       "      <td>1</td>\n",
       "      <td>106.0</td>\n",
       "      <td>6.0</td>\n",
       "      <td>182.0</td>\n",
       "      <td>294.0</td>\n",
       "    </tr>\n",
       "    <tr>\n",
       "      <th>12</th>\n",
       "      <td>Patient 145</td>\n",
       "      <td>1</td>\n",
       "      <td>90.0</td>\n",
       "      <td>238.0</td>\n",
       "      <td>16.0</td>\n",
       "      <td>344.0</td>\n",
       "    </tr>\n",
       "    <tr>\n",
       "      <th>11</th>\n",
       "      <td>Patient 1186</td>\n",
       "      <td>1</td>\n",
       "      <td>91.0</td>\n",
       "      <td>2.0</td>\n",
       "      <td>116.0</td>\n",
       "      <td>209.0</td>\n",
       "    </tr>\n",
       "    <tr>\n",
       "      <th>9</th>\n",
       "      <td>Patient 1177</td>\n",
       "      <td>1</td>\n",
       "      <td>71.0</td>\n",
       "      <td>1.0</td>\n",
       "      <td>127.0</td>\n",
       "      <td>199.0</td>\n",
       "    </tr>\n",
       "    <tr>\n",
       "      <th>8</th>\n",
       "      <td>Patient 777</td>\n",
       "      <td>1</td>\n",
       "      <td>91.0</td>\n",
       "      <td>131.0</td>\n",
       "      <td>9.0</td>\n",
       "      <td>231.0</td>\n",
       "    </tr>\n",
       "    <tr>\n",
       "      <th>28</th>\n",
       "      <td>Patient 1178</td>\n",
       "      <td>1</td>\n",
       "      <td>67.0</td>\n",
       "      <td>2.0</td>\n",
       "      <td>68.0</td>\n",
       "      <td>137.0</td>\n",
       "    </tr>\n",
       "    <tr>\n",
       "      <th>1</th>\n",
       "      <td>Patient 534</td>\n",
       "      <td>1</td>\n",
       "      <td>75.0</td>\n",
       "      <td>5.0</td>\n",
       "      <td>203.0</td>\n",
       "      <td>283.0</td>\n",
       "    </tr>\n",
       "    <tr>\n",
       "      <th>2</th>\n",
       "      <td>Patient 1200</td>\n",
       "      <td>1</td>\n",
       "      <td>19.0</td>\n",
       "      <td>1.0</td>\n",
       "      <td>110.0</td>\n",
       "      <td>130.0</td>\n",
       "    </tr>\n",
       "    <tr>\n",
       "      <th>6</th>\n",
       "      <td>Patient 375</td>\n",
       "      <td>2</td>\n",
       "      <td>17.0</td>\n",
       "      <td>0.0</td>\n",
       "      <td>45.0</td>\n",
       "      <td>62.0</td>\n",
       "    </tr>\n",
       "    <tr>\n",
       "      <th>26</th>\n",
       "      <td>Patient 1176</td>\n",
       "      <td>2</td>\n",
       "      <td>81.0</td>\n",
       "      <td>0.0</td>\n",
       "      <td>87.0</td>\n",
       "      <td>168.0</td>\n",
       "    </tr>\n",
       "    <tr>\n",
       "      <th>24</th>\n",
       "      <td>Patient 1182</td>\n",
       "      <td>2</td>\n",
       "      <td>63.0</td>\n",
       "      <td>0.0</td>\n",
       "      <td>91.0</td>\n",
       "      <td>154.0</td>\n",
       "    </tr>\n",
       "    <tr>\n",
       "      <th>23</th>\n",
       "      <td>Patient 1187</td>\n",
       "      <td>2</td>\n",
       "      <td>41.0</td>\n",
       "      <td>0.0</td>\n",
       "      <td>128.0</td>\n",
       "      <td>169.0</td>\n",
       "    </tr>\n",
       "    <tr>\n",
       "      <th>22</th>\n",
       "      <td>Patient 1185</td>\n",
       "      <td>2</td>\n",
       "      <td>97.0</td>\n",
       "      <td>0.0</td>\n",
       "      <td>130.0</td>\n",
       "      <td>227.0</td>\n",
       "    </tr>\n",
       "    <tr>\n",
       "      <th>21</th>\n",
       "      <td>Patient 144</td>\n",
       "      <td>2</td>\n",
       "      <td>17.0</td>\n",
       "      <td>0.0</td>\n",
       "      <td>46.0</td>\n",
       "      <td>63.0</td>\n",
       "    </tr>\n",
       "    <tr>\n",
       "      <th>20</th>\n",
       "      <td>Patient 1181</td>\n",
       "      <td>2</td>\n",
       "      <td>50.0</td>\n",
       "      <td>0.0</td>\n",
       "      <td>110.0</td>\n",
       "      <td>160.0</td>\n",
       "    </tr>\n",
       "    <tr>\n",
       "      <th>19</th>\n",
       "      <td>Patient 1179</td>\n",
       "      <td>2</td>\n",
       "      <td>53.0</td>\n",
       "      <td>0.0</td>\n",
       "      <td>94.0</td>\n",
       "      <td>147.0</td>\n",
       "    </tr>\n",
       "    <tr>\n",
       "      <th>18</th>\n",
       "      <td>Patient 1217</td>\n",
       "      <td>2</td>\n",
       "      <td>74.0</td>\n",
       "      <td>0.0</td>\n",
       "      <td>77.0</td>\n",
       "      <td>151.0</td>\n",
       "    </tr>\n",
       "    <tr>\n",
       "      <th>16</th>\n",
       "      <td>Patient 535</td>\n",
       "      <td>2</td>\n",
       "      <td>60.0</td>\n",
       "      <td>0.0</td>\n",
       "      <td>106.0</td>\n",
       "      <td>166.0</td>\n",
       "    </tr>\n",
       "    <tr>\n",
       "      <th>15</th>\n",
       "      <td>Patient 1275</td>\n",
       "      <td>2</td>\n",
       "      <td>61.0</td>\n",
       "      <td>0.0</td>\n",
       "      <td>94.0</td>\n",
       "      <td>155.0</td>\n",
       "    </tr>\n",
       "    <tr>\n",
       "      <th>27</th>\n",
       "      <td>Patient 168</td>\n",
       "      <td>2</td>\n",
       "      <td>191.0</td>\n",
       "      <td>0.0</td>\n",
       "      <td>321.0</td>\n",
       "      <td>512.0</td>\n",
       "    </tr>\n",
       "    <tr>\n",
       "      <th>3</th>\n",
       "      <td>Patient 148</td>\n",
       "      <td>2</td>\n",
       "      <td>20.0</td>\n",
       "      <td>0.0</td>\n",
       "      <td>50.0</td>\n",
       "      <td>70.0</td>\n",
       "    </tr>\n",
       "    <tr>\n",
       "      <th>4</th>\n",
       "      <td>Patient 794</td>\n",
       "      <td>2</td>\n",
       "      <td>57.0</td>\n",
       "      <td>0.0</td>\n",
       "      <td>213.0</td>\n",
       "      <td>270.0</td>\n",
       "    </tr>\n",
       "    <tr>\n",
       "      <th>5</th>\n",
       "      <td>Patient 1215</td>\n",
       "      <td>2</td>\n",
       "      <td>51.0</td>\n",
       "      <td>0.0</td>\n",
       "      <td>99.0</td>\n",
       "      <td>150.0</td>\n",
       "    </tr>\n",
       "    <tr>\n",
       "      <th>10</th>\n",
       "      <td>Patient 121</td>\n",
       "      <td>2</td>\n",
       "      <td>24.0</td>\n",
       "      <td>0.0</td>\n",
       "      <td>42.0</td>\n",
       "      <td>66.0</td>\n",
       "    </tr>\n",
       "    <tr>\n",
       "      <th>7</th>\n",
       "      <td>Patient 1184</td>\n",
       "      <td>2</td>\n",
       "      <td>52.0</td>\n",
       "      <td>0.0</td>\n",
       "      <td>89.0</td>\n",
       "      <td>141.0</td>\n",
       "    </tr>\n",
       "    <tr>\n",
       "      <th>0</th>\n",
       "      <td>Patient 1264</td>\n",
       "      <td>2</td>\n",
       "      <td>55.0</td>\n",
       "      <td>0.0</td>\n",
       "      <td>136.0</td>\n",
       "      <td>191.0</td>\n",
       "    </tr>\n",
       "  </tbody>\n",
       "</table>\n",
       "</div>"
      ],
      "text/plain": [
       "      patient_id prediction  niCT_slices  pCT_slices  nCT_slices  \\\n",
       "14  Patient 1180          1         73.0        15.0        57.0   \n",
       "25  Patient 1265          1         45.0        89.0        20.0   \n",
       "17  Patient 1188          1         52.0         5.0        84.0   \n",
       "13   Patient 533          1        106.0         6.0       182.0   \n",
       "12   Patient 145          1         90.0       238.0        16.0   \n",
       "11  Patient 1186          1         91.0         2.0       116.0   \n",
       "9   Patient 1177          1         71.0         1.0       127.0   \n",
       "8    Patient 777          1         91.0       131.0         9.0   \n",
       "28  Patient 1178          1         67.0         2.0        68.0   \n",
       "1    Patient 534          1         75.0         5.0       203.0   \n",
       "2   Patient 1200          1         19.0         1.0       110.0   \n",
       "6    Patient 375          2         17.0         0.0        45.0   \n",
       "26  Patient 1176          2         81.0         0.0        87.0   \n",
       "24  Patient 1182          2         63.0         0.0        91.0   \n",
       "23  Patient 1187          2         41.0         0.0       128.0   \n",
       "22  Patient 1185          2         97.0         0.0       130.0   \n",
       "21   Patient 144          2         17.0         0.0        46.0   \n",
       "20  Patient 1181          2         50.0         0.0       110.0   \n",
       "19  Patient 1179          2         53.0         0.0        94.0   \n",
       "18  Patient 1217          2         74.0         0.0        77.0   \n",
       "16   Patient 535          2         60.0         0.0       106.0   \n",
       "15  Patient 1275          2         61.0         0.0        94.0   \n",
       "27   Patient 168          2        191.0         0.0       321.0   \n",
       "3    Patient 148          2         20.0         0.0        50.0   \n",
       "4    Patient 794          2         57.0         0.0       213.0   \n",
       "5   Patient 1215          2         51.0         0.0        99.0   \n",
       "10   Patient 121          2         24.0         0.0        42.0   \n",
       "7   Patient 1184          2         52.0         0.0        89.0   \n",
       "0   Patient 1264          2         55.0         0.0       136.0   \n",
       "\n",
       "    total_CT_slices  \n",
       "14            145.0  \n",
       "25            154.0  \n",
       "17            141.0  \n",
       "13            294.0  \n",
       "12            344.0  \n",
       "11            209.0  \n",
       "9             199.0  \n",
       "8             231.0  \n",
       "28            137.0  \n",
       "1             283.0  \n",
       "2             130.0  \n",
       "6              62.0  \n",
       "26            168.0  \n",
       "24            154.0  \n",
       "23            169.0  \n",
       "22            227.0  \n",
       "21             63.0  \n",
       "20            160.0  \n",
       "19            147.0  \n",
       "18            151.0  \n",
       "16            166.0  \n",
       "15            155.0  \n",
       "27            512.0  \n",
       "3              70.0  \n",
       "4             270.0  \n",
       "5             150.0  \n",
       "10             66.0  \n",
       "7             141.0  \n",
       "0             191.0  "
      ]
     },
     "execution_count": 51,
     "metadata": {},
     "output_type": "execute_result"
    }
   ],
   "source": [
    "predictions.sort_values(by='prediction', ascending=True)"
   ]
  },
  {
   "cell_type": "code",
   "execution_count": null,
   "id": "c454d97d",
   "metadata": {},
   "outputs": [],
   "source": []
  },
  {
   "cell_type": "code",
   "execution_count": null,
   "id": "91ea58be",
   "metadata": {},
   "outputs": [],
   "source": []
  },
  {
   "cell_type": "code",
   "execution_count": null,
   "id": "5ef0cf60",
   "metadata": {},
   "outputs": [],
   "source": []
  },
  {
   "cell_type": "markdown",
   "id": "78e74bdd",
   "metadata": {},
   "source": [
    "# Explore Data"
   ]
  },
  {
   "cell_type": "code",
   "execution_count": 13,
   "id": "51f2147d",
   "metadata": {},
   "outputs": [],
   "source": [
    "# get data of all patients in list or directory"
   ]
  },
  {
   "cell_type": "code",
   "execution_count": 58,
   "id": "cae91903",
   "metadata": {},
   "outputs": [],
   "source": [
    "X1 = get_patient_data('Patient 751')"
   ]
  },
  {
   "cell_type": "code",
   "execution_count": 59,
   "id": "6ad972b8",
   "metadata": {},
   "outputs": [],
   "source": [
    "X2 = get_patient_data('Patient 806')"
   ]
  },
  {
   "cell_type": "code",
   "execution_count": 187,
   "id": "c96c04f7",
   "metadata": {},
   "outputs": [],
   "source": [
    "X3 = get_patient_data('Patient 805b')"
   ]
  },
  {
   "cell_type": "code",
   "execution_count": 60,
   "id": "d4fc40ab",
   "metadata": {},
   "outputs": [
    {
     "data": {
      "text/plain": [
       "(139, 200, 200, 1)"
      ]
     },
     "execution_count": 60,
     "metadata": {},
     "output_type": "execute_result"
    }
   ],
   "source": [
    "X1.shape"
   ]
  },
  {
   "cell_type": "code",
   "execution_count": 61,
   "id": "dbd9e24b",
   "metadata": {},
   "outputs": [
    {
     "data": {
      "text/plain": [
       "(220, 200, 200, 1)"
      ]
     },
     "execution_count": 61,
     "metadata": {},
     "output_type": "execute_result"
    }
   ],
   "source": [
    "X2.shape"
   ]
  },
  {
   "cell_type": "code",
   "execution_count": 188,
   "id": "30ba2804",
   "metadata": {},
   "outputs": [
    {
     "data": {
      "text/plain": [
       "(51, 200, 200, 1)"
      ]
     },
     "execution_count": 188,
     "metadata": {},
     "output_type": "execute_result"
    }
   ],
   "source": [
    "X3.shape"
   ]
  },
  {
   "cell_type": "code",
   "execution_count": 131,
   "id": "adb47cbd",
   "metadata": {},
   "outputs": [
    {
     "data": {
      "text/plain": [
       "(139, 3)"
      ]
     },
     "execution_count": 131,
     "metadata": {},
     "output_type": "execute_result"
    }
   ],
   "source": [
    "y1_pred = model_labeledCT.predict(X1)\n",
    "y1_pred.shape"
   ]
  },
  {
   "cell_type": "code",
   "execution_count": 63,
   "id": "9245fee7",
   "metadata": {},
   "outputs": [],
   "source": [
    "y2_pred = model_labeledCT.predict(X2)"
   ]
  },
  {
   "cell_type": "code",
   "execution_count": 189,
   "id": "043165d5",
   "metadata": {},
   "outputs": [],
   "source": [
    "y3_pred = model_labeledCT.predict(X3)"
   ]
  },
  {
   "cell_type": "code",
   "execution_count": 132,
   "id": "fe354289",
   "metadata": {},
   "outputs": [
    {
     "data": {
      "text/plain": [
       "(139, 3)"
      ]
     },
     "execution_count": 132,
     "metadata": {},
     "output_type": "execute_result"
    }
   ],
   "source": [
    "y1_pred_class = np.rint(y1_pred)\n",
    "y1_pred_class.shape"
   ]
  },
  {
   "cell_type": "code",
   "execution_count": 159,
   "id": "12d52a06",
   "metadata": {},
   "outputs": [
    {
     "data": {
      "text/plain": [
       "22.0"
      ]
     },
     "execution_count": 159,
     "metadata": {},
     "output_type": "execute_result"
    }
   ],
   "source": [
    "y2_pred_class = np.rint(y2_pred)\n",
    "y2_pred_class[:,2].sum()"
   ]
  },
  {
   "cell_type": "code",
   "execution_count": 190,
   "id": "edcc0e99",
   "metadata": {},
   "outputs": [],
   "source": [
    "y3_pred_class = np.rint(y3_pred)"
   ]
  },
  {
   "cell_type": "code",
   "execution_count": 133,
   "id": "1ca5c5fe",
   "metadata": {
    "scrolled": false
   },
   "outputs": [
    {
     "data": {
      "text/plain": [
       "(139, 3)"
      ]
     },
     "execution_count": 133,
     "metadata": {},
     "output_type": "execute_result"
    }
   ],
   "source": [
    "y1_pred_class = y1_pred_class.astype(int);\n",
    "y1_pred_class.shape"
   ]
  },
  {
   "cell_type": "code",
   "execution_count": 125,
   "id": "a5a2afad",
   "metadata": {
    "scrolled": false
   },
   "outputs": [],
   "source": [
    "y2_pred_class = y2_pred_class.astype(int);\n",
    "y2_pred_class;"
   ]
  },
  {
   "cell_type": "code",
   "execution_count": 191,
   "id": "aa18f2bf",
   "metadata": {
    "scrolled": false
   },
   "outputs": [
    {
     "data": {
      "text/plain": [
       "(51, 3)"
      ]
     },
     "execution_count": 191,
     "metadata": {},
     "output_type": "execute_result"
    }
   ],
   "source": [
    "y3_pred_class = y3_pred_class.astype(int);\n",
    "y3_pred_class.shape"
   ]
  },
  {
   "cell_type": "code",
   "execution_count": 176,
   "id": "04bed612",
   "metadata": {},
   "outputs": [
    {
     "data": {
      "text/plain": [
       "73"
      ]
     },
     "execution_count": 176,
     "metadata": {},
     "output_type": "execute_result"
    }
   ],
   "source": [
    "# number negative CTs\n",
    "neg1 = y1_pred_class[:,2].sum()\n",
    "neg1"
   ]
  },
  {
   "cell_type": "code",
   "execution_count": 170,
   "id": "6c1d5a18",
   "metadata": {},
   "outputs": [],
   "source": [
    "test = list(y1_pred_class)"
   ]
  },
  {
   "cell_type": "code",
   "execution_count": 171,
   "id": "3b19e5b5",
   "metadata": {},
   "outputs": [
    {
     "data": {
      "text/plain": [
       "139.0"
      ]
     },
     "execution_count": 171,
     "metadata": {},
     "output_type": "execute_result"
    }
   ],
   "source": [
    "y_pred_class.sum()"
   ]
  },
  {
   "cell_type": "code",
   "execution_count": 172,
   "id": "89ed8b5a",
   "metadata": {},
   "outputs": [
    {
     "data": {
      "text/plain": [
       "0"
      ]
     },
     "execution_count": 172,
     "metadata": {},
     "output_type": "execute_result"
    }
   ],
   "source": [
    "# number positive CTs\n",
    "pos1 = y1_pred_class[:,1].sum()\n",
    "pos1"
   ]
  },
  {
   "cell_type": "code",
   "execution_count": 177,
   "id": "ce2a4a15",
   "metadata": {},
   "outputs": [
    {
     "data": {
      "text/plain": [
       "66"
      ]
     },
     "execution_count": 177,
     "metadata": {},
     "output_type": "execute_result"
    }
   ],
   "source": [
    "# number non-informative CTs\n",
    "ni1 = y1_pred_class[:,0].sum()\n",
    "ni1"
   ]
  },
  {
   "cell_type": "code",
   "execution_count": 178,
   "id": "db0a3688",
   "metadata": {},
   "outputs": [],
   "source": [
    "# number negative CTs\n",
    "neg2 = y2_pred_class[:,2].sum()"
   ]
  },
  {
   "cell_type": "code",
   "execution_count": 179,
   "id": "00bcf78d",
   "metadata": {},
   "outputs": [],
   "source": [
    "# number positive CTs\n",
    "pos2 = y2_pred_class[:,1].sum()"
   ]
  },
  {
   "cell_type": "code",
   "execution_count": 180,
   "id": "5ca5b321",
   "metadata": {},
   "outputs": [],
   "source": [
    "# number non-informative CTs\n",
    "ni2 = y2_pred_class[:,0].sum()"
   ]
  },
  {
   "cell_type": "code",
   "execution_count": 192,
   "id": "c2798287",
   "metadata": {},
   "outputs": [],
   "source": [
    "# number negative CTs\n",
    "neg3 = y3_pred_class[:,2].sum()"
   ]
  },
  {
   "cell_type": "code",
   "execution_count": 193,
   "id": "3df32bc6",
   "metadata": {},
   "outputs": [],
   "source": [
    "# number positive CTs\n",
    "pos3 = y3_pred_class[:,1].sum()"
   ]
  },
  {
   "cell_type": "code",
   "execution_count": 194,
   "id": "a503711a",
   "metadata": {},
   "outputs": [],
   "source": [
    "# number non-informative CTs\n",
    "ni3 = y3_pred_class[:,0].sum()"
   ]
  },
  {
   "cell_type": "code",
   "execution_count": 184,
   "id": "ab31f5e4",
   "metadata": {},
   "outputs": [
    {
     "data": {
      "image/png": "[encoded data removed]",
      "text/plain": [
       "<Figure size 432x288 with 1 Axes>"
      ]
     },
     "metadata": {
      "needs_background": "light"
     },
     "output_type": "display_data"
    }
   ],
   "source": [
    "plt.bar(['negative', 'positive', 'non-informative'],[neg1, pos1, ni1])\n",
    "plt.title('Patient 751 - C19 negative');\n",
    "plt.ylabel('# CT slices');\n",
    "plt.xlabel('labels');"
   ]
  },
  {
   "cell_type": "code",
   "execution_count": 185,
   "id": "ee8bb5fd",
   "metadata": {},
   "outputs": [
    {
     "data": {
      "image/png": "[encoded data removed]",
      "text/plain": [
       "<Figure size 432x288 with 1 Axes>"
      ]
     },
     "metadata": {
      "needs_background": "light"
     },
     "output_type": "display_data"
    }
   ],
   "source": [
    "plt.bar(['negative', 'positive', 'non-informative'],[neg2, pos2, ni2])\n",
    "plt.title('Patient 806 - C19 positive');\n",
    "plt.ylabel('# CT slices');\n",
    "plt.xlabel('labels');"
   ]
  },
  {
   "cell_type": "code",
   "execution_count": 195,
   "id": "dc30be36",
   "metadata": {},
   "outputs": [
    {
     "data": {
      "image/png": "[encoded data removed]",
      "text/plain": [
       "<Figure size 432x288 with 1 Axes>"
      ]
     },
     "metadata": {
      "needs_background": "light"
     },
     "output_type": "display_data"
    }
   ],
   "source": [
    "plt.bar(['negative', 'positive', 'non-informative'],[neg3, pos3, ni3])\n",
    "plt.title('Patient 805 - C19 positive');\n",
    "plt.ylabel('# CT slices');\n",
    "plt.xlabel('labels');"
   ]
  },
  {
   "cell_type": "code",
   "execution_count": null,
   "id": "d9e566c9",
   "metadata": {},
   "outputs": [],
   "source": []
  }
 ],
 "metadata": {
  "kernelspec": {
   "display_name": "Python 3",
   "language": "python",
   "name": "python3"
  },
  "language_info": {
   "codemirror_mode": {
    "name": "ipython",
    "version": 3
   },
   "file_extension": ".py",
   "mimetype": "text/x-python",
   "name": "python",
   "nbconvert_exporter": "python",
   "pygments_lexer": "ipython3",
   "version": "3.8.6"
  },
  "toc": {
   "base_numbering": 1,
   "nav_menu": {},
   "number_sections": true,
   "sideBar": true,
   "skip_h1_title": false,
   "title_cell": "Table of Contents",
   "title_sidebar": "Contents",
   "toc_cell": false,
   "toc_position": {},
   "toc_section_display": true,
   "toc_window_display": false
  }
 },
 "nbformat": 4,
 "nbformat_minor": 5
}
