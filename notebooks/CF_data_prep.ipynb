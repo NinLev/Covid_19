{
 "cells": [
  {
   "cell_type": "markdown",
   "id": "cd480f7c",
   "metadata": {},
   "source": [
    "## Clinical Features Data Prep"
   ]
  },
  {
   "cell_type": "code",
   "execution_count": 1,
   "id": "010241ef",
   "metadata": {},
   "outputs": [],
   "source": [
    "import pandas as pd"
   ]
  },
  {
   "cell_type": "code",
   "execution_count": 1,
   "id": "dbec47f8",
   "metadata": {},
   "outputs": [],
   "source": [
    "#df = pd.read_table('/home/adduser/code/NinLev/Covid_19/raw_data/CF_data/CF_dataset.txt')"
   ]
  },
  {
   "cell_type": "code",
   "execution_count": 2,
   "id": "42f571f2",
   "metadata": {
    "scrolled": true
   },
   "outputs": [],
   "source": [
    "#df"
   ]
  },
  {
   "cell_type": "code",
   "execution_count": null,
   "id": "131fafe3",
   "metadata": {},
   "outputs": [],
   "source": []
  }
 ],
 "metadata": {
  "kernelspec": {
   "display_name": "Python 3",
   "language": "python",
   "name": "python3"
  },
  "language_info": {
   "codemirror_mode": {
    "name": "ipython",
    "version": 3
   },
   "file_extension": ".py",
   "mimetype": "text/x-python",
   "name": "python",
   "nbconvert_exporter": "python",
   "pygments_lexer": "ipython3",
   "version": "3.8.6"
  },
  "toc": {
   "base_numbering": 1,
   "nav_menu": {},
   "number_sections": true,
   "sideBar": true,
   "skip_h1_title": false,
   "title_cell": "Table of Contents",
   "title_sidebar": "Contents",
   "toc_cell": false,
   "toc_position": {},
   "toc_section_display": true,
   "toc_window_display": false
  }
 },
 "nbformat": 4,
 "nbformat_minor": 5
}
