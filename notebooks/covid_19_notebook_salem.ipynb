{
 "cells": [
  {
   "cell_type": "code",
   "execution_count": 21,
   "id": "e64a542c",
   "metadata": {},
   "outputs": [],
   "source": [
    "#from Covid_19.web_page import plotty\n",
    "\n",
    "import cv2\n",
    "\n"
   ]
  },
  {
   "cell_type": "code",
   "execution_count": null,
   "id": "2dff27e0",
   "metadata": {},
   "outputs": [],
   "source": [
    " \n",
    "    "
   ]
  },
  {
   "cell_type": "code",
   "execution_count": 6,
   "id": "65785260",
   "metadata": {},
   "outputs": [],
   "source": [
    "import os\n",
    "import sys\n",
    "module_path = os.path.abspath(os.path.join('..'))\n",
    "if module_path not in sys.path:\n",
    "    sys.path.append(module_path)\n",
    "    "
   ]
  },
  {
   "cell_type": "code",
   "execution_count": null,
   "id": "a553b88d",
   "metadata": {},
   "outputs": [],
   "source": []
  },
  {
   "cell_type": "code",
   "execution_count": 22,
   "id": "0bf63cf8",
   "metadata": {},
   "outputs": [],
   "source": [
    "#from Covid_19.web_page import uploaded_file\n",
    "\n"
   ]
  },
  {
   "cell_type": "code",
   "execution_count": 23,
   "id": "01fc0cd6",
   "metadata": {},
   "outputs": [],
   "source": [
    "from joblib import load"
   ]
  },
  {
   "cell_type": "code",
   "execution_count": 29,
   "id": "4eabe9e5",
   "metadata": {},
   "outputs": [],
   "source": [
    "#loaded_model = load('../notebooks/model2.joblib')"
   ]
  },
  {
   "cell_type": "code",
   "execution_count": 3,
   "id": "8599bfaa",
   "metadata": {},
   "outputs": [
    {
     "name": "stdout",
     "output_type": "stream",
     "text": [
      "/home/leesalem/code/NinLev/Covid_19/notebooks\r\n"
     ]
    }
   ],
   "source": [
    "!pwd\n",
    "\n",
    "\n"
   ]
  },
  {
   "cell_type": "code",
   "execution_count": 34,
   "id": "ec5da32e",
   "metadata": {},
   "outputs": [],
   "source": [
    "def plot_loss_accuracy(history):\n",
    "    plt.plot(history.history['loss'])\n",
    "    plt.plot(history.history['val_loss'])\n",
    "    plt.title('Model loss')\n",
    "    plt.ylabel('Loss')\n",
    "    plt.xlabel('Epoch')\n",
    "    plt.legend(['Train', 'Test'], loc='best')\n",
    "    plt.show()\n",
    "    \n",
    "    plt.plot(history.history['accuracy'])\n",
    "    plt.plot(history.history['val_accuracy'])\n",
    "    plt.title('Model Accuracy')\n",
    "    plt.ylabel('Accuracy')\n",
    "    plt.xlabel('Epoch')\n",
    "    plt.legend(['Train', 'Test'], loc='best')\n",
    "    plt.show()"
   ]
  },
  {
   "cell_type": "code",
   "execution_count": null,
   "id": "a3e00242",
   "metadata": {},
   "outputs": [],
   "source": []
  },
  {
   "cell_type": "code",
   "execution_count": 41,
   "id": "4dd6c5cc",
   "metadata": {},
   "outputs": [],
   "source": [
    "counter = random.randrange(10000)\n",
    "list_of_names = []\n",
    "for i in range(5):\n",
    "    counter +=1\n",
    "    image_name = f\"image_numer({counter})\"\n",
    "    list_of_names.append(image_name)\n",
    "    "
   ]
  },
  {
   "cell_type": "code",
   "execution_count": 42,
   "id": "f4373696",
   "metadata": {},
   "outputs": [
    {
     "data": {
      "text/plain": [
       "['image_numer(1599)',\n",
       " 'image_numer(1600)',\n",
       " 'image_numer(1601)',\n",
       " 'image_numer(1602)',\n",
       " 'image_numer(1603)']"
      ]
     },
     "execution_count": 42,
     "metadata": {},
     "output_type": "execute_result"
    }
   ],
   "source": [
    "list_of_names\n"
   ]
  },
  {
   "cell_type": "code",
   "execution_count": 14,
   "id": "ea19e716",
   "metadata": {},
   "outputs": [],
   "source": [
    "import random"
   ]
  },
  {
   "cell_type": "code",
   "execution_count": 16,
   "id": "7bfed3ae",
   "metadata": {
    "scrolled": true
   },
   "outputs": [
    {
     "data": {
      "text/plain": [
       "974187"
      ]
     },
     "execution_count": 16,
     "metadata": {},
     "output_type": "execute_result"
    }
   ],
   "source": [
    "random.randrange(999999) "
   ]
  },
  {
   "cell_type": "code",
   "execution_count": null,
   "id": "374a2411",
   "metadata": {},
   "outputs": [],
   "source": []
  },
  {
   "cell_type": "markdown",
   "id": "477d78df",
   "metadata": {},
   "source": [
    "## MODELING \n"
   ]
  },
  {
   "cell_type": "code",
   "execution_count": 1,
   "id": "a500e07e",
   "metadata": {},
   "outputs": [],
   "source": [
    "\n",
    "import pandas as pd\n",
    "import numpy as np\n",
    "import cv2\n",
    "import os\n",
    "import matplotlib.pyplot as plt\n",
    "import tensorflow\n",
    "from tensorflow.keras.utils import to_categorical\n",
    "from sklearn.model_selection import train_test_split\n",
    "\n",
    "from tensorflow.keras import callbacks\n"
   ]
  },
  {
   "cell_type": "code",
   "execution_count": 2,
   "id": "b2beca11",
   "metadata": {},
   "outputs": [],
   "source": [
    "def read_ct_img_bydir(target_dir):\n",
    "    img=cv2.imdecode(np.fromfile(target_dir,dtype=np.uint8),cv2.IMREAD_GRAYSCALE)\n",
    "    #img = corp_margin(img)\n",
    "    img=cv2.resize(img,(200,200))\n",
    "    \n",
    "    return img\n"
   ]
  },
  {
   "cell_type": "code",
   "execution_count": 9,
   "id": "14794c2e",
   "metadata": {},
   "outputs": [
    {
     "name": "stdout",
     "output_type": "stream",
     "text": [
      "/home/leesalem/code/NinLev/Covid_19/notebooks\r\n"
     ]
    }
   ],
   "source": [
    "!pwd\n"
   ]
  },
  {
   "cell_type": "code",
   "execution_count": 26,
   "id": "771c72c6",
   "metadata": {},
   "outputs": [],
   "source": [
    "def get_data():\n",
    "    '''Loads raw data from image names of each class folder and assigns a label to it.'''\n",
    "    \n",
    "    target_dir1='../../../raw_data/labeled_CT_data/NiCT/'\n",
    "    target_dir2='../../../raw_data/labeled_CT_data/pCT/'\n",
    "    target_dir3='../../../raw_data/labeled_CT_data/nCT/'\n",
    "\n",
    "    target_list1=[target_dir1+file for file in os.listdir(target_dir1)]\n",
    "    target_list2=[target_dir2+file for file in os.listdir(target_dir2)]\n",
    "    target_list3=[target_dir3+file for file in os.listdir(target_dir3)]\n",
    "\n",
    "    target_list=target_list1+target_list2+target_list3\n",
    "\n",
    "    # Assign labels: 0: 'non informative CT'\n",
    "    #                1: 'positive Covid-19 CT'\n",
    "    #                2: 'negative Covid-19 CT'\n",
    "    y_list=to_categorical(np.concatenate(np.array([[0]*len(target_list1),\n",
    "                                               [1]*len(target_list2),\n",
    "                                               [2]*len(target_list3)])),3)\n",
    "\n",
    "    X=np.array([read_ct_img_bydir(file) for file in target_list])[:,:,:,np.newaxis]\n",
    "\n",
    "    return X, y_list"
   ]
  },
  {
   "cell_type": "code",
   "execution_count": 27,
   "id": "2628d3c8",
   "metadata": {},
   "outputs": [],
   "source": [
    "X,y = get_data()\n"
   ]
  },
  {
   "cell_type": "code",
   "execution_count": 28,
   "id": "3763c95d",
   "metadata": {},
   "outputs": [],
   "source": [
    "X_train, X_test, y_train, y_test = train_test_split(X, y, test_size=0.5, random_state=42)"
   ]
  },
  {
   "cell_type": "code",
   "execution_count": 29,
   "id": "f8c04adf",
   "metadata": {},
   "outputs": [],
   "source": [
    "def model_init():\n",
    "    from tensorflow.keras.models import Sequential\n",
    "    from tensorflow.keras import layers\n",
    "\n",
    "    model = Sequential()\n",
    "    model.add(layers.Conv2D(64, (3,3), input_shape=(200, 200, 1), activation=\"relu\"))\n",
    "    model.add(layers.MaxPool2D(pool_size=(2,2))) \n",
    "\n",
    "    model.add(layers.Conv2D(128, (3,3), activation=\"relu\"))\n",
    "    model.add(layers.MaxPool2D(pool_size=(2,2)))\n",
    "\n",
    "    model.add(layers.Conv2D(64, (3,3), activation=\"relu\"))\n",
    "    model.add(layers.MaxPool2D(pool_size=(2,2))) \n",
    "\n",
    "    model.add(layers.Conv2D(32, (3,3), activation=\"relu\"))\n",
    "    model.add(layers.MaxPool2D(pool_size=(2,2))) \n",
    "\n",
    "    model.add(layers.Dense(32, activation=\"relu\"))\n",
    "\n",
    "    model.add(layers.Flatten())\n",
    "    model.add(layers.Dense(3, activation=\"softmax\"))\n",
    "\n",
    "    # The compilation\n",
    "    model.compile(loss='categorical_crossentropy', \n",
    "                  optimizer='adam', metrics = 'accuracy')  # Recommanded optimizer for RNN\n",
    "    return model\n"
   ]
  },
  {
   "cell_type": "code",
   "execution_count": 33,
   "id": "7681d779",
   "metadata": {},
   "outputs": [
    {
     "name": "stdout",
     "output_type": "stream",
     "text": [
      "216/216 - 999s - loss: 0.9896 - accuracy: 0.8045 - val_loss: 0.2274 - val_accuracy: 0.9238\n"
     ]
    }
   ],
   "source": [
    "salem = model_init()\n",
    "\n",
    "es = callbacks.EarlyStopping(patience=20, restore_best_weights=True)\n",
    "\n",
    "history = salem.fit(X_train, y_train,\n",
    "                    batch_size=32,\n",
    "                    epochs=1,\n",
    "                    validation_split=0.3,\n",
    "                    callbacks=[es],\n",
    "                    verbose=2)"
   ]
  },
  {
   "cell_type": "code",
   "execution_count": null,
   "id": "362a5849",
   "metadata": {},
   "outputs": [],
   "source": [
    "## The prediction\n",
    "y_pred = model.predict(X_test)"
   ]
  },
  {
   "cell_type": "code",
   "execution_count": null,
   "id": "50df8b90",
   "metadata": {},
   "outputs": [],
   "source": [
    "y_pred_class = np.rint(y_pred)"
   ]
  },
  {
   "cell_type": "code",
   "execution_count": null,
   "id": "ade3694b",
   "metadata": {},
   "outputs": [],
   "source": [
    "y_pred_class"
   ]
  },
  {
   "cell_type": "code",
   "execution_count": null,
   "id": "f449800b",
   "metadata": {},
   "outputs": [],
   "source": [
    "pred = model.evaluate(X_test, y_test, verbose=1)"
   ]
  },
  {
   "cell_type": "code",
   "execution_count": null,
   "id": "28b5b7b4",
   "metadata": {},
   "outputs": [],
   "source": [
    "# save model\n",
    "model.save('salem')  # creates a HDF5 file 'my_model.h5'\n"
   ]
  },
  {
   "cell_type": "code",
   "execution_count": null,
   "id": "5f554831",
   "metadata": {},
   "outputs": [],
   "source": [
    "plot_loss_accuracy(history)"
   ]
  },
  {
   "cell_type": "code",
   "execution_count": null,
   "id": "63ae302d",
   "metadata": {},
   "outputs": [],
   "source": [
    "g=plt.plot(y_test - y_pred,marker='o',linestyle='')\n"
   ]
  },
  {
   "cell_type": "code",
   "execution_count": null,
   "id": "1f1fd47b",
   "metadata": {},
   "outputs": [],
   "source": []
  },
  {
   "cell_type": "code",
   "execution_count": null,
   "id": "b83bc412",
   "metadata": {},
   "outputs": [],
   "source": []
  }
 ],
 "metadata": {
  "kernelspec": {
   "display_name": "Python 3",
   "language": "python",
   "name": "python3"
  },
  "language_info": {
   "codemirror_mode": {
    "name": "ipython",
    "version": 3
   },
   "file_extension": ".py",
   "mimetype": "text/x-python",
   "name": "python",
   "nbconvert_exporter": "python",
   "pygments_lexer": "ipython3",
   "version": "3.8.6"
  },
  "toc": {
   "base_numbering": 1,
   "nav_menu": {},
   "number_sections": true,
   "sideBar": true,
   "skip_h1_title": false,
   "title_cell": "Table of Contents",
   "title_sidebar": "Contents",
   "toc_cell": false,
   "toc_position": {},
   "toc_section_display": true,
   "toc_window_display": false
  }
 },
 "nbformat": 4,
 "nbformat_minor": 5
}
