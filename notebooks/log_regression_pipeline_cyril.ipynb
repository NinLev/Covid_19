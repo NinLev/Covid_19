{
 "cells": [
  {
   "cell_type": "code",
   "execution_count": null,
   "id": "91ce4257-3dad-4e45-a771-c8bf26836089",
   "metadata": {},
   "outputs": [],
   "source": [
    "from sklearn.linear_model import LinearRegression\n",
    "from sklearn.linear_model import LogisticRegression\n",
    "\n",
    "from sklearn.pipeline import Pipeline\n",
    "from sklearn.model_selection import train_test_split\n",
    "\n",
    "from sklearn.preprocessing import MinMaxScaler\n",
    "from sklearn.dummy import DummyRegressor\n",
    "\n",
    "from sklearn.preprocessing import OneHotEncoder\n",
    "from sklearn.compose import ColumnTransformer\n",
    "\n",
    "import pandas as pd\n",
    "import seaborn as sns\n",
    "import numpy as np"
   ]
  },
  {
   "cell_type": "code",
   "execution_count": null,
   "id": "7f8461fb-e930-4e71-8682-93a44e0b87f5",
   "metadata": {},
   "outputs": [],
   "source": [
    "X = data.drop(columns='SARS-CoV-2 nucleic acids')\n",
    "y = data['SARS-CoV-2 nucleic acids']\n",
    "\n",
    "model = LogisticRegression()\n",
    "\n",
    "        \n",
    "preprocessing = ColumnTransformer(\n",
    "    \n",
    "    [\n",
    "        ('scaler', MinMaxScaler(), make_column_selector(dtype_include='int64')),\n",
    "        ('one_hot', OneHotEncoder(handle_unknown='ignore', sparse=False),\\\n",
    "             make_column_selector(dtype_include='object')),\n",
    "    ]\n",
    ")        \n",
    "        \n",
    "        \n",
    "        \n",
    "final_pipe = Pipeline([\n",
    "    ('preprocessing', preprocessing),\n",
    "    ('logistic_regression', LogisticRegression())])\n",
    "\n",
    "\n",
    "\n",
    "X_train, X_test, y_train, y_test = train_test_split(X, y,\n",
    "                                                    test_size = 0.3)\n",
    "\n",
    "\n",
    "final_pipe.fit_transform(X_train, y_train)\n",
    "\n"
   ]
  },
  {
   "cell_type": "code",
   "execution_count": null,
   "id": "c2287b19-2587-4244-a103-2691fceb2dbf",
   "metadata": {},
   "outputs": [],
   "source": [
    "from sklearn.model_selection import cross_validate\n",
    "# 5-Fold Cross validate model\n",
    "model = LinearRegression()\n",
    "cv_results = cross_validate(model, X, y, cv=5, \n",
    "                            scoring=['max_error',\n",
    "                                     'r2', \n",
    "                                     'neg_mean_absolute_error',\n",
    "                                     'neg_mean_squared_error']\n",
    "                           )\n",
    "pd.DataFrame(cv_results)"
   ]
  },
  {
   "cell_type": "code",
   "execution_count": null,
   "id": "f2d2e4bc-2de9-49ea-8807-a256e5c46702",
   "metadata": {},
   "outputs": [],
   "source": [
    "# predictions\n",
    "final_pipe_trained.predict(X_test.iloc[:])\n",
    "\n",
    "# Score model\n",
    "final_pipe_trained.score(X_test,y_test)"
   ]
  },
  {
   "cell_type": "code",
   "execution_count": null,
   "id": "6ce7068e-076d-49c3-8c63-dff8971a2236",
   "metadata": {},
   "outputs": [],
   "source": [
    "from sklearn.model_selection import cross_val_score\n",
    "\n",
    "# Cross validate pipeline\n",
    "cross_val_score(final_pipe, X_train, y_train, cv=5, scoring='r2').mean()\n",
    "\n"
   ]
  },
  {
   "cell_type": "code",
   "execution_count": null,
   "id": "2d934226-1de3-4825-9776-74f0cb358f10",
   "metadata": {},
   "outputs": [],
   "source": [
    "y_test = [0, 1, 0, 0, 1, 0, 1, 1, 0, 1] # actual truths\n",
    "preds = [0, 0, 0, 0, 1, 1, 1, 1, 1, 1] # predictions\n",
    "\n",
    "results_df = pd.DataFrame({\"actual\": y_test,\n",
    "                           \"predicted\": preds})#Store results in dataframe\n",
    "\n",
    "confusion_matrix = pd.crosstab(index= results_df['actual'],\n",
    "                               columns = results_df['predicted'])"
   ]
  }
 ],
 "metadata": {
  "kernelspec": {
   "display_name": "Python 3.8.6 64-bit ('lewagon')",
   "language": "python",
   "name": "python386jvsc74a57bd0edf19983da42887c967eb7e27da91a9e54ad4dcf8054464a824c89878d3279d2"
  },
  "language_info": {
   "codemirror_mode": {
    "name": "ipython",
    "version": 3
   },
   "file_extension": ".py",
   "mimetype": "text/x-python",
   "name": "python",
   "nbconvert_exporter": "python",
   "pygments_lexer": "ipython3",
   "version": "3.8.6"
  }
 },
 "nbformat": 4,
 "nbformat_minor": 5
}
