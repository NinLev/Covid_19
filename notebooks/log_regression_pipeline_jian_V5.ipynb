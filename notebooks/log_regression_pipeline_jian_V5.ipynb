{
  "nbformat": 4,
  "nbformat_minor": 5,
  "metadata": {
    "kernelspec": {
      "name": "python3810jvsc74a57bd0fbff9bfab3ee0df4124016b4e010029cf2ec5864ce5e3c4aa09796cc364af95f",
      "display_name": "Python 3.8.10 64-bit ('base': conda)"
    },
    "language_info": {
      "codemirror_mode": {
        "name": "ipython",
        "version": 3
      },
      "file_extension": ".py",
      "mimetype": "text/x-python",
      "name": "python",
      "nbconvert_exporter": "python",
      "pygments_lexer": "ipython3",
      "version": "3.8.10"
    },
    "colab": {
      "name": "log_regression_pipeline_cyril_V3.ipynb",
      "provenance": []
    }
  },
  "cells": [
    {
      "cell_type": "code",
      "metadata": {
        "tags": [],
        "id": "91ce4257-3dad-4e45-a771-c8bf26836089"
      },
      "source": [
        "from sklearn.linear_model import LinearRegression\n",
        "from sklearn.linear_model import LogisticRegression\n",
        "from sklearn.linear_model import Ridge\n",
        "from scipy.stats import uniform\n",
        "from sklearn.pipeline import FeatureUnion\n",
        "\n",
        "from sklearn.compose import make_column_selector\n",
        "from sklearn.model_selection import GridSearchCV\n",
        "from sklearn.model_selection import RandomizedSearchCV\n",
        "\n",
        "from sklearn.pipeline import Pipeline\n",
        "from sklearn.model_selection import train_test_split\n",
        "\n",
        "from sklearn.preprocessing import MinMaxScaler\n",
        "from sklearn.preprocessing import StandardScaler\n",
        "from sklearn.preprocessing import FunctionTransformer\n",
        "\n",
        "from sklearn.impute import SimpleImputer\n",
        "from sklearn.preprocessing import OneHotEncoder\n",
        "from sklearn.compose import ColumnTransformer\n",
        "import joblib\n",
        "import pandas as pd\n",
        "import seaborn as sns\n",
        "import numpy as np\n",
        "import matplotlib.pyplot as plt"
      ],
      "id": "91ce4257-3dad-4e45-a771-c8bf26836089",
      "execution_count": 22,
      "outputs": []
    },
    {
      "cell_type": "code",
      "metadata": {
        "id": "1facca2d-c918-4f43-91c6-afe9aa44f3c2"
      },
      "source": [
        "df = pd.read_csv('../Covid_19/data/covid_19_patient_features_v5.csv')"
      ],
      "id": "1facca2d-c918-4f43-91c6-afe9aa44f3c2",
      "execution_count": 9,
      "outputs": []
    },
    {
      "cell_type": "code",
      "metadata": {
        "id": "1f6657f1-3bcb-4176-802c-4f416010d21f"
      },
      "source": [
        "df.set_index('patient_no', inplace=True, drop=True)"
      ],
      "id": "1f6657f1-3bcb-4176-802c-4f416010d21f",
      "execution_count": 3,
      "outputs": []
    },
    {
      "cell_type": "code",
      "execution_count": 4,
      "metadata": {},
      "outputs": [
        {
          "output_type": "execute_result",
          "data": {
            "text/plain": [
              "           Hospital  Age  Gender  Body_temperature  \\\n",
              "patient_no                                           \n",
              "Patient 1     Union   81    Male              36.6   \n",
              "Patient 2     Union   50    Male              38.7   \n",
              "Patient 3     Union   65  Female              38.5   \n",
              "Patient 4     Union   73    Male              38.5   \n",
              "Patient 5     Union   64  Female              38.0   \n",
              "\n",
              "                      Underlying_diseases SARS-CoV-2_nucleic_acids        CT  \\\n",
              "patient_no                                                                     \n",
              "Patient 1     Hypertension, Thyroidectomy                 Positive  Positive   \n",
              "Patient 2                              No                 Positive  Positive   \n",
              "Patient 3   Postoperative cervical cancer                 Positive  Positive   \n",
              "Patient 4             Aorta calcification                 Positive  Positive   \n",
              "Patient 5                              No                 Positive  Positive   \n",
              "\n",
              "           Morbidity Mortality   MCHC  ...  UNCC  BYST  MS-U  UNCX  URBC  \\\n",
              "patient_no                             ...                                 \n",
              "Patient 1    Regular     Cured  344.0  ...   NaN   NaN   NaN   NaN   NaN   \n",
              "Patient 2    Regular     Cured  349.0  ...   NaN   NaN   NaN   NaN   NaN   \n",
              "Patient 3    Regular     Cured  330.0  ...   NaN   NaN   NaN   NaN   NaN   \n",
              "Patient 4     Severe     Cured  337.0  ...   NaN   NaN   NaN   NaN   NaN   \n",
              "Patient 5     Severe     Cured  329.0  ...   NaN   NaN   NaN   NaN   NaN   \n",
              "\n",
              "            UWBC  SG  PH  WBCC  BACT  \n",
              "patient_no                            \n",
              "Patient 1    NaN NaN NaN   NaN   NaN  \n",
              "Patient 2    NaN NaN NaN   NaN   NaN  \n",
              "Patient 3    NaN NaN NaN   NaN   NaN  \n",
              "Patient 4    NaN NaN NaN   NaN   NaN  \n",
              "Patient 5    NaN NaN NaN   NaN   NaN  \n",
              "\n",
              "[5 rows x 132 columns]"
            ],
            "text/html": "<div>\n<style scoped>\n    .dataframe tbody tr th:only-of-type {\n        vertical-align: middle;\n    }\n\n    .dataframe tbody tr th {\n        vertical-align: top;\n    }\n\n    .dataframe thead th {\n        text-align: right;\n    }\n</style>\n<table border=\"1\" class=\"dataframe\">\n  <thead>\n    <tr style=\"text-align: right;\">\n      <th></th>\n      <th>Hospital</th>\n      <th>Age</th>\n      <th>Gender</th>\n      <th>Body_temperature</th>\n      <th>Underlying_diseases</th>\n      <th>SARS-CoV-2_nucleic_acids</th>\n      <th>CT</th>\n      <th>Morbidity</th>\n      <th>Mortality</th>\n      <th>MCHC</th>\n      <th>...</th>\n      <th>UNCC</th>\n      <th>BYST</th>\n      <th>MS-U</th>\n      <th>UNCX</th>\n      <th>URBC</th>\n      <th>UWBC</th>\n      <th>SG</th>\n      <th>PH</th>\n      <th>WBCC</th>\n      <th>BACT</th>\n    </tr>\n    <tr>\n      <th>patient_no</th>\n      <th></th>\n      <th></th>\n      <th></th>\n      <th></th>\n      <th></th>\n      <th></th>\n      <th></th>\n      <th></th>\n      <th></th>\n      <th></th>\n      <th></th>\n      <th></th>\n      <th></th>\n      <th></th>\n      <th></th>\n      <th></th>\n      <th></th>\n      <th></th>\n      <th></th>\n      <th></th>\n      <th></th>\n    </tr>\n  </thead>\n  <tbody>\n    <tr>\n      <th>Patient 1</th>\n      <td>Union</td>\n      <td>81</td>\n      <td>Male</td>\n      <td>36.6</td>\n      <td>Hypertension, Thyroidectomy</td>\n      <td>Positive</td>\n      <td>Positive</td>\n      <td>Regular</td>\n      <td>Cured</td>\n      <td>344.0</td>\n      <td>...</td>\n      <td>NaN</td>\n      <td>NaN</td>\n      <td>NaN</td>\n      <td>NaN</td>\n      <td>NaN</td>\n      <td>NaN</td>\n      <td>NaN</td>\n      <td>NaN</td>\n      <td>NaN</td>\n      <td>NaN</td>\n    </tr>\n    <tr>\n      <th>Patient 2</th>\n      <td>Union</td>\n      <td>50</td>\n      <td>Male</td>\n      <td>38.7</td>\n      <td>No</td>\n      <td>Positive</td>\n      <td>Positive</td>\n      <td>Regular</td>\n      <td>Cured</td>\n      <td>349.0</td>\n      <td>...</td>\n      <td>NaN</td>\n      <td>NaN</td>\n      <td>NaN</td>\n      <td>NaN</td>\n      <td>NaN</td>\n      <td>NaN</td>\n      <td>NaN</td>\n      <td>NaN</td>\n      <td>NaN</td>\n      <td>NaN</td>\n    </tr>\n    <tr>\n      <th>Patient 3</th>\n      <td>Union</td>\n      <td>65</td>\n      <td>Female</td>\n      <td>38.5</td>\n      <td>Postoperative cervical cancer</td>\n      <td>Positive</td>\n      <td>Positive</td>\n      <td>Regular</td>\n      <td>Cured</td>\n      <td>330.0</td>\n      <td>...</td>\n      <td>NaN</td>\n      <td>NaN</td>\n      <td>NaN</td>\n      <td>NaN</td>\n      <td>NaN</td>\n      <td>NaN</td>\n      <td>NaN</td>\n      <td>NaN</td>\n      <td>NaN</td>\n      <td>NaN</td>\n    </tr>\n    <tr>\n      <th>Patient 4</th>\n      <td>Union</td>\n      <td>73</td>\n      <td>Male</td>\n      <td>38.5</td>\n      <td>Aorta calcification</td>\n      <td>Positive</td>\n      <td>Positive</td>\n      <td>Severe</td>\n      <td>Cured</td>\n      <td>337.0</td>\n      <td>...</td>\n      <td>NaN</td>\n      <td>NaN</td>\n      <td>NaN</td>\n      <td>NaN</td>\n      <td>NaN</td>\n      <td>NaN</td>\n      <td>NaN</td>\n      <td>NaN</td>\n      <td>NaN</td>\n      <td>NaN</td>\n    </tr>\n    <tr>\n      <th>Patient 5</th>\n      <td>Union</td>\n      <td>64</td>\n      <td>Female</td>\n      <td>38.0</td>\n      <td>No</td>\n      <td>Positive</td>\n      <td>Positive</td>\n      <td>Severe</td>\n      <td>Cured</td>\n      <td>329.0</td>\n      <td>...</td>\n      <td>NaN</td>\n      <td>NaN</td>\n      <td>NaN</td>\n      <td>NaN</td>\n      <td>NaN</td>\n      <td>NaN</td>\n      <td>NaN</td>\n      <td>NaN</td>\n      <td>NaN</td>\n      <td>NaN</td>\n    </tr>\n  </tbody>\n</table>\n<p>5 rows × 132 columns</p>\n</div>"
          },
          "metadata": {},
          "execution_count": 4
        }
      ],
      "source": [
        "df.head(5)"
      ]
    },
    {
      "cell_type": "code",
      "metadata": {
        "id": "7fcea303-ca19-4955-8de8-d111de7dde86"
      },
      "source": [
        "#pd.set_option('display.max_rows', None)\n",
        "#pd.set_option('display.max_columns', None)"
      ],
      "id": "7fcea303-ca19-4955-8de8-d111de7dde86",
      "execution_count": 5,
      "outputs": []
    },
    {
      "cell_type": "markdown",
      "metadata": {
        "id": "d989d953-7630-40d0-96e8-8538c9939271"
      },
      "source": [
        "## Morbidity plot from dataframe"
      ],
      "id": "d989d953-7630-40d0-96e8-8538c9939271"
    },
    {
      "cell_type": "code",
      "metadata": {
        "colab": {
          "base_uri": "https://localhost:8080/",
          "height": 440
        },
        "id": "12925c4d-f20e-41a1-8904-55591f1978c1",
        "outputId": "e3628964-d8ba-42b4-d455-20aedd11e75f"
      },
      "source": [
        "plt.figure(figsize=(25,10))\n",
        "sns.histplot(df['Morbidity'])\n",
        "plt.show()"
      ],
      "id": "12925c4d-f20e-41a1-8904-55591f1978c1",
      "execution_count": 6,
      "outputs": [
        {
          "output_type": "display_data",
          "data": {
            "text/plain": "<Figure size 1800x720 with 1 Axes>",
            "image/svg+xml": "<?xml version=\"1.0\" encoding=\"utf-8\" standalone=\"no\"?>\r\n<!DOCTYPE svg PUBLIC \"-//W3C//DTD SVG 1.1//EN\"\r\n  \"http://www.w3.org/Graphics/SVG/1.1/DTD/svg11.dtd\">\r\n<!-- Created with matplotlib (https://matplotlib.org/) -->\r\n<svg height=\"588.35625pt\" version=\"1.1\" viewBox=\"0 0 1449.165625 588.35625\" width=\"1449.165625pt\" xmlns=\"http://www.w3.org/2000/svg\" xmlns:xlink=\"http://www.w3.org/1999/xlink\">\r\n <metadata>\r\n  <rdf:RDF xmlns:cc=\"http://creativecommons.org/ns#\" xmlns:dc=\"http://purl.org/dc/elements/1.1/\" xmlns:rdf=\"http://www.w3.org/1999/02/22-rdf-syntax-ns#\">\r\n   <cc:Work>\r\n    <dc:type rdf:resource=\"http://purl.org/dc/dcmitype/StillImage\"/>\r\n    <dc:date>2021-06-09T06:46:00.462620</dc:date>\r\n    <dc:format>image/svg+xml</dc:format>\r\n    <dc:creator>\r\n     <cc:Agent>\r\n      <dc:title>Matplotlib v3.3.1, https://matplotlib.org/</dc:title>\r\n     </cc:Agent>\r\n    </dc:creator>\r\n   </cc:Work>\r\n  </rdf:RDF>\r\n </metadata>\r\n <defs>\r\n  <style type=\"text/css\">*{stroke-linecap:butt;stroke-linejoin:round;}</style>\r\n </defs>\r\n <g id=\"figure_1\">\r\n  <g id=\"patch_1\">\r\n   <path d=\"M 0 588.35625 \r\nL 1449.165625 588.35625 \r\nL 1449.165625 0 \r\nL 0 0 \r\nz\r\n\" style=\"fill:none;\"/>\r\n  </g>\r\n  <g id=\"axes_1\">\r\n   <g id=\"patch_2\">\r\n    <path d=\"M 46.965625 550.8 \r\nL 1441.965625 550.8 \r\nL 1441.965625 7.2 \r\nL 46.965625 7.2 \r\nz\r\n\" style=\"fill:#ffffff;\"/>\r\n   </g>\r\n   <g id=\"patch_3\">\r\n    <path clip-path=\"url(#p9b0c051700)\" d=\"M 110.374716 550.8 \r\nL 268.897443 550.8 \r\nL 268.897443 33.085714 \r\nL 110.374716 33.085714 \r\nz\r\n\" style=\"fill:#1f77b4;fill-opacity:0.75;stroke:#000000;stroke-linejoin:miter;\"/>\r\n   </g>\r\n   <g id=\"patch_4\">\r\n    <path clip-path=\"url(#p9b0c051700)\" d=\"M 268.897443 550.8 \r\nL 427.42017 550.8 \r\nL 427.42017 375.333078 \r\nL 268.897443 375.333078 \r\nz\r\n\" style=\"fill:#1f77b4;fill-opacity:0.75;stroke:#000000;stroke-linejoin:miter;\"/>\r\n   </g>\r\n   <g id=\"patch_5\">\r\n    <path clip-path=\"url(#p9b0c051700)\" d=\"M 427.42017 550.8 \r\nL 585.942898 550.8 \r\nL 585.942898 488.257335 \r\nL 427.42017 488.257335 \r\nz\r\n\" style=\"fill:#1f77b4;fill-opacity:0.75;stroke:#000000;stroke-linejoin:miter;\"/>\r\n   </g>\r\n   <g id=\"patch_6\">\r\n    <path clip-path=\"url(#p9b0c051700)\" d=\"M 585.942898 550.8 \r\nL 744.465625 550.8 \r\nL 744.465625 506.498945 \r\nL 585.942898 506.498945 \r\nz\r\n\" style=\"fill:#1f77b4;fill-opacity:0.75;stroke:#000000;stroke-linejoin:miter;\"/>\r\n   </g>\r\n   <g id=\"patch_7\">\r\n    <path clip-path=\"url(#p9b0c051700)\" d=\"M 744.465625 550.8 \r\nL 902.988352 550.8 \r\nL 902.988352 529.952445 \r\nL 744.465625 529.952445 \r\nz\r\n\" style=\"fill:#1f77b4;fill-opacity:0.75;stroke:#000000;stroke-linejoin:miter;\"/>\r\n   </g>\r\n   <g id=\"patch_8\">\r\n    <path clip-path=\"url(#p9b0c051700)\" d=\"M 902.988352 550.8 \r\nL 1061.51108 550.8 \r\nL 1061.51108 335.375264 \r\nL 902.988352 335.375264 \r\nz\r\n\" style=\"fill:#1f77b4;fill-opacity:0.75;stroke:#000000;stroke-linejoin:miter;\"/>\r\n   </g>\r\n   <g id=\"patch_9\">\r\n    <path clip-path=\"url(#p9b0c051700)\" d=\"M 1061.51108 550.8 \r\nL 1220.033807 550.8 \r\nL 1220.033807 363.172004 \r\nL 1061.51108 363.172004 \r\nz\r\n\" style=\"fill:#1f77b4;fill-opacity:0.75;stroke:#000000;stroke-linejoin:miter;\"/>\r\n   </g>\r\n   <g id=\"patch_10\">\r\n    <path clip-path=\"url(#p9b0c051700)\" d=\"M 1220.033807 550.8 \r\nL 1378.556534 550.8 \r\nL 1378.556534 453.511409 \r\nL 1220.033807 453.511409 \r\nz\r\n\" style=\"fill:#1f77b4;fill-opacity:0.75;stroke:#000000;stroke-linejoin:miter;\"/>\r\n   </g>\r\n   <g id=\"matplotlib.axis_1\">\r\n    <g id=\"xtick_1\">\r\n     <g id=\"line2d_1\">\r\n      <defs>\r\n       <path d=\"M 0 0 \r\nL 0 3.5 \r\n\" id=\"m9fbd2537a7\" style=\"stroke:#000000;stroke-width:0.8;\"/>\r\n      </defs>\r\n      <g>\r\n       <use style=\"stroke:#000000;stroke-width:0.8;\" x=\"189.63608\" xlink:href=\"#m9fbd2537a7\" y=\"550.8\"/>\r\n      </g>\r\n     </g>\r\n     <g id=\"text_1\">\r\n      <!-- Regular -->\r\n      <g transform=\"translate(170.458736 565.398438)scale(0.1 -0.1)\">\r\n       <defs>\r\n        <path d=\"M 44.390625 34.1875 \r\nQ 47.5625 33.109375 50.5625 29.59375 \r\nQ 53.5625 26.078125 56.59375 19.921875 \r\nL 66.609375 0 \r\nL 56 0 \r\nL 46.6875 18.703125 \r\nQ 43.0625 26.03125 39.671875 28.421875 \r\nQ 36.28125 30.8125 30.421875 30.8125 \r\nL 19.671875 30.8125 \r\nL 19.671875 0 \r\nL 9.8125 0 \r\nL 9.8125 72.90625 \r\nL 32.078125 72.90625 \r\nQ 44.578125 72.90625 50.734375 67.671875 \r\nQ 56.890625 62.453125 56.890625 51.90625 \r\nQ 56.890625 45.015625 53.6875 40.46875 \r\nQ 50.484375 35.9375 44.390625 34.1875 \r\nz\r\nM 19.671875 64.796875 \r\nL 19.671875 38.921875 \r\nL 32.078125 38.921875 \r\nQ 39.203125 38.921875 42.84375 42.21875 \r\nQ 46.484375 45.515625 46.484375 51.90625 \r\nQ 46.484375 58.296875 42.84375 61.546875 \r\nQ 39.203125 64.796875 32.078125 64.796875 \r\nz\r\n\" id=\"DejaVuSans-82\"/>\r\n        <path d=\"M 56.203125 29.59375 \r\nL 56.203125 25.203125 \r\nL 14.890625 25.203125 \r\nQ 15.484375 15.921875 20.484375 11.0625 \r\nQ 25.484375 6.203125 34.421875 6.203125 \r\nQ 39.59375 6.203125 44.453125 7.46875 \r\nQ 49.3125 8.734375 54.109375 11.28125 \r\nL 54.109375 2.78125 \r\nQ 49.265625 0.734375 44.1875 -0.34375 \r\nQ 39.109375 -1.421875 33.890625 -1.421875 \r\nQ 20.796875 -1.421875 13.15625 6.1875 \r\nQ 5.515625 13.8125 5.515625 26.8125 \r\nQ 5.515625 40.234375 12.765625 48.109375 \r\nQ 20.015625 56 32.328125 56 \r\nQ 43.359375 56 49.78125 48.890625 \r\nQ 56.203125 41.796875 56.203125 29.59375 \r\nz\r\nM 47.21875 32.234375 \r\nQ 47.125 39.59375 43.09375 43.984375 \r\nQ 39.0625 48.390625 32.421875 48.390625 \r\nQ 24.90625 48.390625 20.390625 44.140625 \r\nQ 15.875 39.890625 15.1875 32.171875 \r\nz\r\n\" id=\"DejaVuSans-101\"/>\r\n        <path d=\"M 45.40625 27.984375 \r\nQ 45.40625 37.75 41.375 43.109375 \r\nQ 37.359375 48.484375 30.078125 48.484375 \r\nQ 22.859375 48.484375 18.828125 43.109375 \r\nQ 14.796875 37.75 14.796875 27.984375 \r\nQ 14.796875 18.265625 18.828125 12.890625 \r\nQ 22.859375 7.515625 30.078125 7.515625 \r\nQ 37.359375 7.515625 41.375 12.890625 \r\nQ 45.40625 18.265625 45.40625 27.984375 \r\nz\r\nM 54.390625 6.78125 \r\nQ 54.390625 -7.171875 48.1875 -13.984375 \r\nQ 42 -20.796875 29.203125 -20.796875 \r\nQ 24.46875 -20.796875 20.265625 -20.09375 \r\nQ 16.0625 -19.390625 12.109375 -17.921875 \r\nL 12.109375 -9.1875 \r\nQ 16.0625 -11.328125 19.921875 -12.34375 \r\nQ 23.78125 -13.375 27.78125 -13.375 \r\nQ 36.625 -13.375 41.015625 -8.765625 \r\nQ 45.40625 -4.15625 45.40625 5.171875 \r\nL 45.40625 9.625 \r\nQ 42.625 4.78125 38.28125 2.390625 \r\nQ 33.9375 0 27.875 0 \r\nQ 17.828125 0 11.671875 7.65625 \r\nQ 5.515625 15.328125 5.515625 27.984375 \r\nQ 5.515625 40.671875 11.671875 48.328125 \r\nQ 17.828125 56 27.875 56 \r\nQ 33.9375 56 38.28125 53.609375 \r\nQ 42.625 51.21875 45.40625 46.390625 \r\nL 45.40625 54.6875 \r\nL 54.390625 54.6875 \r\nz\r\n\" id=\"DejaVuSans-103\"/>\r\n        <path d=\"M 8.5 21.578125 \r\nL 8.5 54.6875 \r\nL 17.484375 54.6875 \r\nL 17.484375 21.921875 \r\nQ 17.484375 14.15625 20.5 10.265625 \r\nQ 23.53125 6.390625 29.59375 6.390625 \r\nQ 36.859375 6.390625 41.078125 11.03125 \r\nQ 45.3125 15.671875 45.3125 23.6875 \r\nL 45.3125 54.6875 \r\nL 54.296875 54.6875 \r\nL 54.296875 0 \r\nL 45.3125 0 \r\nL 45.3125 8.40625 \r\nQ 42.046875 3.421875 37.71875 1 \r\nQ 33.40625 -1.421875 27.6875 -1.421875 \r\nQ 18.265625 -1.421875 13.375 4.4375 \r\nQ 8.5 10.296875 8.5 21.578125 \r\nz\r\nM 31.109375 56 \r\nz\r\n\" id=\"DejaVuSans-117\"/>\r\n        <path d=\"M 9.421875 75.984375 \r\nL 18.40625 75.984375 \r\nL 18.40625 0 \r\nL 9.421875 0 \r\nz\r\n\" id=\"DejaVuSans-108\"/>\r\n        <path d=\"M 34.28125 27.484375 \r\nQ 23.390625 27.484375 19.1875 25 \r\nQ 14.984375 22.515625 14.984375 16.5 \r\nQ 14.984375 11.71875 18.140625 8.90625 \r\nQ 21.296875 6.109375 26.703125 6.109375 \r\nQ 34.1875 6.109375 38.703125 11.40625 \r\nQ 43.21875 16.703125 43.21875 25.484375 \r\nL 43.21875 27.484375 \r\nz\r\nM 52.203125 31.203125 \r\nL 52.203125 0 \r\nL 43.21875 0 \r\nL 43.21875 8.296875 \r\nQ 40.140625 3.328125 35.546875 0.953125 \r\nQ 30.953125 -1.421875 24.3125 -1.421875 \r\nQ 15.921875 -1.421875 10.953125 3.296875 \r\nQ 6 8.015625 6 15.921875 \r\nQ 6 25.140625 12.171875 29.828125 \r\nQ 18.359375 34.515625 30.609375 34.515625 \r\nL 43.21875 34.515625 \r\nL 43.21875 35.40625 \r\nQ 43.21875 41.609375 39.140625 45 \r\nQ 35.0625 48.390625 27.6875 48.390625 \r\nQ 23 48.390625 18.546875 47.265625 \r\nQ 14.109375 46.140625 10.015625 43.890625 \r\nL 10.015625 52.203125 \r\nQ 14.9375 54.109375 19.578125 55.046875 \r\nQ 24.21875 56 28.609375 56 \r\nQ 40.484375 56 46.34375 49.84375 \r\nQ 52.203125 43.703125 52.203125 31.203125 \r\nz\r\n\" id=\"DejaVuSans-97\"/>\r\n        <path d=\"M 41.109375 46.296875 \r\nQ 39.59375 47.171875 37.8125 47.578125 \r\nQ 36.03125 48 33.890625 48 \r\nQ 26.265625 48 22.1875 43.046875 \r\nQ 18.109375 38.09375 18.109375 28.8125 \r\nL 18.109375 0 \r\nL 9.078125 0 \r\nL 9.078125 54.6875 \r\nL 18.109375 54.6875 \r\nL 18.109375 46.1875 \r\nQ 20.953125 51.171875 25.484375 53.578125 \r\nQ 30.03125 56 36.53125 56 \r\nQ 37.453125 56 38.578125 55.875 \r\nQ 39.703125 55.765625 41.0625 55.515625 \r\nz\r\n\" id=\"DejaVuSans-114\"/>\r\n       </defs>\r\n       <use xlink:href=\"#DejaVuSans-82\"/>\r\n       <use x=\"64.982422\" xlink:href=\"#DejaVuSans-101\"/>\r\n       <use x=\"126.505859\" xlink:href=\"#DejaVuSans-103\"/>\r\n       <use x=\"189.982422\" xlink:href=\"#DejaVuSans-117\"/>\r\n       <use x=\"253.361328\" xlink:href=\"#DejaVuSans-108\"/>\r\n       <use x=\"281.144531\" xlink:href=\"#DejaVuSans-97\"/>\r\n       <use x=\"342.423828\" xlink:href=\"#DejaVuSans-114\"/>\r\n      </g>\r\n     </g>\r\n    </g>\r\n    <g id=\"xtick_2\">\r\n     <g id=\"line2d_2\">\r\n      <g>\r\n       <use style=\"stroke:#000000;stroke-width:0.8;\" x=\"348.158807\" xlink:href=\"#m9fbd2537a7\" y=\"550.8\"/>\r\n      </g>\r\n     </g>\r\n     <g id=\"text_2\">\r\n      <!-- Severe -->\r\n      <g transform=\"translate(330.852557 565.398438)scale(0.1 -0.1)\">\r\n       <defs>\r\n        <path d=\"M 53.515625 70.515625 \r\nL 53.515625 60.890625 \r\nQ 47.90625 63.578125 42.921875 64.890625 \r\nQ 37.9375 66.21875 33.296875 66.21875 \r\nQ 25.25 66.21875 20.875 63.09375 \r\nQ 16.5 59.96875 16.5 54.203125 \r\nQ 16.5 49.359375 19.40625 46.890625 \r\nQ 22.3125 44.4375 30.421875 42.921875 \r\nL 36.375 41.703125 \r\nQ 47.40625 39.59375 52.65625 34.296875 \r\nQ 57.90625 29 57.90625 20.125 \r\nQ 57.90625 9.515625 50.796875 4.046875 \r\nQ 43.703125 -1.421875 29.984375 -1.421875 \r\nQ 24.8125 -1.421875 18.96875 -0.25 \r\nQ 13.140625 0.921875 6.890625 3.21875 \r\nL 6.890625 13.375 \r\nQ 12.890625 10.015625 18.65625 8.296875 \r\nQ 24.421875 6.59375 29.984375 6.59375 \r\nQ 38.421875 6.59375 43.015625 9.90625 \r\nQ 47.609375 13.234375 47.609375 19.390625 \r\nQ 47.609375 24.75 44.3125 27.78125 \r\nQ 41.015625 30.8125 33.5 32.328125 \r\nL 27.484375 33.5 \r\nQ 16.453125 35.6875 11.515625 40.375 \r\nQ 6.59375 45.0625 6.59375 53.421875 \r\nQ 6.59375 63.09375 13.40625 68.65625 \r\nQ 20.21875 74.21875 32.171875 74.21875 \r\nQ 37.3125 74.21875 42.625 73.28125 \r\nQ 47.953125 72.359375 53.515625 70.515625 \r\nz\r\n\" id=\"DejaVuSans-83\"/>\r\n        <path d=\"M 2.984375 54.6875 \r\nL 12.5 54.6875 \r\nL 29.59375 8.796875 \r\nL 46.6875 54.6875 \r\nL 56.203125 54.6875 \r\nL 35.6875 0 \r\nL 23.484375 0 \r\nz\r\n\" id=\"DejaVuSans-118\"/>\r\n       </defs>\r\n       <use xlink:href=\"#DejaVuSans-83\"/>\r\n       <use x=\"63.476562\" xlink:href=\"#DejaVuSans-101\"/>\r\n       <use x=\"125\" xlink:href=\"#DejaVuSans-118\"/>\r\n       <use x=\"184.179688\" xlink:href=\"#DejaVuSans-101\"/>\r\n       <use x=\"245.703125\" xlink:href=\"#DejaVuSans-114\"/>\r\n       <use x=\"284.566406\" xlink:href=\"#DejaVuSans-101\"/>\r\n      </g>\r\n     </g>\r\n    </g>\r\n    <g id=\"xtick_3\">\r\n     <g id=\"line2d_3\">\r\n      <g>\r\n       <use style=\"stroke:#000000;stroke-width:0.8;\" x=\"506.681534\" xlink:href=\"#m9fbd2537a7\" y=\"550.8\"/>\r\n      </g>\r\n     </g>\r\n     <g id=\"text_3\">\r\n      <!-- Critically ill -->\r\n      <g transform=\"translate(479.089347 565.398438)scale(0.1 -0.1)\">\r\n       <defs>\r\n        <path d=\"M 64.40625 67.28125 \r\nL 64.40625 56.890625 \r\nQ 59.421875 61.53125 53.78125 63.8125 \r\nQ 48.140625 66.109375 41.796875 66.109375 \r\nQ 29.296875 66.109375 22.65625 58.46875 \r\nQ 16.015625 50.828125 16.015625 36.375 \r\nQ 16.015625 21.96875 22.65625 14.328125 \r\nQ 29.296875 6.6875 41.796875 6.6875 \r\nQ 48.140625 6.6875 53.78125 8.984375 \r\nQ 59.421875 11.28125 64.40625 15.921875 \r\nL 64.40625 5.609375 \r\nQ 59.234375 2.09375 53.4375 0.328125 \r\nQ 47.65625 -1.421875 41.21875 -1.421875 \r\nQ 24.65625 -1.421875 15.125 8.703125 \r\nQ 5.609375 18.84375 5.609375 36.375 \r\nQ 5.609375 53.953125 15.125 64.078125 \r\nQ 24.65625 74.21875 41.21875 74.21875 \r\nQ 47.75 74.21875 53.53125 72.484375 \r\nQ 59.328125 70.75 64.40625 67.28125 \r\nz\r\n\" id=\"DejaVuSans-67\"/>\r\n        <path d=\"M 9.421875 54.6875 \r\nL 18.40625 54.6875 \r\nL 18.40625 0 \r\nL 9.421875 0 \r\nz\r\nM 9.421875 75.984375 \r\nL 18.40625 75.984375 \r\nL 18.40625 64.59375 \r\nL 9.421875 64.59375 \r\nz\r\n\" id=\"DejaVuSans-105\"/>\r\n        <path d=\"M 18.3125 70.21875 \r\nL 18.3125 54.6875 \r\nL 36.8125 54.6875 \r\nL 36.8125 47.703125 \r\nL 18.3125 47.703125 \r\nL 18.3125 18.015625 \r\nQ 18.3125 11.328125 20.140625 9.421875 \r\nQ 21.96875 7.515625 27.59375 7.515625 \r\nL 36.8125 7.515625 \r\nL 36.8125 0 \r\nL 27.59375 0 \r\nQ 17.1875 0 13.234375 3.875 \r\nQ 9.28125 7.765625 9.28125 18.015625 \r\nL 9.28125 47.703125 \r\nL 2.6875 47.703125 \r\nL 2.6875 54.6875 \r\nL 9.28125 54.6875 \r\nL 9.28125 70.21875 \r\nz\r\n\" id=\"DejaVuSans-116\"/>\r\n        <path d=\"M 48.78125 52.59375 \r\nL 48.78125 44.1875 \r\nQ 44.96875 46.296875 41.140625 47.34375 \r\nQ 37.3125 48.390625 33.40625 48.390625 \r\nQ 24.65625 48.390625 19.8125 42.84375 \r\nQ 14.984375 37.3125 14.984375 27.296875 \r\nQ 14.984375 17.28125 19.8125 11.734375 \r\nQ 24.65625 6.203125 33.40625 6.203125 \r\nQ 37.3125 6.203125 41.140625 7.25 \r\nQ 44.96875 8.296875 48.78125 10.40625 \r\nL 48.78125 2.09375 \r\nQ 45.015625 0.34375 40.984375 -0.53125 \r\nQ 36.96875 -1.421875 32.421875 -1.421875 \r\nQ 20.0625 -1.421875 12.78125 6.34375 \r\nQ 5.515625 14.109375 5.515625 27.296875 \r\nQ 5.515625 40.671875 12.859375 48.328125 \r\nQ 20.21875 56 33.015625 56 \r\nQ 37.15625 56 41.109375 55.140625 \r\nQ 45.0625 54.296875 48.78125 52.59375 \r\nz\r\n\" id=\"DejaVuSans-99\"/>\r\n        <path d=\"M 32.171875 -5.078125 \r\nQ 28.375 -14.84375 24.75 -17.8125 \r\nQ 21.140625 -20.796875 15.09375 -20.796875 \r\nL 7.90625 -20.796875 \r\nL 7.90625 -13.28125 \r\nL 13.1875 -13.28125 \r\nQ 16.890625 -13.28125 18.9375 -11.515625 \r\nQ 21 -9.765625 23.484375 -3.21875 \r\nL 25.09375 0.875 \r\nL 2.984375 54.6875 \r\nL 12.5 54.6875 \r\nL 29.59375 11.921875 \r\nL 46.6875 54.6875 \r\nL 56.203125 54.6875 \r\nz\r\n\" id=\"DejaVuSans-121\"/>\r\n        <path id=\"DejaVuSans-32\"/>\r\n       </defs>\r\n       <use xlink:href=\"#DejaVuSans-67\"/>\r\n       <use x=\"69.824219\" xlink:href=\"#DejaVuSans-114\"/>\r\n       <use x=\"110.9375\" xlink:href=\"#DejaVuSans-105\"/>\r\n       <use x=\"138.720703\" xlink:href=\"#DejaVuSans-116\"/>\r\n       <use x=\"177.929688\" xlink:href=\"#DejaVuSans-105\"/>\r\n       <use x=\"205.712891\" xlink:href=\"#DejaVuSans-99\"/>\r\n       <use x=\"260.693359\" xlink:href=\"#DejaVuSans-97\"/>\r\n       <use x=\"321.972656\" xlink:href=\"#DejaVuSans-108\"/>\r\n       <use x=\"349.755859\" xlink:href=\"#DejaVuSans-108\"/>\r\n       <use x=\"377.539062\" xlink:href=\"#DejaVuSans-121\"/>\r\n       <use x=\"436.71875\" xlink:href=\"#DejaVuSans-32\"/>\r\n       <use x=\"468.505859\" xlink:href=\"#DejaVuSans-105\"/>\r\n       <use x=\"496.289062\" xlink:href=\"#DejaVuSans-108\"/>\r\n       <use x=\"524.072266\" xlink:href=\"#DejaVuSans-108\"/>\r\n      </g>\r\n     </g>\r\n    </g>\r\n    <g id=\"xtick_4\">\r\n     <g id=\"line2d_4\">\r\n      <g>\r\n       <use style=\"stroke:#000000;stroke-width:0.8;\" x=\"665.204261\" xlink:href=\"#m9fbd2537a7\" y=\"550.8\"/>\r\n      </g>\r\n     </g>\r\n     <g id=\"text_4\">\r\n      <!-- Suspected (COVID-19-confirmed later) -->\r\n      <g transform=\"translate(569.149574 565.398438)scale(0.1 -0.1)\">\r\n       <defs>\r\n        <path d=\"M 44.28125 53.078125 \r\nL 44.28125 44.578125 \r\nQ 40.484375 46.53125 36.375 47.5 \r\nQ 32.28125 48.484375 27.875 48.484375 \r\nQ 21.1875 48.484375 17.84375 46.4375 \r\nQ 14.5 44.390625 14.5 40.28125 \r\nQ 14.5 37.15625 16.890625 35.375 \r\nQ 19.28125 33.59375 26.515625 31.984375 \r\nL 29.59375 31.296875 \r\nQ 39.15625 29.25 43.1875 25.515625 \r\nQ 47.21875 21.78125 47.21875 15.09375 \r\nQ 47.21875 7.46875 41.1875 3.015625 \r\nQ 35.15625 -1.421875 24.609375 -1.421875 \r\nQ 20.21875 -1.421875 15.453125 -0.5625 \r\nQ 10.6875 0.296875 5.421875 2 \r\nL 5.421875 11.28125 \r\nQ 10.40625 8.6875 15.234375 7.390625 \r\nQ 20.0625 6.109375 24.8125 6.109375 \r\nQ 31.15625 6.109375 34.5625 8.28125 \r\nQ 37.984375 10.453125 37.984375 14.40625 \r\nQ 37.984375 18.0625 35.515625 20.015625 \r\nQ 33.0625 21.96875 24.703125 23.78125 \r\nL 21.578125 24.515625 \r\nQ 13.234375 26.265625 9.515625 29.90625 \r\nQ 5.8125 33.546875 5.8125 39.890625 \r\nQ 5.8125 47.609375 11.28125 51.796875 \r\nQ 16.75 56 26.8125 56 \r\nQ 31.78125 56 36.171875 55.265625 \r\nQ 40.578125 54.546875 44.28125 53.078125 \r\nz\r\n\" id=\"DejaVuSans-115\"/>\r\n        <path d=\"M 18.109375 8.203125 \r\nL 18.109375 -20.796875 \r\nL 9.078125 -20.796875 \r\nL 9.078125 54.6875 \r\nL 18.109375 54.6875 \r\nL 18.109375 46.390625 \r\nQ 20.953125 51.265625 25.265625 53.625 \r\nQ 29.59375 56 35.59375 56 \r\nQ 45.5625 56 51.78125 48.09375 \r\nQ 58.015625 40.1875 58.015625 27.296875 \r\nQ 58.015625 14.40625 51.78125 6.484375 \r\nQ 45.5625 -1.421875 35.59375 -1.421875 \r\nQ 29.59375 -1.421875 25.265625 0.953125 \r\nQ 20.953125 3.328125 18.109375 8.203125 \r\nz\r\nM 48.6875 27.296875 \r\nQ 48.6875 37.203125 44.609375 42.84375 \r\nQ 40.53125 48.484375 33.40625 48.484375 \r\nQ 26.265625 48.484375 22.1875 42.84375 \r\nQ 18.109375 37.203125 18.109375 27.296875 \r\nQ 18.109375 17.390625 22.1875 11.75 \r\nQ 26.265625 6.109375 33.40625 6.109375 \r\nQ 40.53125 6.109375 44.609375 11.75 \r\nQ 48.6875 17.390625 48.6875 27.296875 \r\nz\r\n\" id=\"DejaVuSans-112\"/>\r\n        <path d=\"M 45.40625 46.390625 \r\nL 45.40625 75.984375 \r\nL 54.390625 75.984375 \r\nL 54.390625 0 \r\nL 45.40625 0 \r\nL 45.40625 8.203125 \r\nQ 42.578125 3.328125 38.25 0.953125 \r\nQ 33.9375 -1.421875 27.875 -1.421875 \r\nQ 17.96875 -1.421875 11.734375 6.484375 \r\nQ 5.515625 14.40625 5.515625 27.296875 \r\nQ 5.515625 40.1875 11.734375 48.09375 \r\nQ 17.96875 56 27.875 56 \r\nQ 33.9375 56 38.25 53.625 \r\nQ 42.578125 51.265625 45.40625 46.390625 \r\nz\r\nM 14.796875 27.296875 \r\nQ 14.796875 17.390625 18.875 11.75 \r\nQ 22.953125 6.109375 30.078125 6.109375 \r\nQ 37.203125 6.109375 41.296875 11.75 \r\nQ 45.40625 17.390625 45.40625 27.296875 \r\nQ 45.40625 37.203125 41.296875 42.84375 \r\nQ 37.203125 48.484375 30.078125 48.484375 \r\nQ 22.953125 48.484375 18.875 42.84375 \r\nQ 14.796875 37.203125 14.796875 27.296875 \r\nz\r\n\" id=\"DejaVuSans-100\"/>\r\n        <path d=\"M 31 75.875 \r\nQ 24.46875 64.65625 21.28125 53.65625 \r\nQ 18.109375 42.671875 18.109375 31.390625 \r\nQ 18.109375 20.125 21.3125 9.0625 \r\nQ 24.515625 -2 31 -13.1875 \r\nL 23.1875 -13.1875 \r\nQ 15.875 -1.703125 12.234375 9.375 \r\nQ 8.59375 20.453125 8.59375 31.390625 \r\nQ 8.59375 42.28125 12.203125 53.3125 \r\nQ 15.828125 64.359375 23.1875 75.875 \r\nz\r\n\" id=\"DejaVuSans-40\"/>\r\n        <path d=\"M 39.40625 66.21875 \r\nQ 28.65625 66.21875 22.328125 58.203125 \r\nQ 16.015625 50.203125 16.015625 36.375 \r\nQ 16.015625 22.609375 22.328125 14.59375 \r\nQ 28.65625 6.59375 39.40625 6.59375 \r\nQ 50.140625 6.59375 56.421875 14.59375 \r\nQ 62.703125 22.609375 62.703125 36.375 \r\nQ 62.703125 50.203125 56.421875 58.203125 \r\nQ 50.140625 66.21875 39.40625 66.21875 \r\nz\r\nM 39.40625 74.21875 \r\nQ 54.734375 74.21875 63.90625 63.9375 \r\nQ 73.09375 53.65625 73.09375 36.375 \r\nQ 73.09375 19.140625 63.90625 8.859375 \r\nQ 54.734375 -1.421875 39.40625 -1.421875 \r\nQ 24.03125 -1.421875 14.8125 8.828125 \r\nQ 5.609375 19.09375 5.609375 36.375 \r\nQ 5.609375 53.65625 14.8125 63.9375 \r\nQ 24.03125 74.21875 39.40625 74.21875 \r\nz\r\n\" id=\"DejaVuSans-79\"/>\r\n        <path d=\"M 28.609375 0 \r\nL 0.78125 72.90625 \r\nL 11.078125 72.90625 \r\nL 34.1875 11.53125 \r\nL 57.328125 72.90625 \r\nL 67.578125 72.90625 \r\nL 39.796875 0 \r\nz\r\n\" id=\"DejaVuSans-86\"/>\r\n        <path d=\"M 9.8125 72.90625 \r\nL 19.671875 72.90625 \r\nL 19.671875 0 \r\nL 9.8125 0 \r\nz\r\n\" id=\"DejaVuSans-73\"/>\r\n        <path d=\"M 19.671875 64.796875 \r\nL 19.671875 8.109375 \r\nL 31.59375 8.109375 \r\nQ 46.6875 8.109375 53.6875 14.9375 \r\nQ 60.6875 21.78125 60.6875 36.53125 \r\nQ 60.6875 51.171875 53.6875 57.984375 \r\nQ 46.6875 64.796875 31.59375 64.796875 \r\nz\r\nM 9.8125 72.90625 \r\nL 30.078125 72.90625 \r\nQ 51.265625 72.90625 61.171875 64.09375 \r\nQ 71.09375 55.28125 71.09375 36.53125 \r\nQ 71.09375 17.671875 61.125 8.828125 \r\nQ 51.171875 0 30.078125 0 \r\nL 9.8125 0 \r\nz\r\n\" id=\"DejaVuSans-68\"/>\r\n        <path d=\"M 4.890625 31.390625 \r\nL 31.203125 31.390625 \r\nL 31.203125 23.390625 \r\nL 4.890625 23.390625 \r\nz\r\n\" id=\"DejaVuSans-45\"/>\r\n        <path d=\"M 12.40625 8.296875 \r\nL 28.515625 8.296875 \r\nL 28.515625 63.921875 \r\nL 10.984375 60.40625 \r\nL 10.984375 69.390625 \r\nL 28.421875 72.90625 \r\nL 38.28125 72.90625 \r\nL 38.28125 8.296875 \r\nL 54.390625 8.296875 \r\nL 54.390625 0 \r\nL 12.40625 0 \r\nz\r\n\" id=\"DejaVuSans-49\"/>\r\n        <path d=\"M 10.984375 1.515625 \r\nL 10.984375 10.5 \r\nQ 14.703125 8.734375 18.5 7.8125 \r\nQ 22.3125 6.890625 25.984375 6.890625 \r\nQ 35.75 6.890625 40.890625 13.453125 \r\nQ 46.046875 20.015625 46.78125 33.40625 \r\nQ 43.953125 29.203125 39.59375 26.953125 \r\nQ 35.25 24.703125 29.984375 24.703125 \r\nQ 19.046875 24.703125 12.671875 31.3125 \r\nQ 6.296875 37.9375 6.296875 49.421875 \r\nQ 6.296875 60.640625 12.9375 67.421875 \r\nQ 19.578125 74.21875 30.609375 74.21875 \r\nQ 43.265625 74.21875 49.921875 64.515625 \r\nQ 56.59375 54.828125 56.59375 36.375 \r\nQ 56.59375 19.140625 48.40625 8.859375 \r\nQ 40.234375 -1.421875 26.421875 -1.421875 \r\nQ 22.703125 -1.421875 18.890625 -0.6875 \r\nQ 15.09375 0.046875 10.984375 1.515625 \r\nz\r\nM 30.609375 32.421875 \r\nQ 37.25 32.421875 41.125 36.953125 \r\nQ 45.015625 41.5 45.015625 49.421875 \r\nQ 45.015625 57.28125 41.125 61.84375 \r\nQ 37.25 66.40625 30.609375 66.40625 \r\nQ 23.96875 66.40625 20.09375 61.84375 \r\nQ 16.21875 57.28125 16.21875 49.421875 \r\nQ 16.21875 41.5 20.09375 36.953125 \r\nQ 23.96875 32.421875 30.609375 32.421875 \r\nz\r\n\" id=\"DejaVuSans-57\"/>\r\n        <path d=\"M 30.609375 48.390625 \r\nQ 23.390625 48.390625 19.1875 42.75 \r\nQ 14.984375 37.109375 14.984375 27.296875 \r\nQ 14.984375 17.484375 19.15625 11.84375 \r\nQ 23.34375 6.203125 30.609375 6.203125 \r\nQ 37.796875 6.203125 41.984375 11.859375 \r\nQ 46.1875 17.53125 46.1875 27.296875 \r\nQ 46.1875 37.015625 41.984375 42.703125 \r\nQ 37.796875 48.390625 30.609375 48.390625 \r\nz\r\nM 30.609375 56 \r\nQ 42.328125 56 49.015625 48.375 \r\nQ 55.71875 40.765625 55.71875 27.296875 \r\nQ 55.71875 13.875 49.015625 6.21875 \r\nQ 42.328125 -1.421875 30.609375 -1.421875 \r\nQ 18.84375 -1.421875 12.171875 6.21875 \r\nQ 5.515625 13.875 5.515625 27.296875 \r\nQ 5.515625 40.765625 12.171875 48.375 \r\nQ 18.84375 56 30.609375 56 \r\nz\r\n\" id=\"DejaVuSans-111\"/>\r\n        <path d=\"M 54.890625 33.015625 \r\nL 54.890625 0 \r\nL 45.90625 0 \r\nL 45.90625 32.71875 \r\nQ 45.90625 40.484375 42.875 44.328125 \r\nQ 39.84375 48.1875 33.796875 48.1875 \r\nQ 26.515625 48.1875 22.3125 43.546875 \r\nQ 18.109375 38.921875 18.109375 30.90625 \r\nL 18.109375 0 \r\nL 9.078125 0 \r\nL 9.078125 54.6875 \r\nL 18.109375 54.6875 \r\nL 18.109375 46.1875 \r\nQ 21.34375 51.125 25.703125 53.5625 \r\nQ 30.078125 56 35.796875 56 \r\nQ 45.21875 56 50.046875 50.171875 \r\nQ 54.890625 44.34375 54.890625 33.015625 \r\nz\r\n\" id=\"DejaVuSans-110\"/>\r\n        <path d=\"M 37.109375 75.984375 \r\nL 37.109375 68.5 \r\nL 28.515625 68.5 \r\nQ 23.6875 68.5 21.796875 66.546875 \r\nQ 19.921875 64.59375 19.921875 59.515625 \r\nL 19.921875 54.6875 \r\nL 34.71875 54.6875 \r\nL 34.71875 47.703125 \r\nL 19.921875 47.703125 \r\nL 19.921875 0 \r\nL 10.890625 0 \r\nL 10.890625 47.703125 \r\nL 2.296875 47.703125 \r\nL 2.296875 54.6875 \r\nL 10.890625 54.6875 \r\nL 10.890625 58.5 \r\nQ 10.890625 67.625 15.140625 71.796875 \r\nQ 19.390625 75.984375 28.609375 75.984375 \r\nz\r\n\" id=\"DejaVuSans-102\"/>\r\n        <path d=\"M 52 44.1875 \r\nQ 55.375 50.25 60.0625 53.125 \r\nQ 64.75 56 71.09375 56 \r\nQ 79.640625 56 84.28125 50.015625 \r\nQ 88.921875 44.046875 88.921875 33.015625 \r\nL 88.921875 0 \r\nL 79.890625 0 \r\nL 79.890625 32.71875 \r\nQ 79.890625 40.578125 77.09375 44.375 \r\nQ 74.3125 48.1875 68.609375 48.1875 \r\nQ 61.625 48.1875 57.5625 43.546875 \r\nQ 53.515625 38.921875 53.515625 30.90625 \r\nL 53.515625 0 \r\nL 44.484375 0 \r\nL 44.484375 32.71875 \r\nQ 44.484375 40.625 41.703125 44.40625 \r\nQ 38.921875 48.1875 33.109375 48.1875 \r\nQ 26.21875 48.1875 22.15625 43.53125 \r\nQ 18.109375 38.875 18.109375 30.90625 \r\nL 18.109375 0 \r\nL 9.078125 0 \r\nL 9.078125 54.6875 \r\nL 18.109375 54.6875 \r\nL 18.109375 46.1875 \r\nQ 21.1875 51.21875 25.484375 53.609375 \r\nQ 29.78125 56 35.6875 56 \r\nQ 41.65625 56 45.828125 52.96875 \r\nQ 50 49.953125 52 44.1875 \r\nz\r\n\" id=\"DejaVuSans-109\"/>\r\n        <path d=\"M 8.015625 75.875 \r\nL 15.828125 75.875 \r\nQ 23.140625 64.359375 26.78125 53.3125 \r\nQ 30.421875 42.28125 30.421875 31.390625 \r\nQ 30.421875 20.453125 26.78125 9.375 \r\nQ 23.140625 -1.703125 15.828125 -13.1875 \r\nL 8.015625 -13.1875 \r\nQ 14.5 -2 17.703125 9.0625 \r\nQ 20.90625 20.125 20.90625 31.390625 \r\nQ 20.90625 42.671875 17.703125 53.65625 \r\nQ 14.5 64.65625 8.015625 75.875 \r\nz\r\n\" id=\"DejaVuSans-41\"/>\r\n       </defs>\r\n       <use xlink:href=\"#DejaVuSans-83\"/>\r\n       <use x=\"63.476562\" xlink:href=\"#DejaVuSans-117\"/>\r\n       <use x=\"126.855469\" xlink:href=\"#DejaVuSans-115\"/>\r\n       <use x=\"178.955078\" xlink:href=\"#DejaVuSans-112\"/>\r\n       <use x=\"242.431641\" xlink:href=\"#DejaVuSans-101\"/>\r\n       <use x=\"303.955078\" xlink:href=\"#DejaVuSans-99\"/>\r\n       <use x=\"358.935547\" xlink:href=\"#DejaVuSans-116\"/>\r\n       <use x=\"398.144531\" xlink:href=\"#DejaVuSans-101\"/>\r\n       <use x=\"459.667969\" xlink:href=\"#DejaVuSans-100\"/>\r\n       <use x=\"523.144531\" xlink:href=\"#DejaVuSans-32\"/>\r\n       <use x=\"554.931641\" xlink:href=\"#DejaVuSans-40\"/>\r\n       <use x=\"593.945312\" xlink:href=\"#DejaVuSans-67\"/>\r\n       <use x=\"663.769531\" xlink:href=\"#DejaVuSans-79\"/>\r\n       <use x=\"740.730469\" xlink:href=\"#DejaVuSans-86\"/>\r\n       <use x=\"809.138672\" xlink:href=\"#DejaVuSans-73\"/>\r\n       <use x=\"838.630859\" xlink:href=\"#DejaVuSans-68\"/>\r\n       <use x=\"915.632812\" xlink:href=\"#DejaVuSans-45\"/>\r\n       <use x=\"951.716797\" xlink:href=\"#DejaVuSans-49\"/>\r\n       <use x=\"1015.339844\" xlink:href=\"#DejaVuSans-57\"/>\r\n       <use x=\"1078.962891\" xlink:href=\"#DejaVuSans-45\"/>\r\n       <use x=\"1115.046875\" xlink:href=\"#DejaVuSans-99\"/>\r\n       <use x=\"1170.027344\" xlink:href=\"#DejaVuSans-111\"/>\r\n       <use x=\"1231.208984\" xlink:href=\"#DejaVuSans-110\"/>\r\n       <use x=\"1294.587891\" xlink:href=\"#DejaVuSans-102\"/>\r\n       <use x=\"1329.792969\" xlink:href=\"#DejaVuSans-105\"/>\r\n       <use x=\"1357.576172\" xlink:href=\"#DejaVuSans-114\"/>\r\n       <use x=\"1396.939453\" xlink:href=\"#DejaVuSans-109\"/>\r\n       <use x=\"1494.351562\" xlink:href=\"#DejaVuSans-101\"/>\r\n       <use x=\"1555.875\" xlink:href=\"#DejaVuSans-100\"/>\r\n       <use x=\"1619.351562\" xlink:href=\"#DejaVuSans-32\"/>\r\n       <use x=\"1651.138672\" xlink:href=\"#DejaVuSans-108\"/>\r\n       <use x=\"1678.921875\" xlink:href=\"#DejaVuSans-97\"/>\r\n       <use x=\"1740.201172\" xlink:href=\"#DejaVuSans-116\"/>\r\n       <use x=\"1779.410156\" xlink:href=\"#DejaVuSans-101\"/>\r\n       <use x=\"1840.933594\" xlink:href=\"#DejaVuSans-114\"/>\r\n       <use x=\"1882.046875\" xlink:href=\"#DejaVuSans-41\"/>\r\n      </g>\r\n     </g>\r\n    </g>\r\n    <g id=\"xtick_5\">\r\n     <g id=\"line2d_5\">\r\n      <g>\r\n       <use style=\"stroke:#000000;stroke-width:0.8;\" x=\"823.726989\" xlink:href=\"#m9fbd2537a7\" y=\"550.8\"/>\r\n      </g>\r\n     </g>\r\n     <g id=\"text_5\">\r\n      <!-- Mild -->\r\n      <g transform=\"translate(813.460582 565.398438)scale(0.1 -0.1)\">\r\n       <defs>\r\n        <path d=\"M 9.8125 72.90625 \r\nL 24.515625 72.90625 \r\nL 43.109375 23.296875 \r\nL 61.8125 72.90625 \r\nL 76.515625 72.90625 \r\nL 76.515625 0 \r\nL 66.890625 0 \r\nL 66.890625 64.015625 \r\nL 48.09375 14.015625 \r\nL 38.1875 14.015625 \r\nL 19.390625 64.015625 \r\nL 19.390625 0 \r\nL 9.8125 0 \r\nz\r\n\" id=\"DejaVuSans-77\"/>\r\n       </defs>\r\n       <use xlink:href=\"#DejaVuSans-77\"/>\r\n       <use x=\"86.279297\" xlink:href=\"#DejaVuSans-105\"/>\r\n       <use x=\"114.0625\" xlink:href=\"#DejaVuSans-108\"/>\r\n       <use x=\"141.845703\" xlink:href=\"#DejaVuSans-100\"/>\r\n      </g>\r\n     </g>\r\n    </g>\r\n    <g id=\"xtick_6\">\r\n     <g id=\"line2d_6\">\r\n      <g>\r\n       <use style=\"stroke:#000000;stroke-width:0.8;\" x=\"982.249716\" xlink:href=\"#m9fbd2537a7\" y=\"550.8\"/>\r\n      </g>\r\n     </g>\r\n     <g id=\"text_6\">\r\n      <!-- Suspected -->\r\n      <g transform=\"translate(956.091122 565.398438)scale(0.1 -0.1)\">\r\n       <use xlink:href=\"#DejaVuSans-83\"/>\r\n       <use x=\"63.476562\" xlink:href=\"#DejaVuSans-117\"/>\r\n       <use x=\"126.855469\" xlink:href=\"#DejaVuSans-115\"/>\r\n       <use x=\"178.955078\" xlink:href=\"#DejaVuSans-112\"/>\r\n       <use x=\"242.431641\" xlink:href=\"#DejaVuSans-101\"/>\r\n       <use x=\"303.955078\" xlink:href=\"#DejaVuSans-99\"/>\r\n       <use x=\"358.935547\" xlink:href=\"#DejaVuSans-116\"/>\r\n       <use x=\"398.144531\" xlink:href=\"#DejaVuSans-101\"/>\r\n       <use x=\"459.667969\" xlink:href=\"#DejaVuSans-100\"/>\r\n      </g>\r\n     </g>\r\n    </g>\r\n    <g id=\"xtick_7\">\r\n     <g id=\"line2d_7\">\r\n      <g>\r\n       <use style=\"stroke:#000000;stroke-width:0.8;\" x=\"1140.772443\" xlink:href=\"#m9fbd2537a7\" y=\"550.8\"/>\r\n      </g>\r\n     </g>\r\n     <g id=\"text_7\">\r\n      <!-- Control -->\r\n      <g transform=\"translate(1122.701349 565.398438)scale(0.1 -0.1)\">\r\n       <use xlink:href=\"#DejaVuSans-67\"/>\r\n       <use x=\"69.824219\" xlink:href=\"#DejaVuSans-111\"/>\r\n       <use x=\"131.005859\" xlink:href=\"#DejaVuSans-110\"/>\r\n       <use x=\"194.384766\" xlink:href=\"#DejaVuSans-116\"/>\r\n       <use x=\"233.59375\" xlink:href=\"#DejaVuSans-114\"/>\r\n       <use x=\"272.457031\" xlink:href=\"#DejaVuSans-111\"/>\r\n       <use x=\"333.638672\" xlink:href=\"#DejaVuSans-108\"/>\r\n      </g>\r\n     </g>\r\n    </g>\r\n    <g id=\"xtick_8\">\r\n     <g id=\"line2d_8\">\r\n      <g>\r\n       <use style=\"stroke:#000000;stroke-width:0.8;\" x=\"1299.29517\" xlink:href=\"#m9fbd2537a7\" y=\"550.8\"/>\r\n      </g>\r\n     </g>\r\n     <g id=\"text_8\">\r\n      <!-- Control (Community-acquired pneumonia) -->\r\n      <g transform=\"translate(1193.611577 565.398438)scale(0.1 -0.1)\">\r\n       <defs>\r\n        <path d=\"M 14.796875 27.296875 \r\nQ 14.796875 17.390625 18.875 11.75 \r\nQ 22.953125 6.109375 30.078125 6.109375 \r\nQ 37.203125 6.109375 41.296875 11.75 \r\nQ 45.40625 17.390625 45.40625 27.296875 \r\nQ 45.40625 37.203125 41.296875 42.84375 \r\nQ 37.203125 48.484375 30.078125 48.484375 \r\nQ 22.953125 48.484375 18.875 42.84375 \r\nQ 14.796875 37.203125 14.796875 27.296875 \r\nz\r\nM 45.40625 8.203125 \r\nQ 42.578125 3.328125 38.25 0.953125 \r\nQ 33.9375 -1.421875 27.875 -1.421875 \r\nQ 17.96875 -1.421875 11.734375 6.484375 \r\nQ 5.515625 14.40625 5.515625 27.296875 \r\nQ 5.515625 40.1875 11.734375 48.09375 \r\nQ 17.96875 56 27.875 56 \r\nQ 33.9375 56 38.25 53.625 \r\nQ 42.578125 51.265625 45.40625 46.390625 \r\nL 45.40625 54.6875 \r\nL 54.390625 54.6875 \r\nL 54.390625 -20.796875 \r\nL 45.40625 -20.796875 \r\nz\r\n\" id=\"DejaVuSans-113\"/>\r\n       </defs>\r\n       <use xlink:href=\"#DejaVuSans-67\"/>\r\n       <use x=\"69.824219\" xlink:href=\"#DejaVuSans-111\"/>\r\n       <use x=\"131.005859\" xlink:href=\"#DejaVuSans-110\"/>\r\n       <use x=\"194.384766\" xlink:href=\"#DejaVuSans-116\"/>\r\n       <use x=\"233.59375\" xlink:href=\"#DejaVuSans-114\"/>\r\n       <use x=\"272.457031\" xlink:href=\"#DejaVuSans-111\"/>\r\n       <use x=\"333.638672\" xlink:href=\"#DejaVuSans-108\"/>\r\n       <use x=\"361.421875\" xlink:href=\"#DejaVuSans-32\"/>\r\n       <use x=\"393.208984\" xlink:href=\"#DejaVuSans-40\"/>\r\n       <use x=\"432.222656\" xlink:href=\"#DejaVuSans-67\"/>\r\n       <use x=\"502.046875\" xlink:href=\"#DejaVuSans-111\"/>\r\n       <use x=\"563.228516\" xlink:href=\"#DejaVuSans-109\"/>\r\n       <use x=\"660.640625\" xlink:href=\"#DejaVuSans-109\"/>\r\n       <use x=\"758.052734\" xlink:href=\"#DejaVuSans-117\"/>\r\n       <use x=\"821.431641\" xlink:href=\"#DejaVuSans-110\"/>\r\n       <use x=\"884.810547\" xlink:href=\"#DejaVuSans-105\"/>\r\n       <use x=\"912.59375\" xlink:href=\"#DejaVuSans-116\"/>\r\n       <use x=\"951.802734\" xlink:href=\"#DejaVuSans-121\"/>\r\n       <use x=\"1009.232422\" xlink:href=\"#DejaVuSans-45\"/>\r\n       <use x=\"1045.316406\" xlink:href=\"#DejaVuSans-97\"/>\r\n       <use x=\"1106.595703\" xlink:href=\"#DejaVuSans-99\"/>\r\n       <use x=\"1161.576172\" xlink:href=\"#DejaVuSans-113\"/>\r\n       <use x=\"1225.052734\" xlink:href=\"#DejaVuSans-117\"/>\r\n       <use x=\"1288.431641\" xlink:href=\"#DejaVuSans-105\"/>\r\n       <use x=\"1316.214844\" xlink:href=\"#DejaVuSans-114\"/>\r\n       <use x=\"1355.078125\" xlink:href=\"#DejaVuSans-101\"/>\r\n       <use x=\"1416.601562\" xlink:href=\"#DejaVuSans-100\"/>\r\n       <use x=\"1480.078125\" xlink:href=\"#DejaVuSans-32\"/>\r\n       <use x=\"1511.865234\" xlink:href=\"#DejaVuSans-112\"/>\r\n       <use x=\"1575.341797\" xlink:href=\"#DejaVuSans-110\"/>\r\n       <use x=\"1638.720703\" xlink:href=\"#DejaVuSans-101\"/>\r\n       <use x=\"1700.244141\" xlink:href=\"#DejaVuSans-117\"/>\r\n       <use x=\"1763.623047\" xlink:href=\"#DejaVuSans-109\"/>\r\n       <use x=\"1861.035156\" xlink:href=\"#DejaVuSans-111\"/>\r\n       <use x=\"1922.216797\" xlink:href=\"#DejaVuSans-110\"/>\r\n       <use x=\"1985.595703\" xlink:href=\"#DejaVuSans-105\"/>\r\n       <use x=\"2013.378906\" xlink:href=\"#DejaVuSans-97\"/>\r\n       <use x=\"2074.658203\" xlink:href=\"#DejaVuSans-41\"/>\r\n      </g>\r\n     </g>\r\n    </g>\r\n    <g id=\"text_9\">\r\n     <!-- Morbidity -->\r\n     <g transform=\"translate(720.990625 579.076563)scale(0.1 -0.1)\">\r\n      <defs>\r\n       <path d=\"M 48.6875 27.296875 \r\nQ 48.6875 37.203125 44.609375 42.84375 \r\nQ 40.53125 48.484375 33.40625 48.484375 \r\nQ 26.265625 48.484375 22.1875 42.84375 \r\nQ 18.109375 37.203125 18.109375 27.296875 \r\nQ 18.109375 17.390625 22.1875 11.75 \r\nQ 26.265625 6.109375 33.40625 6.109375 \r\nQ 40.53125 6.109375 44.609375 11.75 \r\nQ 48.6875 17.390625 48.6875 27.296875 \r\nz\r\nM 18.109375 46.390625 \r\nQ 20.953125 51.265625 25.265625 53.625 \r\nQ 29.59375 56 35.59375 56 \r\nQ 45.5625 56 51.78125 48.09375 \r\nQ 58.015625 40.1875 58.015625 27.296875 \r\nQ 58.015625 14.40625 51.78125 6.484375 \r\nQ 45.5625 -1.421875 35.59375 -1.421875 \r\nQ 29.59375 -1.421875 25.265625 0.953125 \r\nQ 20.953125 3.328125 18.109375 8.203125 \r\nL 18.109375 0 \r\nL 9.078125 0 \r\nL 9.078125 75.984375 \r\nL 18.109375 75.984375 \r\nz\r\n\" id=\"DejaVuSans-98\"/>\r\n      </defs>\r\n      <use xlink:href=\"#DejaVuSans-77\"/>\r\n      <use x=\"86.279297\" xlink:href=\"#DejaVuSans-111\"/>\r\n      <use x=\"147.460938\" xlink:href=\"#DejaVuSans-114\"/>\r\n      <use x=\"188.574219\" xlink:href=\"#DejaVuSans-98\"/>\r\n      <use x=\"252.050781\" xlink:href=\"#DejaVuSans-105\"/>\r\n      <use x=\"279.833984\" xlink:href=\"#DejaVuSans-100\"/>\r\n      <use x=\"343.310547\" xlink:href=\"#DejaVuSans-105\"/>\r\n      <use x=\"371.09375\" xlink:href=\"#DejaVuSans-116\"/>\r\n      <use x=\"410.302734\" xlink:href=\"#DejaVuSans-121\"/>\r\n     </g>\r\n    </g>\r\n   </g>\r\n   <g id=\"matplotlib.axis_2\">\r\n    <g id=\"ytick_1\">\r\n     <g id=\"line2d_9\">\r\n      <defs>\r\n       <path d=\"M 0 0 \r\nL -3.5 0 \r\n\" id=\"m8239165c2e\" style=\"stroke:#000000;stroke-width:0.8;\"/>\r\n      </defs>\r\n      <g>\r\n       <use style=\"stroke:#000000;stroke-width:0.8;\" x=\"46.965625\" xlink:href=\"#m8239165c2e\" y=\"550.8\"/>\r\n      </g>\r\n     </g>\r\n     <g id=\"text_10\">\r\n      <!-- 0 -->\r\n      <g transform=\"translate(33.603125 554.599219)scale(0.1 -0.1)\">\r\n       <defs>\r\n        <path d=\"M 31.78125 66.40625 \r\nQ 24.171875 66.40625 20.328125 58.90625 \r\nQ 16.5 51.421875 16.5 36.375 \r\nQ 16.5 21.390625 20.328125 13.890625 \r\nQ 24.171875 6.390625 31.78125 6.390625 \r\nQ 39.453125 6.390625 43.28125 13.890625 \r\nQ 47.125 21.390625 47.125 36.375 \r\nQ 47.125 51.421875 43.28125 58.90625 \r\nQ 39.453125 66.40625 31.78125 66.40625 \r\nz\r\nM 31.78125 74.21875 \r\nQ 44.046875 74.21875 50.515625 64.515625 \r\nQ 56.984375 54.828125 56.984375 36.375 \r\nQ 56.984375 17.96875 50.515625 8.265625 \r\nQ 44.046875 -1.421875 31.78125 -1.421875 \r\nQ 19.53125 -1.421875 13.0625 8.265625 \r\nQ 6.59375 17.96875 6.59375 36.375 \r\nQ 6.59375 54.828125 13.0625 64.515625 \r\nQ 19.53125 74.21875 31.78125 74.21875 \r\nz\r\n\" id=\"DejaVuSans-48\"/>\r\n       </defs>\r\n       <use xlink:href=\"#DejaVuSans-48\"/>\r\n      </g>\r\n     </g>\r\n    </g>\r\n    <g id=\"ytick_2\">\r\n     <g id=\"line2d_10\">\r\n      <g>\r\n       <use style=\"stroke:#000000;stroke-width:0.8;\" x=\"46.965625\" xlink:href=\"#m8239165c2e\" y=\"463.935187\"/>\r\n      </g>\r\n     </g>\r\n     <g id=\"text_11\">\r\n      <!-- 100 -->\r\n      <g transform=\"translate(20.878125 467.734406)scale(0.1 -0.1)\">\r\n       <use xlink:href=\"#DejaVuSans-49\"/>\r\n       <use x=\"63.623047\" xlink:href=\"#DejaVuSans-48\"/>\r\n       <use x=\"127.246094\" xlink:href=\"#DejaVuSans-48\"/>\r\n      </g>\r\n     </g>\r\n    </g>\r\n    <g id=\"ytick_3\">\r\n     <g id=\"line2d_11\">\r\n      <g>\r\n       <use style=\"stroke:#000000;stroke-width:0.8;\" x=\"46.965625\" xlink:href=\"#m8239165c2e\" y=\"377.070374\"/>\r\n      </g>\r\n     </g>\r\n     <g id=\"text_12\">\r\n      <!-- 200 -->\r\n      <g transform=\"translate(20.878125 380.869593)scale(0.1 -0.1)\">\r\n       <defs>\r\n        <path d=\"M 19.1875 8.296875 \r\nL 53.609375 8.296875 \r\nL 53.609375 0 \r\nL 7.328125 0 \r\nL 7.328125 8.296875 \r\nQ 12.9375 14.109375 22.625 23.890625 \r\nQ 32.328125 33.6875 34.8125 36.53125 \r\nQ 39.546875 41.84375 41.421875 45.53125 \r\nQ 43.3125 49.21875 43.3125 52.78125 \r\nQ 43.3125 58.59375 39.234375 62.25 \r\nQ 35.15625 65.921875 28.609375 65.921875 \r\nQ 23.96875 65.921875 18.8125 64.3125 \r\nQ 13.671875 62.703125 7.8125 59.421875 \r\nL 7.8125 69.390625 \r\nQ 13.765625 71.78125 18.9375 73 \r\nQ 24.125 74.21875 28.421875 74.21875 \r\nQ 39.75 74.21875 46.484375 68.546875 \r\nQ 53.21875 62.890625 53.21875 53.421875 \r\nQ 53.21875 48.921875 51.53125 44.890625 \r\nQ 49.859375 40.875 45.40625 35.40625 \r\nQ 44.1875 33.984375 37.640625 27.21875 \r\nQ 31.109375 20.453125 19.1875 8.296875 \r\nz\r\n\" id=\"DejaVuSans-50\"/>\r\n       </defs>\r\n       <use xlink:href=\"#DejaVuSans-50\"/>\r\n       <use x=\"63.623047\" xlink:href=\"#DejaVuSans-48\"/>\r\n       <use x=\"127.246094\" xlink:href=\"#DejaVuSans-48\"/>\r\n      </g>\r\n     </g>\r\n    </g>\r\n    <g id=\"ytick_4\">\r\n     <g id=\"line2d_12\">\r\n      <g>\r\n       <use style=\"stroke:#000000;stroke-width:0.8;\" x=\"46.965625\" xlink:href=\"#m8239165c2e\" y=\"290.205561\"/>\r\n      </g>\r\n     </g>\r\n     <g id=\"text_13\">\r\n      <!-- 300 -->\r\n      <g transform=\"translate(20.878125 294.00478)scale(0.1 -0.1)\">\r\n       <defs>\r\n        <path d=\"M 40.578125 39.3125 \r\nQ 47.65625 37.796875 51.625 33 \r\nQ 55.609375 28.21875 55.609375 21.1875 \r\nQ 55.609375 10.40625 48.1875 4.484375 \r\nQ 40.765625 -1.421875 27.09375 -1.421875 \r\nQ 22.515625 -1.421875 17.65625 -0.515625 \r\nQ 12.796875 0.390625 7.625 2.203125 \r\nL 7.625 11.71875 \r\nQ 11.71875 9.328125 16.59375 8.109375 \r\nQ 21.484375 6.890625 26.8125 6.890625 \r\nQ 36.078125 6.890625 40.9375 10.546875 \r\nQ 45.796875 14.203125 45.796875 21.1875 \r\nQ 45.796875 27.640625 41.28125 31.265625 \r\nQ 36.765625 34.90625 28.71875 34.90625 \r\nL 20.21875 34.90625 \r\nL 20.21875 43.015625 \r\nL 29.109375 43.015625 \r\nQ 36.375 43.015625 40.234375 45.921875 \r\nQ 44.09375 48.828125 44.09375 54.296875 \r\nQ 44.09375 59.90625 40.109375 62.90625 \r\nQ 36.140625 65.921875 28.71875 65.921875 \r\nQ 24.65625 65.921875 20.015625 65.03125 \r\nQ 15.375 64.15625 9.8125 62.3125 \r\nL 9.8125 71.09375 \r\nQ 15.4375 72.65625 20.34375 73.4375 \r\nQ 25.25 74.21875 29.59375 74.21875 \r\nQ 40.828125 74.21875 47.359375 69.109375 \r\nQ 53.90625 64.015625 53.90625 55.328125 \r\nQ 53.90625 49.265625 50.4375 45.09375 \r\nQ 46.96875 40.921875 40.578125 39.3125 \r\nz\r\n\" id=\"DejaVuSans-51\"/>\r\n       </defs>\r\n       <use xlink:href=\"#DejaVuSans-51\"/>\r\n       <use x=\"63.623047\" xlink:href=\"#DejaVuSans-48\"/>\r\n       <use x=\"127.246094\" xlink:href=\"#DejaVuSans-48\"/>\r\n      </g>\r\n     </g>\r\n    </g>\r\n    <g id=\"ytick_5\">\r\n     <g id=\"line2d_13\">\r\n      <g>\r\n       <use style=\"stroke:#000000;stroke-width:0.8;\" x=\"46.965625\" xlink:href=\"#m8239165c2e\" y=\"203.340748\"/>\r\n      </g>\r\n     </g>\r\n     <g id=\"text_14\">\r\n      <!-- 400 -->\r\n      <g transform=\"translate(20.878125 207.139967)scale(0.1 -0.1)\">\r\n       <defs>\r\n        <path d=\"M 37.796875 64.3125 \r\nL 12.890625 25.390625 \r\nL 37.796875 25.390625 \r\nz\r\nM 35.203125 72.90625 \r\nL 47.609375 72.90625 \r\nL 47.609375 25.390625 \r\nL 58.015625 25.390625 \r\nL 58.015625 17.1875 \r\nL 47.609375 17.1875 \r\nL 47.609375 0 \r\nL 37.796875 0 \r\nL 37.796875 17.1875 \r\nL 4.890625 17.1875 \r\nL 4.890625 26.703125 \r\nz\r\n\" id=\"DejaVuSans-52\"/>\r\n       </defs>\r\n       <use xlink:href=\"#DejaVuSans-52\"/>\r\n       <use x=\"63.623047\" xlink:href=\"#DejaVuSans-48\"/>\r\n       <use x=\"127.246094\" xlink:href=\"#DejaVuSans-48\"/>\r\n      </g>\r\n     </g>\r\n    </g>\r\n    <g id=\"ytick_6\">\r\n     <g id=\"line2d_14\">\r\n      <g>\r\n       <use style=\"stroke:#000000;stroke-width:0.8;\" x=\"46.965625\" xlink:href=\"#m8239165c2e\" y=\"116.475935\"/>\r\n      </g>\r\n     </g>\r\n     <g id=\"text_15\">\r\n      <!-- 500 -->\r\n      <g transform=\"translate(20.878125 120.275154)scale(0.1 -0.1)\">\r\n       <defs>\r\n        <path d=\"M 10.796875 72.90625 \r\nL 49.515625 72.90625 \r\nL 49.515625 64.59375 \r\nL 19.828125 64.59375 \r\nL 19.828125 46.734375 \r\nQ 21.96875 47.46875 24.109375 47.828125 \r\nQ 26.265625 48.1875 28.421875 48.1875 \r\nQ 40.625 48.1875 47.75 41.5 \r\nQ 54.890625 34.8125 54.890625 23.390625 \r\nQ 54.890625 11.625 47.5625 5.09375 \r\nQ 40.234375 -1.421875 26.90625 -1.421875 \r\nQ 22.3125 -1.421875 17.546875 -0.640625 \r\nQ 12.796875 0.140625 7.71875 1.703125 \r\nL 7.71875 11.625 \r\nQ 12.109375 9.234375 16.796875 8.0625 \r\nQ 21.484375 6.890625 26.703125 6.890625 \r\nQ 35.15625 6.890625 40.078125 11.328125 \r\nQ 45.015625 15.765625 45.015625 23.390625 \r\nQ 45.015625 31 40.078125 35.4375 \r\nQ 35.15625 39.890625 26.703125 39.890625 \r\nQ 22.75 39.890625 18.8125 39.015625 \r\nQ 14.890625 38.140625 10.796875 36.28125 \r\nz\r\n\" id=\"DejaVuSans-53\"/>\r\n       </defs>\r\n       <use xlink:href=\"#DejaVuSans-53\"/>\r\n       <use x=\"63.623047\" xlink:href=\"#DejaVuSans-48\"/>\r\n       <use x=\"127.246094\" xlink:href=\"#DejaVuSans-48\"/>\r\n      </g>\r\n     </g>\r\n    </g>\r\n    <g id=\"ytick_7\">\r\n     <g id=\"line2d_15\">\r\n      <g>\r\n       <use style=\"stroke:#000000;stroke-width:0.8;\" x=\"46.965625\" xlink:href=\"#m8239165c2e\" y=\"29.611122\"/>\r\n      </g>\r\n     </g>\r\n     <g id=\"text_16\">\r\n      <!-- 600 -->\r\n      <g transform=\"translate(20.878125 33.410341)scale(0.1 -0.1)\">\r\n       <defs>\r\n        <path d=\"M 33.015625 40.375 \r\nQ 26.375 40.375 22.484375 35.828125 \r\nQ 18.609375 31.296875 18.609375 23.390625 \r\nQ 18.609375 15.53125 22.484375 10.953125 \r\nQ 26.375 6.390625 33.015625 6.390625 \r\nQ 39.65625 6.390625 43.53125 10.953125 \r\nQ 47.40625 15.53125 47.40625 23.390625 \r\nQ 47.40625 31.296875 43.53125 35.828125 \r\nQ 39.65625 40.375 33.015625 40.375 \r\nz\r\nM 52.59375 71.296875 \r\nL 52.59375 62.3125 \r\nQ 48.875 64.0625 45.09375 64.984375 \r\nQ 41.3125 65.921875 37.59375 65.921875 \r\nQ 27.828125 65.921875 22.671875 59.328125 \r\nQ 17.53125 52.734375 16.796875 39.40625 \r\nQ 19.671875 43.65625 24.015625 45.921875 \r\nQ 28.375 48.1875 33.59375 48.1875 \r\nQ 44.578125 48.1875 50.953125 41.515625 \r\nQ 57.328125 34.859375 57.328125 23.390625 \r\nQ 57.328125 12.15625 50.6875 5.359375 \r\nQ 44.046875 -1.421875 33.015625 -1.421875 \r\nQ 20.359375 -1.421875 13.671875 8.265625 \r\nQ 6.984375 17.96875 6.984375 36.375 \r\nQ 6.984375 53.65625 15.1875 63.9375 \r\nQ 23.390625 74.21875 37.203125 74.21875 \r\nQ 40.921875 74.21875 44.703125 73.484375 \r\nQ 48.484375 72.75 52.59375 71.296875 \r\nz\r\n\" id=\"DejaVuSans-54\"/>\r\n       </defs>\r\n       <use xlink:href=\"#DejaVuSans-54\"/>\r\n       <use x=\"63.623047\" xlink:href=\"#DejaVuSans-48\"/>\r\n       <use x=\"127.246094\" xlink:href=\"#DejaVuSans-48\"/>\r\n      </g>\r\n     </g>\r\n    </g>\r\n    <g id=\"text_17\">\r\n     <!-- Count -->\r\n     <g transform=\"translate(14.798438 293.848438)rotate(-90)scale(0.1 -0.1)\">\r\n      <use xlink:href=\"#DejaVuSans-67\"/>\r\n      <use x=\"69.824219\" xlink:href=\"#DejaVuSans-111\"/>\r\n      <use x=\"131.005859\" xlink:href=\"#DejaVuSans-117\"/>\r\n      <use x=\"194.384766\" xlink:href=\"#DejaVuSans-110\"/>\r\n      <use x=\"257.763672\" xlink:href=\"#DejaVuSans-116\"/>\r\n     </g>\r\n    </g>\r\n   </g>\r\n   <g id=\"patch_11\">\r\n    <path d=\"M 46.965625 550.8 \r\nL 46.965625 7.2 \r\n\" style=\"fill:none;stroke:#000000;stroke-linecap:square;stroke-linejoin:miter;stroke-width:0.8;\"/>\r\n   </g>\r\n   <g id=\"patch_12\">\r\n    <path d=\"M 1441.965625 550.8 \r\nL 1441.965625 7.2 \r\n\" style=\"fill:none;stroke:#000000;stroke-linecap:square;stroke-linejoin:miter;stroke-width:0.8;\"/>\r\n   </g>\r\n   <g id=\"patch_13\">\r\n    <path d=\"M 46.965625 550.8 \r\nL 1441.965625 550.8 \r\n\" style=\"fill:none;stroke:#000000;stroke-linecap:square;stroke-linejoin:miter;stroke-width:0.8;\"/>\r\n   </g>\r\n   <g id=\"patch_14\">\r\n    <path d=\"M 46.965625 7.2 \r\nL 1441.965625 7.2 \r\n\" style=\"fill:none;stroke:#000000;stroke-linecap:square;stroke-linejoin:miter;stroke-width:0.8;\"/>\r\n   </g>\r\n  </g>\r\n </g>\r\n <defs>\r\n  <clipPath id=\"p9b0c051700\">\r\n   <rect height=\"543.6\" width=\"1395\" x=\"46.965625\" y=\"7.2\"/>\r\n  </clipPath>\r\n </defs>\r\n</svg>\r\n",
            "image/png": "[encoded data removed]"
          },
          "metadata": {
            "needs_background": "light"
          }
        }
      ]
    },
    {
      "cell_type": "markdown",
      "metadata": {
        "id": "f0f5c5c5-1e60-4486-806c-3c181a92e807"
      },
      "source": [
        "Regular category is too high, unbalanced data.\n",
        "Will reduce by half.\n",
        "\n",
        "Checking proportion of Covid19 postive vs negative case for all patient in the Morbitidy column"
      ],
      "id": "f0f5c5c5-1e60-4486-806c-3c181a92e807"
    },
    {
      "cell_type": "code",
      "metadata": {
        "colab": {
          "base_uri": "https://localhost:8080/",
          "height": 326
        },
        "id": "04bd0084-4931-4d96-830f-3ec25c549bfd",
        "outputId": "ff81087c-62f1-4795-9d8e-67cb1dc65db6"
      },
      "source": [
        "pd.crosstab(df['Morbidity'], df['SARS-CoV-2_nucleic_acids'])"
      ],
      "id": "04bd0084-4931-4d96-830f-3ec25c549bfd",
      "execution_count": 7,
      "outputs": [
        {
          "output_type": "execute_result",
          "data": {
            "text/plain": [
              "SARS-CoV-2_nucleic_acids                Negative  \\\n",
              "Morbidity                                          \n",
              "Control                                      216   \n",
              "Control (Community-acquired pneumonia)       112   \n",
              "Critically ill                                 0   \n",
              "Mild                                           0   \n",
              "Regular                                        0   \n",
              "Severe                                         0   \n",
              "Suspected                                    248   \n",
              "Suspected (COVID-19-confirmed later)           0   \n",
              "\n",
              "SARS-CoV-2_nucleic_acids                Negative; Positive (Confirmed later)  \\\n",
              "Morbidity                                                                      \n",
              "Control                                                                    0   \n",
              "Control (Community-acquired pneumonia)                                     0   \n",
              "Critically ill                                                             0   \n",
              "Mild                                                                       0   \n",
              "Regular                                                                    0   \n",
              "Severe                                                                     0   \n",
              "Suspected                                                                  0   \n",
              "Suspected (COVID-19-confirmed later)                                      51   \n",
              "\n",
              "SARS-CoV-2_nucleic_acids                Positive  \n",
              "Morbidity                                         \n",
              "Control                                        0  \n",
              "Control (Community-acquired pneumonia)         0  \n",
              "Critically ill                                72  \n",
              "Mild                                          24  \n",
              "Regular                                      596  \n",
              "Severe                                       202  \n",
              "Suspected                                      0  \n",
              "Suspected (COVID-19-confirmed later)           0  "
            ],
            "text/html": "<div>\n<style scoped>\n    .dataframe tbody tr th:only-of-type {\n        vertical-align: middle;\n    }\n\n    .dataframe tbody tr th {\n        vertical-align: top;\n    }\n\n    .dataframe thead th {\n        text-align: right;\n    }\n</style>\n<table border=\"1\" class=\"dataframe\">\n  <thead>\n    <tr style=\"text-align: right;\">\n      <th>SARS-CoV-2_nucleic_acids</th>\n      <th>Negative</th>\n      <th>Negative; Positive (Confirmed later)</th>\n      <th>Positive</th>\n    </tr>\n    <tr>\n      <th>Morbidity</th>\n      <th></th>\n      <th></th>\n      <th></th>\n    </tr>\n  </thead>\n  <tbody>\n    <tr>\n      <th>Control</th>\n      <td>216</td>\n      <td>0</td>\n      <td>0</td>\n    </tr>\n    <tr>\n      <th>Control (Community-acquired pneumonia)</th>\n      <td>112</td>\n      <td>0</td>\n      <td>0</td>\n    </tr>\n    <tr>\n      <th>Critically ill</th>\n      <td>0</td>\n      <td>0</td>\n      <td>72</td>\n    </tr>\n    <tr>\n      <th>Mild</th>\n      <td>0</td>\n      <td>0</td>\n      <td>24</td>\n    </tr>\n    <tr>\n      <th>Regular</th>\n      <td>0</td>\n      <td>0</td>\n      <td>596</td>\n    </tr>\n    <tr>\n      <th>Severe</th>\n      <td>0</td>\n      <td>0</td>\n      <td>202</td>\n    </tr>\n    <tr>\n      <th>Suspected</th>\n      <td>248</td>\n      <td>0</td>\n      <td>0</td>\n    </tr>\n    <tr>\n      <th>Suspected (COVID-19-confirmed later)</th>\n      <td>0</td>\n      <td>51</td>\n      <td>0</td>\n    </tr>\n  </tbody>\n</table>\n</div>"
          },
          "metadata": {},
          "execution_count": 7
        }
      ]
    },
    {
      "cell_type": "code",
      "execution_count": 8,
      "metadata": {},
      "outputs": [
        {
          "output_type": "execute_result",
          "data": {
            "text/plain": [
              "SARS-CoV-2_nucleic_acids  Negative  Negative; Positive (Confirmed later)  \\\n",
              "Mortality                                                                  \n",
              "Cured                            0                                     0   \n",
              "Deceased                         0                                     0   \n",
              "Unknown                        576                                    51   \n",
              "\n",
              "SARS-CoV-2_nucleic_acids  Positive  \n",
              "Mortality                           \n",
              "Cured                          662  \n",
              "Deceased                        57  \n",
              "Unknown                        175  "
            ],
            "text/html": "<div>\n<style scoped>\n    .dataframe tbody tr th:only-of-type {\n        vertical-align: middle;\n    }\n\n    .dataframe tbody tr th {\n        vertical-align: top;\n    }\n\n    .dataframe thead th {\n        text-align: right;\n    }\n</style>\n<table border=\"1\" class=\"dataframe\">\n  <thead>\n    <tr style=\"text-align: right;\">\n      <th>SARS-CoV-2_nucleic_acids</th>\n      <th>Negative</th>\n      <th>Negative; Positive (Confirmed later)</th>\n      <th>Positive</th>\n    </tr>\n    <tr>\n      <th>Mortality</th>\n      <th></th>\n      <th></th>\n      <th></th>\n    </tr>\n  </thead>\n  <tbody>\n    <tr>\n      <th>Cured</th>\n      <td>0</td>\n      <td>0</td>\n      <td>662</td>\n    </tr>\n    <tr>\n      <th>Deceased</th>\n      <td>0</td>\n      <td>0</td>\n      <td>57</td>\n    </tr>\n    <tr>\n      <th>Unknown</th>\n      <td>576</td>\n      <td>51</td>\n      <td>175</td>\n    </tr>\n  </tbody>\n</table>\n</div>"
          },
          "metadata": {},
          "execution_count": 8
        }
      ],
      "source": [
        "pd.crosstab(df['Mortality'], df['SARS-CoV-2_nucleic_acids'])"
      ]
    },
    {
      "cell_type": "markdown",
      "metadata": {
        "id": "a1a5c145-ef92-4a11-a1b8-622d895c1964"
      },
      "source": [
        "We will drop all 'suspected' (248 patients) because they are negative as well as the 'Suspected (COVID-19-confirmed later)' that turned out positive, because we do not have any detail on the morbidity status (51 patients)"
      ],
      "id": "a1a5c145-ef92-4a11-a1b8-622d895c1964"
    },
    {
      "cell_type": "markdown",
      "metadata": {
        "id": "c95d95da-8b63-4725-b56b-9b82037f2977"
      },
      "source": [
        "#### Setting mortality target"
      ],
      "id": "c95d95da-8b63-4725-b56b-9b82037f2977"
    },
    {
      "cell_type": "code",
      "execution_count": 9,
      "metadata": {},
      "outputs": [],
      "source": [
        "\n",
        "df = df[df['Mortality']!='Unknown']\n",
        "\n",
        "# le = LabelEncoder()\n",
        "# df['target_mortality'] = le.fit_transform(df['Mortality'])"
      ]
    },
    {
      "cell_type": "code",
      "metadata": {
        "colab": {
          "base_uri": "https://localhost:8080/"
        },
        "id": "71511b5a-8ad3-4262-9627-20c41f1552b6",
        "outputId": "151c7227-4148-46a2-9682-287b72bc022b"
      },
      "source": [
        "df['Mortality'].value_counts()"
      ],
      "id": "71511b5a-8ad3-4262-9627-20c41f1552b6",
      "execution_count": 10,
      "outputs": [
        {
          "output_type": "execute_result",
          "data": {
            "text/plain": [
              "Cured       662\n",
              "Deceased     57\n",
              "Name: Mortality, dtype: int64"
            ]
          },
          "metadata": {},
          "execution_count": 10
        }
      ]
    },
    {
      "cell_type": "markdown",
      "metadata": {
        "tags": [],
        "id": "bf126e7f-9741-4714-ad0a-270da673c284"
      },
      "source": [
        "## Pipeline"
      ],
      "id": "bf126e7f-9741-4714-ad0a-270da673c284"
    },
    {
      "cell_type": "markdown",
      "metadata": {
        "tags": [],
        "id": "72be30f1-1504-4c5b-9abf-7717d699c977"
      },
      "source": [
        "### Preprocessing"
      ],
      "id": "72be30f1-1504-4c5b-9abf-7717d699c977"
    },
    {
      "cell_type": "code",
      "metadata": {
        "id": "135bc46e-2d2e-42c8-9b35-7d54ff1c3f04"
      },
      "source": [
        "def clean(df):\n",
        "    for feature in df.columns:\n",
        "        try:\n",
        "            df[feature] = df[feature].str.replace('>','')\n",
        "            df[feature] = df[feature].str.replace('<','')\n",
        "        except AttributeError:\n",
        "            pass\n",
        "        df[feature] = df[feature].astype(float)\n",
        "    return df\n",
        "    \n",
        "def target_set(df):\n",
        "    df['target']=np.where(df['Mortality']=='Cured', 0, 1)\n",
        "    return df[['target']]\n",
        "\n",
        "def select_feature(df):\n",
        "    return df[selected_features]\n",
        "\n",
        "def cast_to_df(df):\n",
        "    return pd.DataFrame(df, columns=[\"target\"]+selected_features)"
      ],
      "id": "135bc46e-2d2e-42c8-9b35-7d54ff1c3f04",
      "execution_count": 11,
      "outputs": []
    },
    {
      "cell_type": "code",
      "metadata": {
        "id": "f32049b8-733a-4133-afea-332aca5f57c4"
      },
      "source": [
        "selected_features = ['NEP', 'Age', 'LDH', 'NE', 'LYP', 'LY', 'ALB', 'EOP', 'EO', 'ALG', 'CA', 'MOP', 'INR', 'BUN', 'TBIL', 'WBC', 'DD']\n",
        "\n",
        "pipe_clean = Pipeline([\n",
        "    ('selector1', FunctionTransformer(select_feature)),\n",
        "    ('clean', FunctionTransformer(clean)),\n",
        "])\n",
        "\n",
        "pipe_target = Pipeline([\n",
        "    ('target', FunctionTransformer(target_set) ) \n",
        "    ])\n",
        "\n",
        "fu = FeatureUnion([('pipe_target', pipe_target),('pipe_clean', pipe_clean)])\n",
        "\n",
        "staging_pipe = Pipeline([('featureUnion', fu),\n",
        "                    ('cast_to_df',FunctionTransformer(cast_to_df))\n",
        "                    ])"
      ],
      "id": "f32049b8-733a-4133-afea-332aca5f57c4",
      "execution_count": 12,
      "outputs": []
    },
    {
      "cell_type": "code",
      "metadata": {
        "id": "c49c2e91-6294-4214-b9ee-b38b0631e15e"
      },
      "source": [
        "num_transformer = Pipeline([\n",
        "    ('imputer', SimpleImputer(strategy='constant', fill_value=-1)),\n",
        "    ('scaler', StandardScaler())\n",
        "])\n",
        "\n",
        "cat_transformer = Pipeline([\n",
        "    ('inputer_object', SimpleImputer(strategy='constant', fill_value='unknown')),\n",
        "    ('cat_encoder', OneHotEncoder(handle_unknown='ignore', sparse=False))\n",
        "])\n",
        "\n",
        "preprocessor = ColumnTransformer([\n",
        "    ('num_transformer', num_transformer, make_column_selector(dtype_include=\"float64\")),\n",
        "    ('cat_transformer', cat_transformer, make_column_selector(dtype_include=['object', 'O']))],\n",
        "     remainder='passthrough')\n",
        "    \n",
        "\n",
        "\n",
        "final_pipe = Pipeline([\n",
        "    ('preprocessing', preprocessor),\n",
        "    ('linear_classification', LogisticRegression(max_iter=5000))\n",
        "    ])"
      ],
      "id": "c49c2e91-6294-4214-b9ee-b38b0631e15e",
      "execution_count": 13,
      "outputs": []
    },
    {
      "cell_type": "code",
      "metadata": {
        "id": "2a7acc25-1458-4504-8beb-b28b690c83fe"
      },
      "source": [
        "df_staging=staging_pipe.fit_transform(df)\n",
        "\n",
        "X = df_staging.drop(columns = ['target'])\n",
        "y = df_staging['target']"
      ],
      "id": "2a7acc25-1458-4504-8beb-b28b690c83fe",
      "execution_count": 14,
      "outputs": [
        {
          "output_type": "stream",
          "name": "stderr",
          "text": [
            "<ipython-input-11-c025bea8ecce>:8: SettingWithCopyWarning: \nA value is trying to be set on a copy of a slice from a DataFrame.\nTry using .loc[row_indexer,col_indexer] = value instead\n\nSee the caveats in the documentation: https://pandas.pydata.org/pandas-docs/stable/user_guide/indexing.html#returning-a-view-versus-a-copy\n  df[feature] = df[feature].astype(float)\n<ipython-input-11-c025bea8ecce>:4: SettingWithCopyWarning: \nA value is trying to be set on a copy of a slice from a DataFrame.\nTry using .loc[row_indexer,col_indexer] = value instead\n\nSee the caveats in the documentation: https://pandas.pydata.org/pandas-docs/stable/user_guide/indexing.html#returning-a-view-versus-a-copy\n  df[feature] = df[feature].str.replace('>','')\n<ipython-input-11-c025bea8ecce>:5: SettingWithCopyWarning: \nA value is trying to be set on a copy of a slice from a DataFrame.\nTry using .loc[row_indexer,col_indexer] = value instead\n\nSee the caveats in the documentation: https://pandas.pydata.org/pandas-docs/stable/user_guide/indexing.html#returning-a-view-versus-a-copy\n  df[feature] = df[feature].str.replace('<','')\n"
          ]
        }
      ]
    },
    {
      "cell_type": "code",
      "execution_count": 15,
      "metadata": {},
      "outputs": [
        {
          "output_type": "execute_result",
          "data": {
            "text/plain": [
              "target    float64\n",
              "NEP       float64\n",
              "Age       float64\n",
              "LDH       float64\n",
              "NE        float64\n",
              "LYP       float64\n",
              "LY        float64\n",
              "ALB       float64\n",
              "EOP       float64\n",
              "EO        float64\n",
              "ALG       float64\n",
              "CA        float64\n",
              "MOP       float64\n",
              "INR       float64\n",
              "BUN       float64\n",
              "TBIL      float64\n",
              "WBC       float64\n",
              "DD        float64\n",
              "dtype: object"
            ]
          },
          "metadata": {},
          "execution_count": 15
        }
      ],
      "source": [
        "df_staging.dtypes"
      ]
    },
    {
      "cell_type": "code",
      "metadata": {
        "colab": {
          "base_uri": "https://localhost:8080/"
        },
        "id": "SENnGkzMCg8w",
        "outputId": "24fd56ad-3989-42be-d577-b8dd543e9302"
      },
      "source": [
        "df_staging.shape"
      ],
      "id": "SENnGkzMCg8w",
      "execution_count": 16,
      "outputs": [
        {
          "output_type": "execute_result",
          "data": {
            "text/plain": [
              "(719, 18)"
            ]
          },
          "metadata": {},
          "execution_count": 16
        }
      ]
    },
    {
      "cell_type": "code",
      "execution_count": 17,
      "metadata": {},
      "outputs": [
        {
          "output_type": "execute_result",
          "data": {
            "text/plain": [
              "   target   NEP   Age    LDH    NE   LYP    LY   ALB  EOP    EO  ALG    CA  \\\n",
              "0     0.0  46.7  81.0  299.0  1.13  41.2  1.00  34.7  3.1  0.07  1.2  2.08   \n",
              "1     0.0  61.6  50.0  392.0  1.20  33.8  0.66  40.9  0.0  0.00  1.6  2.29   \n",
              "2     0.0  75.1  65.0  297.0  3.01  16.9  0.68  30.0  0.1  0.00  0.9  1.77   \n",
              "3     0.0  79.7  73.0  546.0  4.19  13.9  0.73  31.7  0.0  0.00  1.2  2.05   \n",
              "4     0.0  71.6  64.0    NaN  5.23  22.4  1.64   NaN  0.0  0.00  NaN   NaN   \n",
              "\n",
              "   MOP   INR   BUN  TBIL   WBC    DD  \n",
              "0  8.7  1.11  6.96   9.8  2.42  1.26  \n",
              "1  4.6  0.91  4.05   9.5  1.95  0.35  \n",
              "2  7.5   NaN  6.07   4.7  4.01   NaN  \n",
              "3  5.8  0.94  6.63   9.6  5.25  1.70  \n",
              "4  5.9   NaN   NaN   NaN  7.31   NaN  "
            ],
            "text/html": "<div>\n<style scoped>\n    .dataframe tbody tr th:only-of-type {\n        vertical-align: middle;\n    }\n\n    .dataframe tbody tr th {\n        vertical-align: top;\n    }\n\n    .dataframe thead th {\n        text-align: right;\n    }\n</style>\n<table border=\"1\" class=\"dataframe\">\n  <thead>\n    <tr style=\"text-align: right;\">\n      <th></th>\n      <th>target</th>\n      <th>NEP</th>\n      <th>Age</th>\n      <th>LDH</th>\n      <th>NE</th>\n      <th>LYP</th>\n      <th>LY</th>\n      <th>ALB</th>\n      <th>EOP</th>\n      <th>EO</th>\n      <th>ALG</th>\n      <th>CA</th>\n      <th>MOP</th>\n      <th>INR</th>\n      <th>BUN</th>\n      <th>TBIL</th>\n      <th>WBC</th>\n      <th>DD</th>\n    </tr>\n  </thead>\n  <tbody>\n    <tr>\n      <th>0</th>\n      <td>0.0</td>\n      <td>46.7</td>\n      <td>81.0</td>\n      <td>299.0</td>\n      <td>1.13</td>\n      <td>41.2</td>\n      <td>1.00</td>\n      <td>34.7</td>\n      <td>3.1</td>\n      <td>0.07</td>\n      <td>1.2</td>\n      <td>2.08</td>\n      <td>8.7</td>\n      <td>1.11</td>\n      <td>6.96</td>\n      <td>9.8</td>\n      <td>2.42</td>\n      <td>1.26</td>\n    </tr>\n    <tr>\n      <th>1</th>\n      <td>0.0</td>\n      <td>61.6</td>\n      <td>50.0</td>\n      <td>392.0</td>\n      <td>1.20</td>\n      <td>33.8</td>\n      <td>0.66</td>\n      <td>40.9</td>\n      <td>0.0</td>\n      <td>0.00</td>\n      <td>1.6</td>\n      <td>2.29</td>\n      <td>4.6</td>\n      <td>0.91</td>\n      <td>4.05</td>\n      <td>9.5</td>\n      <td>1.95</td>\n      <td>0.35</td>\n    </tr>\n    <tr>\n      <th>2</th>\n      <td>0.0</td>\n      <td>75.1</td>\n      <td>65.0</td>\n      <td>297.0</td>\n      <td>3.01</td>\n      <td>16.9</td>\n      <td>0.68</td>\n      <td>30.0</td>\n      <td>0.1</td>\n      <td>0.00</td>\n      <td>0.9</td>\n      <td>1.77</td>\n      <td>7.5</td>\n      <td>NaN</td>\n      <td>6.07</td>\n      <td>4.7</td>\n      <td>4.01</td>\n      <td>NaN</td>\n    </tr>\n    <tr>\n      <th>3</th>\n      <td>0.0</td>\n      <td>79.7</td>\n      <td>73.0</td>\n      <td>546.0</td>\n      <td>4.19</td>\n      <td>13.9</td>\n      <td>0.73</td>\n      <td>31.7</td>\n      <td>0.0</td>\n      <td>0.00</td>\n      <td>1.2</td>\n      <td>2.05</td>\n      <td>5.8</td>\n      <td>0.94</td>\n      <td>6.63</td>\n      <td>9.6</td>\n      <td>5.25</td>\n      <td>1.70</td>\n    </tr>\n    <tr>\n      <th>4</th>\n      <td>0.0</td>\n      <td>71.6</td>\n      <td>64.0</td>\n      <td>NaN</td>\n      <td>5.23</td>\n      <td>22.4</td>\n      <td>1.64</td>\n      <td>NaN</td>\n      <td>0.0</td>\n      <td>0.00</td>\n      <td>NaN</td>\n      <td>NaN</td>\n      <td>5.9</td>\n      <td>NaN</td>\n      <td>NaN</td>\n      <td>NaN</td>\n      <td>7.31</td>\n      <td>NaN</td>\n    </tr>\n  </tbody>\n</table>\n</div>"
          },
          "metadata": {},
          "execution_count": 17
        }
      ],
      "source": [
        "df_staging.head()"
      ]
    },
    {
      "cell_type": "code",
      "metadata": {
        "colab": {
          "base_uri": "https://localhost:8080/"
        },
        "id": "54xihdO5zPRQ",
        "outputId": "36b452e1-a659-43a5-de95-e9f7e77bbd3e"
      },
      "source": [
        "model = final_pipe.fit(df_staging.drop(columns=['target']),df_staging['target'])"
      ],
      "id": "54xihdO5zPRQ",
      "execution_count": 18,
      "outputs": []
    },
    {
      "cell_type": "code",
      "metadata": {
        "colab": {
          "base_uri": "https://localhost:8080/"
        },
        "id": "46p_XY0a_cLa",
        "outputId": "4bff0f39-4e9a-4cfb-f09e-3f69e98c115f"
      },
      "source": [
        "model.predict(df_staging.drop(columns=['target']))"
      ],
      "id": "46p_XY0a_cLa",
      "execution_count": 19,
      "outputs": [
        {
          "output_type": "execute_result",
          "data": {
            "text/plain": [
              "array([0., 0., 0., 0., 0., 0., 0., 0., 0., 0., 0., 1., 0., 0., 0., 0., 0.,\n",
              "       0., 0., 1., 0., 0., 0., 0., 0., 0., 0., 0., 0., 0., 0., 0., 0., 0.,\n",
              "       0., 0., 0., 0., 0., 0., 0., 0., 0., 0., 0., 0., 0., 0., 0., 0., 0.,\n",
              "       0., 0., 0., 0., 0., 0., 0., 0., 0., 0., 0., 0., 0., 0., 0., 0., 0.,\n",
              "       0., 0., 0., 0., 0., 0., 0., 0., 0., 0., 0., 0., 0., 0., 0., 0., 0.,\n",
              "       0., 0., 0., 0., 0., 0., 0., 1., 0., 0., 0., 0., 0., 0., 0., 0., 0.,\n",
              "       0., 0., 0., 0., 0., 0., 0., 0., 0., 0., 0., 0., 0., 0., 0., 0., 0.,\n",
              "       0., 0., 0., 0., 0., 0., 0., 0., 0., 1., 0., 0., 0., 0., 0., 0., 0.,\n",
              "       0., 0., 1., 0., 0., 1., 0., 0., 0., 0., 0., 0., 0., 0., 0., 0., 0.,\n",
              "       0., 0., 0., 1., 0., 0., 0., 0., 0., 0., 0., 0., 0., 1., 0., 0., 0.,\n",
              "       0., 0., 0., 0., 0., 0., 0., 0., 0., 0., 0., 0., 0., 0., 0., 0., 0.,\n",
              "       0., 1., 0., 0., 0., 0., 0., 0., 0., 0., 0., 1., 0., 0., 0., 0., 0.,\n",
              "       0., 1., 0., 0., 0., 0., 0., 0., 0., 0., 0., 0., 0., 0., 0., 0., 0.,\n",
              "       0., 0., 0., 0., 0., 0., 0., 0., 0., 0., 0., 0., 0., 0., 0., 1., 0.,\n",
              "       0., 0., 0., 0., 1., 0., 0., 0., 0., 0., 0., 0., 0., 0., 0., 0., 0.,\n",
              "       0., 0., 0., 0., 0., 0., 0., 0., 0., 0., 0., 0., 0., 0., 0., 0., 0.,\n",
              "       1., 0., 0., 0., 0., 0., 0., 0., 0., 0., 0., 0., 0., 0., 0., 0., 0.,\n",
              "       0., 0., 0., 0., 0., 0., 0., 0., 0., 0., 0., 0., 0., 0., 0., 0., 0.,\n",
              "       0., 1., 0., 0., 0., 0., 0., 0., 0., 0., 0., 0., 0., 1., 0., 0., 0.,\n",
              "       0., 0., 0., 0., 0., 0., 0., 0., 0., 0., 0., 0., 0., 0., 0., 0., 0.,\n",
              "       0., 0., 0., 0., 0., 0., 0., 0., 0., 0., 0., 0., 0., 0., 0., 0., 0.,\n",
              "       0., 0., 0., 0., 0., 0., 0., 0., 0., 0., 0., 0., 0., 0., 0., 0., 0.,\n",
              "       0., 0., 0., 0., 0., 0., 0., 0., 0., 0., 0., 0., 0., 0., 0., 0., 0.,\n",
              "       0., 0., 0., 0., 0., 0., 0., 0., 0., 0., 0., 0., 0., 0., 0., 0., 0.,\n",
              "       0., 1., 0., 0., 0., 0., 0., 0., 0., 0., 0., 0., 0., 0., 0., 0., 0.,\n",
              "       0., 0., 0., 0., 0., 0., 0., 0., 0., 0., 0., 0., 0., 0., 0., 0., 0.,\n",
              "       1., 0., 0., 0., 0., 1., 0., 1., 0., 0., 0., 0., 0., 0., 0., 0., 0.,\n",
              "       0., 0., 0., 0., 0., 0., 0., 0., 0., 0., 0., 0., 0., 0., 0., 0., 0.,\n",
              "       0., 0., 0., 0., 0., 0., 0., 0., 0., 0., 1., 0., 1., 0., 0., 0., 0.,\n",
              "       0., 0., 0., 0., 0., 0., 0., 0., 0., 0., 0., 0., 0., 0., 0., 0., 0.,\n",
              "       0., 0., 0., 0., 0., 0., 0., 0., 0., 0., 0., 0., 0., 0., 0., 0., 0.,\n",
              "       0., 0., 0., 0., 0., 0., 0., 0., 0., 0., 0., 0., 0., 0., 1., 0., 0.,\n",
              "       0., 0., 0., 0., 0., 0., 0., 0., 0., 0., 0., 0., 0., 0., 0., 0., 0.,\n",
              "       0., 0., 0., 0., 0., 0., 0., 0., 0., 0., 0., 0., 0., 0., 0., 0., 0.,\n",
              "       0., 0., 0., 0., 0., 0., 0., 0., 0., 0., 0., 0., 0., 0., 0., 0., 0.,\n",
              "       0., 0., 0., 0., 0., 0., 0., 0., 0., 0., 0., 0., 0., 0., 0., 1., 0.,\n",
              "       1., 0., 0., 0., 0., 0., 0., 0., 0., 0., 0., 0., 0., 0., 0., 0., 0.,\n",
              "       0., 0., 0., 0., 0., 0., 0., 0., 0., 0., 0., 0., 0., 0., 0., 0., 0.,\n",
              "       0., 0., 0., 0., 0., 0., 0., 0., 0., 0., 0., 0., 0., 0., 0., 0., 0.,\n",
              "       0., 0., 0., 0., 0., 0., 0., 0., 0., 0., 0., 0., 0., 0., 0., 0., 0.,\n",
              "       0., 0., 0., 0., 0., 0., 0., 0., 0., 0., 0., 0., 0., 0., 0., 0., 0.,\n",
              "       0., 0., 0., 0., 0., 0., 0., 0., 0., 0., 0., 0., 0., 0., 0., 0., 0.,\n",
              "       0., 0., 0., 0., 0.])"
            ]
          },
          "metadata": {},
          "execution_count": 19
        }
      ]
    },
    {
      "cell_type": "code",
      "metadata": {
        "tags": [],
        "id": "7f8461fb-e930-4e71-8682-93a44e0b87f5"
      },
      "source": [
        "X_train, X_test, y_train, y_test = train_test_split(X, y, test_size = 0.2)"
      ],
      "id": "7f8461fb-e930-4e71-8682-93a44e0b87f5",
      "execution_count": 20,
      "outputs": []
    },
    {
      "cell_type": "code",
      "execution_count": 21,
      "metadata": {},
      "outputs": [
        {
          "output_type": "execute_result",
          "data": {
            "text/plain": [
              "(719, 17)"
            ]
          },
          "metadata": {},
          "execution_count": 21
        }
      ],
      "source": [
        "X.shape"
      ]
    },
    {
      "cell_type": "code",
      "metadata": {
        "id": "ef538d27-93bd-416f-89fb-8e718aa45cd3",
        "outputId": "fccf355e-90bb-4ab6-bd1d-6af627b62041"
      },
      "source": [
        "random_search = RandomizedSearchCV(\n",
        "    final_pipe, \n",
        "    param_distributions={\n",
        "        'linear_classification__C': uniform(loc=0, scale=4),\n",
        "    },\n",
        "        cv=5,\n",
        "    scoring=\"roc_auc\",\n",
        "    return_train_score=True)\n",
        "\n",
        "\n",
        "random_search.fit(X_train, y_train)"
      ],
      "id": "ef538d27-93bd-416f-89fb-8e718aa45cd3",
      "execution_count": 22,
      "outputs": [
        {
          "output_type": "execute_result",
          "data": {
            "text/plain": [
              "RandomizedSearchCV(cv=5,\n",
              "                   estimator=Pipeline(steps=[('preprocessing',\n",
              "                                              ColumnTransformer(remainder='passthrough',\n",
              "                                                                transformers=[('num_transformer',\n",
              "                                                                               Pipeline(steps=[('imputer',\n",
              "                                                                                                SimpleImputer(fill_value=-1,\n",
              "                                                                                                              strategy='constant')),\n",
              "                                                                                               ('scaler',\n",
              "                                                                                                StandardScaler())]),\n",
              "                                                                               <sklearn.compose._column_transformer.make_column_selector object at 0x0000020D5396F5B0>),\n",
              "                                                                              ('cat_transform...\n",
              "                                                                                                OneHotEncoder(handle_unknown='ignore',\n",
              "                                                                                                              sparse=False))]),\n",
              "                                                                               <sklearn.compose._column_transformer.make_column_selector object at 0x0000020D5396F5E0>)])),\n",
              "                                             ('linear_classification',\n",
              "                                              LogisticRegression(max_iter=5000))]),\n",
              "                   param_distributions={'linear_classification__C': <scipy.stats._distn_infrastructure.rv_frozen object at 0x0000020D5396FDF0>},\n",
              "                   return_train_score=True, scoring='roc_auc')"
            ]
          },
          "metadata": {},
          "execution_count": 22
        }
      ]
    },
    {
      "cell_type": "code",
      "execution_count": 23,
      "metadata": {},
      "outputs": [
        {
          "output_type": "execute_result",
          "data": {
            "text/plain": [
              "0.8964013177598084"
            ]
          },
          "metadata": {},
          "execution_count": 23
        }
      ],
      "source": [
        "random_search.best_score_"
      ]
    },
    {
      "cell_type": "code",
      "execution_count": 24,
      "metadata": {},
      "outputs": [
        {
          "output_type": "execute_result",
          "data": {
            "text/plain": [
              "array([0., 0., 0., 0., 0., 0., 0., 0., 0., 0., 0., 0., 0., 0., 0., 0., 0.,\n",
              "       0., 0., 0., 0., 0., 0., 0., 0., 0., 0., 0., 0., 0., 0., 0., 0., 0.,\n",
              "       0., 0., 0., 0., 0., 0., 0., 0., 0., 0., 0., 0., 0., 0., 0., 0., 0.,\n",
              "       0., 0., 0., 0., 0., 0., 0., 0., 0., 0., 0., 0., 1., 0., 0., 0., 0.,\n",
              "       0., 0., 0., 0., 0., 1., 0., 0., 0., 0., 0., 0., 0., 0., 0., 0., 0.,\n",
              "       0., 0., 0., 0., 0., 0., 0., 0., 0., 0., 0., 0., 0., 0., 0., 0., 0.,\n",
              "       0., 0., 0., 0., 0., 0., 1., 0., 0., 0., 0., 0., 0., 0., 0., 0., 0.,\n",
              "       0., 0., 0., 0., 0., 0., 0., 0., 0., 0., 0., 0., 0., 0., 0., 0., 0.,\n",
              "       0., 0., 0., 0., 0., 0., 0., 0.])"
            ]
          },
          "metadata": {},
          "execution_count": 24
        }
      ],
      "source": [
        "random_search.predict(X_test)"
      ]
    },
    {
      "cell_type": "code",
      "metadata": {
        "id": "2595f16d-c99e-4eaa-84e2-a8a840b09394",
        "outputId": "3e8c9408-6a18-4a78-bd7f-238acc5a88e2"
      },
      "source": [
        "\n",
        "joblib.dump(random_search.best_estimator_, 'cf_model.pkl', compress=9)"
      ],
      "id": "2595f16d-c99e-4eaa-84e2-a8a840b09394",
      "execution_count": 25,
      "outputs": [
        {
          "output_type": "execute_result",
          "data": {
            "text/plain": [
              "['cf_model.pkl']"
            ]
          },
          "metadata": {},
          "execution_count": 25
        }
      ]
    },
    {
      "cell_type": "code",
      "metadata": {
        "id": "62ad9fc0-0133-4856-b49e-9d14d1809e12"
      },
      "source": [
        "sample = df.sample(1)"
      ],
      "id": "62ad9fc0-0133-4856-b49e-9d14d1809e12",
      "execution_count": 10,
      "outputs": []
    },
    {
      "cell_type": "code",
      "execution_count": 16,
      "metadata": {},
      "outputs": [
        {
          "output_type": "execute_result",
          "data": {
            "text/plain": [
              "        patient_no Hospital  Age Gender  Body_temperature Underlying_diseases  \\\n",
              "1043  Patient 1044   Liyuan   32   Male              37.4                  No   \n",
              "\n",
              "     SARS-CoV-2_nucleic_acids        CT Morbidity Mortality  ...  UNCC  BYST  \\\n",
              "1043                 Positive  Negative      Mild     Cured  ...   NaN   NaN   \n",
              "\n",
              "      MS-U  UNCX  URBC  UWBC  SG  PH  WBCC  BACT  \n",
              "1043   NaN   NaN   NaN   NaN NaN NaN   NaN   NaN  \n",
              "\n",
              "[1 rows x 133 columns]"
            ],
            "text/html": "<div>\n<style scoped>\n    .dataframe tbody tr th:only-of-type {\n        vertical-align: middle;\n    }\n\n    .dataframe tbody tr th {\n        vertical-align: top;\n    }\n\n    .dataframe thead th {\n        text-align: right;\n    }\n</style>\n<table border=\"1\" class=\"dataframe\">\n  <thead>\n    <tr style=\"text-align: right;\">\n      <th></th>\n      <th>patient_no</th>\n      <th>Hospital</th>\n      <th>Age</th>\n      <th>Gender</th>\n      <th>Body_temperature</th>\n      <th>Underlying_diseases</th>\n      <th>SARS-CoV-2_nucleic_acids</th>\n      <th>CT</th>\n      <th>Morbidity</th>\n      <th>Mortality</th>\n      <th>...</th>\n      <th>UNCC</th>\n      <th>BYST</th>\n      <th>MS-U</th>\n      <th>UNCX</th>\n      <th>URBC</th>\n      <th>UWBC</th>\n      <th>SG</th>\n      <th>PH</th>\n      <th>WBCC</th>\n      <th>BACT</th>\n    </tr>\n  </thead>\n  <tbody>\n    <tr>\n      <th>1043</th>\n      <td>Patient 1044</td>\n      <td>Liyuan</td>\n      <td>32</td>\n      <td>Male</td>\n      <td>37.4</td>\n      <td>No</td>\n      <td>Positive</td>\n      <td>Negative</td>\n      <td>Mild</td>\n      <td>Cured</td>\n      <td>...</td>\n      <td>NaN</td>\n      <td>NaN</td>\n      <td>NaN</td>\n      <td>NaN</td>\n      <td>NaN</td>\n      <td>NaN</td>\n      <td>NaN</td>\n      <td>NaN</td>\n      <td>NaN</td>\n      <td>NaN</td>\n    </tr>\n  </tbody>\n</table>\n<p>1 rows × 133 columns</p>\n</div>"
          },
          "metadata": {},
          "execution_count": 16
        }
      ],
      "source": [
        "sample.reindex()"
      ]
    },
    {
      "cell_type": "code",
      "execution_count": 19,
      "metadata": {},
      "outputs": [
        {
          "output_type": "error",
          "ename": "AttributeError",
          "evalue": "'Index' object has no attribute 'to_csv'",
          "traceback": [
            "\u001b[1;31m---------------------------------------------------------------------------\u001b[0m",
            "\u001b[1;31mAttributeError\u001b[0m                            Traceback (most recent call last)",
            "\u001b[1;32m<ipython-input-19-e998ad91f8d5>\u001b[0m in \u001b[0;36m<module>\u001b[1;34m\u001b[0m\n\u001b[1;32m----> 1\u001b[1;33m \u001b[0msample\u001b[0m\u001b[1;33m.\u001b[0m\u001b[0mcolumns\u001b[0m\u001b[1;33m.\u001b[0m\u001b[0mto_csv\u001b[0m\u001b[1;33m(\u001b[0m\u001b[1;34m'features.csv'\u001b[0m\u001b[1;33m)\u001b[0m\u001b[1;33m\u001b[0m\u001b[1;33m\u001b[0m\u001b[0m\n\u001b[0m",
            "\u001b[1;31mAttributeError\u001b[0m: 'Index' object has no attribute 'to_csv'"
          ]
        }
      ],
      "source": [
        "sample.columns.to_csv('features.csv')"
      ]
    },
    {
      "cell_type": "code",
      "execution_count": 11,
      "metadata": {},
      "outputs": [],
      "source": [
        "sample.to_json(\"sample_v1.json\")"
      ]
    },
    {
      "cell_type": "code",
      "execution_count": 20,
      "metadata": {},
      "outputs": [
        {
          "output_type": "execute_result",
          "data": {
            "text/plain": [
              "   target   NEP  Age    LDH     NE   LYP    LY   ALB  EOP    EO  ALG    CA  \\\n",
              "0       0  84.2   60    NaN  15.01   6.4  1.14   NaN  0.1  0.02  NaN   NaN   \n",
              "1       0  49.5   32    NaN   1.68  39.0  1.32  35.2  1.5  0.05  0.8  2.04   \n",
              "2       0  63.3   32  177.0   3.10  25.1  1.20  44.6  3.1  0.15  1.8  2.34   \n",
              "3       0  86.7   53  386.0   7.31   9.7  0.82  35.3  0.0  0.00  1.1  2.01   \n",
              "4       0  41.5   61  148.0   1.57  50.2  1.89  33.6  0.5  0.02  1.1  2.21   \n",
              "\n",
              "   MOP   INR   BUN  TBIL    WBC    DD  \n",
              "0  9.2   NaN   NaN   NaN  17.83   NaN  \n",
              "1  9.8  1.03  3.74  33.7   3.39  0.22  \n",
              "2  8.1  0.98  5.30   8.1   4.95  0.22  \n",
              "3  3.5  0.90  7.08  11.5   8.43  0.36  \n",
              "4  7.4  1.14  4.87  11.8   3.78  0.17  "
            ],
            "text/html": "<div>\n<style scoped>\n    .dataframe tbody tr th:only-of-type {\n        vertical-align: middle;\n    }\n\n    .dataframe tbody tr th {\n        vertical-align: top;\n    }\n\n    .dataframe thead th {\n        text-align: right;\n    }\n</style>\n<table border=\"1\" class=\"dataframe\">\n  <thead>\n    <tr style=\"text-align: right;\">\n      <th></th>\n      <th>target</th>\n      <th>NEP</th>\n      <th>Age</th>\n      <th>LDH</th>\n      <th>NE</th>\n      <th>LYP</th>\n      <th>LY</th>\n      <th>ALB</th>\n      <th>EOP</th>\n      <th>EO</th>\n      <th>ALG</th>\n      <th>CA</th>\n      <th>MOP</th>\n      <th>INR</th>\n      <th>BUN</th>\n      <th>TBIL</th>\n      <th>WBC</th>\n      <th>DD</th>\n    </tr>\n  </thead>\n  <tbody>\n    <tr>\n      <th>0</th>\n      <td>0</td>\n      <td>84.2</td>\n      <td>60</td>\n      <td>NaN</td>\n      <td>15.01</td>\n      <td>6.4</td>\n      <td>1.14</td>\n      <td>NaN</td>\n      <td>0.1</td>\n      <td>0.02</td>\n      <td>NaN</td>\n      <td>NaN</td>\n      <td>9.2</td>\n      <td>NaN</td>\n      <td>NaN</td>\n      <td>NaN</td>\n      <td>17.83</td>\n      <td>NaN</td>\n    </tr>\n    <tr>\n      <th>1</th>\n      <td>0</td>\n      <td>49.5</td>\n      <td>32</td>\n      <td>NaN</td>\n      <td>1.68</td>\n      <td>39.0</td>\n      <td>1.32</td>\n      <td>35.2</td>\n      <td>1.5</td>\n      <td>0.05</td>\n      <td>0.8</td>\n      <td>2.04</td>\n      <td>9.8</td>\n      <td>1.03</td>\n      <td>3.74</td>\n      <td>33.7</td>\n      <td>3.39</td>\n      <td>0.22</td>\n    </tr>\n    <tr>\n      <th>2</th>\n      <td>0</td>\n      <td>63.3</td>\n      <td>32</td>\n      <td>177.0</td>\n      <td>3.10</td>\n      <td>25.1</td>\n      <td>1.20</td>\n      <td>44.6</td>\n      <td>3.1</td>\n      <td>0.15</td>\n      <td>1.8</td>\n      <td>2.34</td>\n      <td>8.1</td>\n      <td>0.98</td>\n      <td>5.30</td>\n      <td>8.1</td>\n      <td>4.95</td>\n      <td>0.22</td>\n    </tr>\n    <tr>\n      <th>3</th>\n      <td>0</td>\n      <td>86.7</td>\n      <td>53</td>\n      <td>386.0</td>\n      <td>7.31</td>\n      <td>9.7</td>\n      <td>0.82</td>\n      <td>35.3</td>\n      <td>0.0</td>\n      <td>0.00</td>\n      <td>1.1</td>\n      <td>2.01</td>\n      <td>3.5</td>\n      <td>0.90</td>\n      <td>7.08</td>\n      <td>11.5</td>\n      <td>8.43</td>\n      <td>0.36</td>\n    </tr>\n    <tr>\n      <th>4</th>\n      <td>0</td>\n      <td>41.5</td>\n      <td>61</td>\n      <td>148.0</td>\n      <td>1.57</td>\n      <td>50.2</td>\n      <td>1.89</td>\n      <td>33.6</td>\n      <td>0.5</td>\n      <td>0.02</td>\n      <td>1.1</td>\n      <td>2.21</td>\n      <td>7.4</td>\n      <td>1.14</td>\n      <td>4.87</td>\n      <td>11.8</td>\n      <td>3.78</td>\n      <td>0.17</td>\n    </tr>\n  </tbody>\n</table>\n</div>"
          },
          "metadata": {},
          "execution_count": 20
        }
      ],
      "source": [
        "pd.read_json(\"staged.json\")"
      ]
    },
    {
      "cell_type": "code",
      "execution_count": 4,
      "metadata": {},
      "outputs": [
        {
          "output_type": "execute_result",
          "data": {
            "text/plain": [
              "    Unnamed: 0 Hospital  Age  Gender  Body_temperature  \\\n",
              "0  Patient 448    Union   60    Male              38.0   \n",
              "1  Patient 156    Union   32  Female              36.6   \n",
              "2  Patient 314    Union   32  Female              36.6   \n",
              "3   Patient 15    Union   53    Male              38.0   \n",
              "4  Patient 285    Union   61  Female              36.5   \n",
              "\n",
              "                               Underlying_diseases SARS-CoV-2_nucleic_acids  \\\n",
              "0                                               No                 Positive   \n",
              "1                                               No                 Positive   \n",
              "2                                               No                 Positive   \n",
              "3                                               No                 Positive   \n",
              "4  Heart disease, Hypertension, Lacunar infarction                 Positive   \n",
              "\n",
              "         CT Morbidity Mortality  ...  BYST  MS-U  UNCX  URBC  UWBC  SG  PH  \\\n",
              "0       NaN   Regular     Cured  ...   NaN   NaN   NaN   NaN   NaN NaN NaN   \n",
              "1  Positive   Regular     Cured  ...   NaN   NaN   NaN   NaN   NaN NaN NaN   \n",
              "2       NaN   Regular     Cured  ...   NaN   NaN   NaN   NaN   NaN NaN NaN   \n",
              "3  Positive    Severe     Cured  ...   NaN   NaN   NaN   NaN   NaN NaN NaN   \n",
              "4  Positive   Regular     Cured  ...   NaN   NaN   NaN   NaN   NaN NaN NaN   \n",
              "\n",
              "   WBCC  BACT  target  \n",
              "0   NaN   NaN       0  \n",
              "1   NaN   NaN       0  \n",
              "2   NaN   NaN       0  \n",
              "3   NaN   NaN       0  \n",
              "4   NaN   NaN       0  \n",
              "\n",
              "[5 rows x 134 columns]"
            ],
            "text/html": "<div>\n<style scoped>\n    .dataframe tbody tr th:only-of-type {\n        vertical-align: middle;\n    }\n\n    .dataframe tbody tr th {\n        vertical-align: top;\n    }\n\n    .dataframe thead th {\n        text-align: right;\n    }\n</style>\n<table border=\"1\" class=\"dataframe\">\n  <thead>\n    <tr style=\"text-align: right;\">\n      <th></th>\n      <th>Unnamed: 0</th>\n      <th>Hospital</th>\n      <th>Age</th>\n      <th>Gender</th>\n      <th>Body_temperature</th>\n      <th>Underlying_diseases</th>\n      <th>SARS-CoV-2_nucleic_acids</th>\n      <th>CT</th>\n      <th>Morbidity</th>\n      <th>Mortality</th>\n      <th>...</th>\n      <th>BYST</th>\n      <th>MS-U</th>\n      <th>UNCX</th>\n      <th>URBC</th>\n      <th>UWBC</th>\n      <th>SG</th>\n      <th>PH</th>\n      <th>WBCC</th>\n      <th>BACT</th>\n      <th>target</th>\n    </tr>\n  </thead>\n  <tbody>\n    <tr>\n      <th>0</th>\n      <td>Patient 448</td>\n      <td>Union</td>\n      <td>60</td>\n      <td>Male</td>\n      <td>38.0</td>\n      <td>No</td>\n      <td>Positive</td>\n      <td>NaN</td>\n      <td>Regular</td>\n      <td>Cured</td>\n      <td>...</td>\n      <td>NaN</td>\n      <td>NaN</td>\n      <td>NaN</td>\n      <td>NaN</td>\n      <td>NaN</td>\n      <td>NaN</td>\n      <td>NaN</td>\n      <td>NaN</td>\n      <td>NaN</td>\n      <td>0</td>\n    </tr>\n    <tr>\n      <th>1</th>\n      <td>Patient 156</td>\n      <td>Union</td>\n      <td>32</td>\n      <td>Female</td>\n      <td>36.6</td>\n      <td>No</td>\n      <td>Positive</td>\n      <td>Positive</td>\n      <td>Regular</td>\n      <td>Cured</td>\n      <td>...</td>\n      <td>NaN</td>\n      <td>NaN</td>\n      <td>NaN</td>\n      <td>NaN</td>\n      <td>NaN</td>\n      <td>NaN</td>\n      <td>NaN</td>\n      <td>NaN</td>\n      <td>NaN</td>\n      <td>0</td>\n    </tr>\n    <tr>\n      <th>2</th>\n      <td>Patient 314</td>\n      <td>Union</td>\n      <td>32</td>\n      <td>Female</td>\n      <td>36.6</td>\n      <td>No</td>\n      <td>Positive</td>\n      <td>NaN</td>\n      <td>Regular</td>\n      <td>Cured</td>\n      <td>...</td>\n      <td>NaN</td>\n      <td>NaN</td>\n      <td>NaN</td>\n      <td>NaN</td>\n      <td>NaN</td>\n      <td>NaN</td>\n      <td>NaN</td>\n      <td>NaN</td>\n      <td>NaN</td>\n      <td>0</td>\n    </tr>\n    <tr>\n      <th>3</th>\n      <td>Patient 15</td>\n      <td>Union</td>\n      <td>53</td>\n      <td>Male</td>\n      <td>38.0</td>\n      <td>No</td>\n      <td>Positive</td>\n      <td>Positive</td>\n      <td>Severe</td>\n      <td>Cured</td>\n      <td>...</td>\n      <td>NaN</td>\n      <td>NaN</td>\n      <td>NaN</td>\n      <td>NaN</td>\n      <td>NaN</td>\n      <td>NaN</td>\n      <td>NaN</td>\n      <td>NaN</td>\n      <td>NaN</td>\n      <td>0</td>\n    </tr>\n    <tr>\n      <th>4</th>\n      <td>Patient 285</td>\n      <td>Union</td>\n      <td>61</td>\n      <td>Female</td>\n      <td>36.5</td>\n      <td>Heart disease, Hypertension, Lacunar infarction</td>\n      <td>Positive</td>\n      <td>Positive</td>\n      <td>Regular</td>\n      <td>Cured</td>\n      <td>...</td>\n      <td>NaN</td>\n      <td>NaN</td>\n      <td>NaN</td>\n      <td>NaN</td>\n      <td>NaN</td>\n      <td>NaN</td>\n      <td>NaN</td>\n      <td>NaN</td>\n      <td>NaN</td>\n      <td>0</td>\n    </tr>\n  </tbody>\n</table>\n<p>5 rows × 134 columns</p>\n</div>"
          },
          "metadata": {},
          "execution_count": 4
        }
      ],
      "source": [
        "pd.read_csv(\"sample.csv\")"
      ]
    },
    {
      "cell_type": "code",
      "execution_count": 28,
      "metadata": {},
      "outputs": [
        {
          "output_type": "stream",
          "name": "stderr",
          "text": [
            "<ipython-input-11-c025bea8ecce>:8: SettingWithCopyWarning: \nA value is trying to be set on a copy of a slice from a DataFrame.\nTry using .loc[row_indexer,col_indexer] = value instead\n\nSee the caveats in the documentation: https://pandas.pydata.org/pandas-docs/stable/user_guide/indexing.html#returning-a-view-versus-a-copy\n  df[feature] = df[feature].astype(float)\n<ipython-input-11-c025bea8ecce>:4: SettingWithCopyWarning: \nA value is trying to be set on a copy of a slice from a DataFrame.\nTry using .loc[row_indexer,col_indexer] = value instead\n\nSee the caveats in the documentation: https://pandas.pydata.org/pandas-docs/stable/user_guide/indexing.html#returning-a-view-versus-a-copy\n  df[feature] = df[feature].str.replace('>','')\n<ipython-input-11-c025bea8ecce>:5: SettingWithCopyWarning: \nA value is trying to be set on a copy of a slice from a DataFrame.\nTry using .loc[row_indexer,col_indexer] = value instead\n\nSee the caveats in the documentation: https://pandas.pydata.org/pandas-docs/stable/user_guide/indexing.html#returning-a-view-versus-a-copy\n  df[feature] = df[feature].str.replace('<','')\n"
          ]
        }
      ],
      "source": [
        "# preprocessing\n",
        "sample_staged = staging_pipe.transform(sample)"
      ]
    },
    {
      "cell_type": "code",
      "execution_count": 29,
      "metadata": {},
      "outputs": [
        {
          "output_type": "execute_result",
          "data": {
            "text/plain": [
              "['staging_pipeline.pkl']"
            ]
          },
          "metadata": {},
          "execution_count": 29
        }
      ],
      "source": [
        "joblib.dump(staging_pipe, 'staging_pipeline.pkl', compress=9)"
      ]
    },
    {
      "cell_type": "code",
      "execution_count": 35,
      "metadata": {},
      "outputs": [
        {
          "output_type": "stream",
          "name": "stderr",
          "text": [
            "<ipython-input-11-c025bea8ecce>:8: SettingWithCopyWarning: \nA value is trying to be set on a copy of a slice from a DataFrame.\nTry using .loc[row_indexer,col_indexer] = value instead\n\nSee the caveats in the documentation: https://pandas.pydata.org/pandas-docs/stable/user_guide/indexing.html#returning-a-view-versus-a-copy\n  df[feature] = df[feature].astype(float)\n<ipython-input-11-c025bea8ecce>:4: SettingWithCopyWarning: \nA value is trying to be set on a copy of a slice from a DataFrame.\nTry using .loc[row_indexer,col_indexer] = value instead\n\nSee the caveats in the documentation: https://pandas.pydata.org/pandas-docs/stable/user_guide/indexing.html#returning-a-view-versus-a-copy\n  df[feature] = df[feature].str.replace('>','')\n<ipython-input-11-c025bea8ecce>:5: SettingWithCopyWarning: \nA value is trying to be set on a copy of a slice from a DataFrame.\nTry using .loc[row_indexer,col_indexer] = value instead\n\nSee the caveats in the documentation: https://pandas.pydata.org/pandas-docs/stable/user_guide/indexing.html#returning-a-view-versus-a-copy\n  df[feature] = df[feature].str.replace('<','')\n"
          ]
        },
        {
          "output_type": "execute_result",
          "data": {
            "text/plain": [
              "   target   NEP   Age    LDH     NE   LYP    LY   ALB  EOP    EO  ALG    CA  \\\n",
              "0     0.0  84.2  60.0    NaN  15.01   6.4  1.14   NaN  0.1  0.02  NaN   NaN   \n",
              "1     0.0  49.5  32.0    NaN   1.68  39.0  1.32  35.2  1.5  0.05  0.8  2.04   \n",
              "2     0.0  63.3  32.0  177.0   3.10  25.1  1.20  44.6  3.1  0.15  1.8  2.34   \n",
              "3     0.0  86.7  53.0  386.0   7.31   9.7  0.82  35.3  0.0  0.00  1.1  2.01   \n",
              "4     0.0  41.5  61.0  148.0   1.57  50.2  1.89  33.6  0.5  0.02  1.1  2.21   \n",
              "\n",
              "   MOP   INR   BUN  TBIL    WBC    DD  \n",
              "0  9.2   NaN   NaN   NaN  17.83   NaN  \n",
              "1  9.8  1.03  3.74  33.7   3.39  0.22  \n",
              "2  8.1  0.98  5.30   8.1   4.95  0.22  \n",
              "3  3.5  0.90  7.08  11.5   8.43  0.36  \n",
              "4  7.4  1.14  4.87  11.8   3.78  0.17  "
            ],
            "text/html": "<div>\n<style scoped>\n    .dataframe tbody tr th:only-of-type {\n        vertical-align: middle;\n    }\n\n    .dataframe tbody tr th {\n        vertical-align: top;\n    }\n\n    .dataframe thead th {\n        text-align: right;\n    }\n</style>\n<table border=\"1\" class=\"dataframe\">\n  <thead>\n    <tr style=\"text-align: right;\">\n      <th></th>\n      <th>target</th>\n      <th>NEP</th>\n      <th>Age</th>\n      <th>LDH</th>\n      <th>NE</th>\n      <th>LYP</th>\n      <th>LY</th>\n      <th>ALB</th>\n      <th>EOP</th>\n      <th>EO</th>\n      <th>ALG</th>\n      <th>CA</th>\n      <th>MOP</th>\n      <th>INR</th>\n      <th>BUN</th>\n      <th>TBIL</th>\n      <th>WBC</th>\n      <th>DD</th>\n    </tr>\n  </thead>\n  <tbody>\n    <tr>\n      <th>0</th>\n      <td>0.0</td>\n      <td>84.2</td>\n      <td>60.0</td>\n      <td>NaN</td>\n      <td>15.01</td>\n      <td>6.4</td>\n      <td>1.14</td>\n      <td>NaN</td>\n      <td>0.1</td>\n      <td>0.02</td>\n      <td>NaN</td>\n      <td>NaN</td>\n      <td>9.2</td>\n      <td>NaN</td>\n      <td>NaN</td>\n      <td>NaN</td>\n      <td>17.83</td>\n      <td>NaN</td>\n    </tr>\n    <tr>\n      <th>1</th>\n      <td>0.0</td>\n      <td>49.5</td>\n      <td>32.0</td>\n      <td>NaN</td>\n      <td>1.68</td>\n      <td>39.0</td>\n      <td>1.32</td>\n      <td>35.2</td>\n      <td>1.5</td>\n      <td>0.05</td>\n      <td>0.8</td>\n      <td>2.04</td>\n      <td>9.8</td>\n      <td>1.03</td>\n      <td>3.74</td>\n      <td>33.7</td>\n      <td>3.39</td>\n      <td>0.22</td>\n    </tr>\n    <tr>\n      <th>2</th>\n      <td>0.0</td>\n      <td>63.3</td>\n      <td>32.0</td>\n      <td>177.0</td>\n      <td>3.10</td>\n      <td>25.1</td>\n      <td>1.20</td>\n      <td>44.6</td>\n      <td>3.1</td>\n      <td>0.15</td>\n      <td>1.8</td>\n      <td>2.34</td>\n      <td>8.1</td>\n      <td>0.98</td>\n      <td>5.30</td>\n      <td>8.1</td>\n      <td>4.95</td>\n      <td>0.22</td>\n    </tr>\n    <tr>\n      <th>3</th>\n      <td>0.0</td>\n      <td>86.7</td>\n      <td>53.0</td>\n      <td>386.0</td>\n      <td>7.31</td>\n      <td>9.7</td>\n      <td>0.82</td>\n      <td>35.3</td>\n      <td>0.0</td>\n      <td>0.00</td>\n      <td>1.1</td>\n      <td>2.01</td>\n      <td>3.5</td>\n      <td>0.90</td>\n      <td>7.08</td>\n      <td>11.5</td>\n      <td>8.43</td>\n      <td>0.36</td>\n    </tr>\n    <tr>\n      <th>4</th>\n      <td>0.0</td>\n      <td>41.5</td>\n      <td>61.0</td>\n      <td>148.0</td>\n      <td>1.57</td>\n      <td>50.2</td>\n      <td>1.89</td>\n      <td>33.6</td>\n      <td>0.5</td>\n      <td>0.02</td>\n      <td>1.1</td>\n      <td>2.21</td>\n      <td>7.4</td>\n      <td>1.14</td>\n      <td>4.87</td>\n      <td>11.8</td>\n      <td>3.78</td>\n      <td>0.17</td>\n    </tr>\n  </tbody>\n</table>\n</div>"
          },
          "metadata": {},
          "execution_count": 35
        }
      ],
      "source": [
        "joblib.load('staging_pipeline.pkl').transform(sample)"
      ]
    },
    {
      "cell_type": "code",
      "execution_count": 30,
      "metadata": {},
      "outputs": [],
      "source": [
        "sample_staged.to_json('staged.json')"
      ]
    },
    {
      "cell_type": "code",
      "execution_count": 37,
      "metadata": {},
      "outputs": [
        {
          "output_type": "execute_result",
          "data": {
            "text/plain": [
              "0.07927677329624479"
            ]
          },
          "metadata": {},
          "execution_count": 37
        }
      ],
      "source": [
        "57/(662+57)"
      ]
    },
    {
      "cell_type": "code",
      "execution_count": 31,
      "metadata": {},
      "outputs": [
        {
          "output_type": "execute_result",
          "data": {
            "text/plain": [
              "array([0., 0., 0., 0., 0.])"
            ]
          },
          "metadata": {},
          "execution_count": 31
        }
      ],
      "source": [
        "random_search.predict(sample_staged.drop(columns=['target']))"
      ]
    },
    {
      "cell_type": "code",
      "execution_count": null,
      "metadata": {},
      "outputs": [],
      "source": []
    },
    {
      "cell_type": "code",
      "execution_count": 25,
      "metadata": {},
      "outputs": [],
      "source": [
        "to_predict = {\n",
        "    \"NEP\": 1.0,\n",
        "    \"Age\": 1.0,\n",
        "    \"LDH\": 1.0,\n",
        "    \"NE\": 1.0,\n",
        "    \"LYP\": 1.0,\n",
        "    \"LY\": 1.0,\n",
        "    \"ALB\": 1.0,\n",
        "    \"EOP\": 1.0,\n",
        "    \"EO\": 1.0,\n",
        "    \"ALG\": 1.0,\n",
        "    \"CA\": 1.0,\n",
        "    \"MOP\": 1.0,\n",
        "    \"INR\": 1.0,\n",
        "    \"BUN\": 1.0,\n",
        "    \"TBIL\": 1.0,\n",
        "    \"WBC\": 1.0,\n",
        "    \"DD\": 1.0\n",
        "}"
      ]
    },
    {
      "cell_type": "code",
      "execution_count": 23,
      "metadata": {},
      "outputs": [],
      "source": [
        "model = joblib.load('cf_model.pkl')"
      ]
    },
    {
      "cell_type": "code",
      "execution_count": 30,
      "metadata": {},
      "outputs": [],
      "source": [
        "single_point = pd.DataFrame(to_predict,index=[0])"
      ]
    },
    {
      "cell_type": "code",
      "execution_count": 33,
      "metadata": {},
      "outputs": [
        {
          "output_type": "execute_result",
          "data": {
            "text/plain": [
              "0.0"
            ]
          },
          "metadata": {},
          "execution_count": 33
        }
      ],
      "source": [
        "model.predict(single_point).tolist()[0]"
      ]
    },
    {
      "cell_type": "markdown",
      "metadata": {
        "id": "c4c31589-3ba9-4d5e-b455-33296a4f9440"
      },
      "source": [
        "## Next steps"
      ],
      "id": "c4c31589-3ba9-4d5e-b455-33296a4f9440"
    },
    {
      "cell_type": "markdown",
      "metadata": {
        "id": "8c4fd343-f7b5-46b8-99d0-f6c6caa4df64"
      },
      "source": [
        "### Fine tuning, Confusion matrix, KNN model"
      ],
      "id": "8c4fd343-f7b5-46b8-99d0-f6c6caa4df64"
    },
    {
      "cell_type": "code",
      "metadata": {
        "id": "f2d2e4bc-2de9-49ea-8807-a256e5c46702"
      },
      "source": [
        "# # predictions\n",
        "# final_pipe_trained.predict(X_test.iloc[:])\n",
        "\n",
        "# # Score model\n",
        "# final_pipe_trained.score(X_test,y_test)"
      ],
      "id": "f2d2e4bc-2de9-49ea-8807-a256e5c46702",
      "execution_count": 32,
      "outputs": []
    },
    {
      "cell_type": "code",
      "metadata": {
        "id": "6ce7068e-076d-49c3-8c63-dff8971a2236"
      },
      "source": [
        "# from sklearn.model_selection import cross_val_score\n",
        "\n",
        "# # Cross validate pipeline\n",
        "# cross_val_score(final_pipe, X_train, y_train, cv=5, scoring='r2').mean()"
      ],
      "id": "6ce7068e-076d-49c3-8c63-dff8971a2236",
      "execution_count": 33,
      "outputs": []
    },
    {
      "cell_type": "code",
      "metadata": {
        "id": "2d934226-1de3-4825-9776-74f0cb358f10"
      },
      "source": [
        "# y_test = [0, 1, 0, 0, 1, 0, 1, 1, 0, 1] # actual truths\n",
        "# preds = [0, 0, 0, 0, 1, 1, 1, 1, 1, 1] # predictions\n",
        "\n",
        "# results_df = pd.DataFrame({\"actual\": y_test,\n",
        "#                            \"predicted\": preds})#Store results in dataframe\n",
        "\n",
        "# confusion_matrix = pd.crosstab(index= results_df['actual'],\n",
        "#                                columns = results_df['predicted'])"
      ],
      "id": "2d934226-1de3-4825-9776-74f0cb358f10",
      "execution_count": 34,
      "outputs": []
    }
  ]
}