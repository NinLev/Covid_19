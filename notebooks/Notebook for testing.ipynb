{
 "cells": [
  {
   "cell_type": "markdown",
   "id": "52240e23",
   "metadata": {},
   "source": [
    "# Import packages\n",
    "\n"
   ]
  },
  {
   "cell_type": "code",
   "execution_count": 1,
   "id": "401749d3",
   "metadata": {},
   "outputs": [],
   "source": [
    "#!pip install opencv-python\n",
    "\n",
    "import pandas as pd\n",
    "import numpy as np\n",
    "import cv2\n",
    "import os\n",
    "\n",
    "#from tensorflow.keras.utils import to_categorical\n",
    "#from sklearn.model_selection import train_test_split"
   ]
  },
  {
   "cell_type": "code",
   "execution_count": null,
   "id": "c35877d4-0326-477c-a0c3-e6896155e2e8",
   "metadata": {},
   "outputs": [],
   "source": [
    "from tensorflow.keras.utils import to_categorical"
   ]
  },
  {
   "cell_type": "code",
   "execution_count": null,
   "id": "a5fc4a0f-bbc4-4c61-8e77-6e63ea1eb89a",
   "metadata": {},
   "outputs": [],
   "source": []
  },
  {
   "cell_type": "markdown",
   "id": "8ef5587e",
   "metadata": {},
   "source": [
    "# Load data and pre-process images using CV library: Downsize images to 200x200, convert into tensor\n",
    "\n",
    "\n",
    "\n"
   ]
  },
  {
   "cell_type": "code",
   "execution_count": null,
   "id": "6bb5ea5b",
   "metadata": {},
   "outputs": [],
   "source": [
    "def read_ct_img_bydir(target_dir):\n",
    "    img=cv2.imdecode(np.fromfile(target_dir,dtype=np.uint8),cv2.IMREAD_GRAYSCALE)\n",
    "    img = corp_margin(img)\n",
    "    img=cv2.resize(img,(200,200))\n",
    "    return img"
   ]
  },
  {
   "cell_type": "code",
   "execution_count": null,
   "id": "bd88dae4",
   "metadata": {},
   "outputs": [],
   "source": [
    "def get_data():\n",
    "    '''Loads raw data from image names of each class folder and assigns a label to it.'''\n",
    "    \n",
    "    target_dir1='../../../LW COVID 19 Project/Database C19/database_download_test/NiCT'\n",
    "    target_dir2='../../../LW COVID 19 Project/Database C19/database_download_test/NiCT'\n",
    "    target_dir3='../../../LW COVID 19 Project/Database C19/database_download_test/NiCT'\n",
    "\n",
    "    target_list1=[target_dir1+file for file in os.listdir(target_dir1)]\n",
    "    target_list2=[target_dir2+file for file in os.listdir(target_dir2)]\n",
    "    target_list3=[target_dir3+file for file in os.listdir(target_dir3)]\n",
    "    \n",
    "    \n",
    "    target_list=target_list1+target_list2+target_list3\n",
    "\n",
    "    # Assign labels: 0: 'non informative CT'\n",
    "    #                1: 'positive Covid-19 CT'\n",
    "    #                1: 'negative Covid-19 CT'\n",
    "    y_list=to_categorical(np.concatenate(np.array([[0]*len(target_list1),\n",
    "                                               [1]*len(target_list2),\n",
    "                                               [2]*len(target_list3)])),3)\n",
    "\n",
    "    X=np.array([read_ct_img_bydir(file) for file in target_list])[:,:,:,np.newaxis]\n",
    "\n",
    "    return X, y_list"
   ]
  },
  {
   "cell_type": "code",
   "execution_count": 7,
   "id": "e3daf358-fcd0-4caf-a490-1a715ff16e19",
   "metadata": {},
   "outputs": [
    {
     "name": "stdout",
     "output_type": "stream",
     "text": [
      "/home/leesalem/code/NinLev/Covid_19/notebooks\r\n"
     ]
    }
   ],
   "source": [
    "!pwd"
   ]
  },
  {
   "cell_type": "code",
   "execution_count": null,
   "id": "fb18cfe0-6837-4f7f-afec-65fcf094dd88",
   "metadata": {},
   "outputs": [],
   "source": [
    "os.listdir('../../../LW COVID 19 Project/Database C19/database_download_test/NiCT')"
   ]
  },
  {
   "cell_type": "code",
   "execution_count": 6,
   "id": "ce4621b7-80ca-4f79-8837-ecfea7d4bf44",
   "metadata": {},
   "outputs": [
    {
     "ename": "ModuleNotFoundError",
     "evalue": "No module named 'fast2'",
     "output_type": "error",
     "traceback": [
      "\u001b[0;31m---------------------------------------------------------------------------\u001b[0m",
      "\u001b[0;31mModuleNotFoundError\u001b[0m                       Traceback (most recent call last)",
      "\u001b[0;32m<ipython-input-6-168bb4181cb2>\u001b[0m in \u001b[0;36m<module>\u001b[0;34m\u001b[0m\n\u001b[0;32m----> 1\u001b[0;31m \u001b[0;32mfrom\u001b[0m \u001b[0mfast2\u001b[0m \u001b[0;32mimport\u001b[0m \u001b[0mpreproc_before_pred\u001b[0m\u001b[0;34m\u001b[0m\u001b[0;34m\u001b[0m\u001b[0m\n\u001b[0m\u001b[1;32m      2\u001b[0m \u001b[0;34m\u001b[0m\u001b[0m\n",
      "\u001b[0;31mModuleNotFoundError\u001b[0m: No module named 'fast2'"
     ]
    }
   ],
   "source": [
    "from fast2 import preproc_before_pred\n",
    "\n"
   ]
  },
  {
   "cell_type": "code",
   "execution_count": null,
   "id": "3eed6dac",
   "metadata": {},
   "outputs": [],
   "source": [
    "X, y = get_data()\n",
    "#np.shape(df)\n",
    "#df[1045,:,:,:]"
   ]
  },
  {
   "cell_type": "code",
   "execution_count": null,
   "id": "0c2827f1-10be-4d7c-a3e4-53e4f1f271b7",
   "metadata": {},
   "outputs": [],
   "source": []
  },
  {
   "cell_type": "code",
   "execution_count": null,
   "id": "72126b77-dd7e-4224-a050-2a653db1adcb",
   "metadata": {},
   "outputs": [],
   "source": []
  },
  {
   "cell_type": "code",
   "execution_count": null,
   "id": "b30f5776-45a6-4a5c-add4-55445e1e7740",
   "metadata": {},
   "outputs": [],
   "source": []
  },
  {
   "cell_type": "code",
   "execution_count": null,
   "id": "70fd66a9-68b9-477a-a3df-a077fb2b3e33",
   "metadata": {},
   "outputs": [],
   "source": []
  }
 ],
 "metadata": {
  "kernelspec": {
   "display_name": "Python 3",
   "language": "python",
   "name": "python3"
  },
  "language_info": {
   "codemirror_mode": {
    "name": "ipython",
    "version": 3
   },
   "file_extension": ".py",
   "mimetype": "text/x-python",
   "name": "python",
   "nbconvert_exporter": "python",
   "pygments_lexer": "ipython3",
   "version": "3.8.6"
  },
  "toc": {
   "base_numbering": 1,
   "nav_menu": {},
   "number_sections": true,
   "sideBar": true,
   "skip_h1_title": false,
   "title_cell": "Table of Contents",
   "title_sidebar": "Contents",
   "toc_cell": false,
   "toc_position": {},
   "toc_section_display": true,
   "toc_window_display": false
  }
 },
 "nbformat": 4,
 "nbformat_minor": 5
}
