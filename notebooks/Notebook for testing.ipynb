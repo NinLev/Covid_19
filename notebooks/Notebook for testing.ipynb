{
 "cells": [
  {
   "cell_type": "code",
   "execution_count": null,
   "id": "b797bfb3",
   "metadata": {},
   "outputs": [],
   "source": []
  },
  {
   "cell_type": "markdown",
   "id": "52240e23",
   "metadata": {},
   "source": [
    "# Import packages\n",
    "\n"
   ]
  },
  {
   "cell_type": "code",
   "execution_count": null,
   "id": "401749d3",
   "metadata": {},
   "outputs": [],
   "source": [
    "!pip install opencv-python\n",
    "\n",
    "import pandas as pd\n",
    "import numpy as np\n",
    "import cv2\n",
    "import os\n",
    "\n",
    "\n",
    "from keras.utils.np_utils import to_categorical\n",
    "from sklearn.model_selection import train_test_split"
   ]
  },
  {
   "cell_type": "code",
   "execution_count": null,
   "id": "f0599df1",
   "metadata": {},
   "outputs": [],
   "source": []
  },
  {
   "cell_type": "markdown",
   "id": "8ef5587e",
   "metadata": {},
   "source": [
    "# Load data and pre-process images using CV library: Downsize images to 200x200, convert into tensor\n",
    "\n",
    "\n",
    "\n"
   ]
  },
  {
   "cell_type": "code",
   "execution_count": null,
   "id": "57de100f",
   "metadata": {},
   "outputs": [],
   "source": [
    "def corp_margin(img2):\n",
    "    img2=np.asarray(img2)\n",
    "    (row, col) = img2.shape\n",
    "    row_top = 0\n",
    "    raw_down = 0\n",
    "    col_top = 0\n",
    "    col_down = 0\n",
    "    axis1=img2.sum(axis=1)\n",
    "    axis0=img2.sum(axis=0)\n",
    "    for r in range(0, row):\n",
    "        if axis1[r] > 30:\n",
    "            row_top = r\n",
    "            break\n",
    "    for r in range(row - 1, 0, -1):\n",
    "        if axis1[r] > 30:\n",
    "            raw_down = r\n",
    "            break\n",
    "    for c in range(0, col):\n",
    "        if axis0[c] > 30:\n",
    "            col_top = c\n",
    "            break\n",
    "    for c in range(col - 1, 0, -1):\n",
    "        if axis0[c] > 30:\n",
    "            col_down = c\n",
    "            break\n",
    "    a=raw_down+ 1 - row_top-(col_down+ 1-col_top)\n",
    "    if a>0:\n",
    "            w=raw_down+ 1-row_top\n",
    "            col_down=int((col_top+col_down + 1)/2+w/2)\n",
    "            col_top = col_down-w\n",
    "            if col_top < 0:\n",
    "                col_top = 0\n",
    "                col_down = col_top + w\n",
    "            elif col_down >= col:\n",
    "                col_down = col - 1\n",
    "                col_top = col_down - w\n",
    "    else:\n",
    "            w=col_down + 1- col_top\n",
    "            raw_down = int((row_top + raw_down + 1) / 2 + w/2)\n",
    "            row_top =  raw_down-w\n",
    "            if row_top < 0:\n",
    "                row_top = 0\n",
    "                raw_down = row_top + w\n",
    "            elif raw_down >= row:\n",
    "                raw_down = row - 1\n",
    "                row_top = raw_down - w\n",
    "    if row_top==raw_down:\n",
    "        row_top=0\n",
    "        raw_down=99\n",
    "        col_top = 0\n",
    "        col_down = 99\n",
    "    new_img = img2[row_top:raw_down + 1, col_top:col_down + 1]\n",
    "    return new_img"
   ]
  },
  {
   "cell_type": "code",
   "execution_count": null,
   "id": "6bb5ea5b",
   "metadata": {},
   "outputs": [],
   "source": [
    "def read_ct_img_bydir(target_dir):\n",
    "    img=cv2.imdecode(np.fromfile(target_dir,dtype=np.uint8),cv2.IMREAD_GRAYSCALE)\n",
    "    img = corp_margin(img)\n",
    "    img=cv2.resize(img,(200,200))\n",
    "    return img"
   ]
  },
  {
   "cell_type": "code",
   "execution_count": null,
   "id": "bd88dae4",
   "metadata": {},
   "outputs": [],
   "source": [
    "def get_data():\n",
    "    '''Loads raw data from image names of each class folder and assigns a label to it.'''\n",
    "    \n",
    "    target_dir1='../ <insert your path> /NiCT/'\n",
    "    target_dir2='../ <insert your path> /data/pCT/'\n",
    "    target_dir3='../ <insert your path> /data/nCT/'\n",
    "\n",
    "    target_list1=[target_dir1+file for file in os.listdir(target_dir1)]\n",
    "    target_list2=[target_dir2+file for file in os.listdir(target_dir2)]\n",
    "    target_list3=[target_dir3+file for file in os.listdir(target_dir3)]\n",
    "\n",
    "    target_list=target_list1+target_list2+target_list3\n",
    "\n",
    "    # Assign labels: 0: 'non informative CT'\n",
    "    #                1: 'positive Covid-19 CT'\n",
    "    #                1: 'negative Covid-19 CT'\n",
    "    y_list=to_categorical(np.concatenate(np.array([[0]*len(target_list1),\n",
    "                                               [1]*len(target_list2),\n",
    "                                               [2]*len(target_list3)])),3)\n",
    "\n",
    "    X=np.array([read_ct_img_bydir(file) for file in target_list])[:,:,:,np.newaxis]\n",
    "\n",
    "    return X, y_list"
   ]
  },
  {
   "cell_type": "code",
   "execution_count": null,
   "id": "3eed6dac",
   "metadata": {},
   "outputs": [],
   "source": [
    "X, y = get_data()\n",
    "#np.shape(df)\n",
    "#df[1045,:,:,:]"
   ]
  }
 ],
 "metadata": {
  "kernelspec": {
   "display_name": "Python 3",
   "language": "python",
   "name": "python3"
  },
  "language_info": {
   "codemirror_mode": {
    "name": "ipython",
    "version": 3
   },
   "file_extension": ".py",
   "mimetype": "text/x-python",
   "name": "python",
   "nbconvert_exporter": "python",
   "pygments_lexer": "ipython3",
   "version": "3.8.6"
  },
  "toc": {
   "base_numbering": 1,
   "nav_menu": {},
   "number_sections": true,
   "sideBar": true,
   "skip_h1_title": false,
   "title_cell": "Table of Contents",
   "title_sidebar": "Contents",
   "toc_cell": false,
   "toc_position": {},
   "toc_section_display": true,
   "toc_window_display": false
  }
 },
 "nbformat": 4,
 "nbformat_minor": 5
}
