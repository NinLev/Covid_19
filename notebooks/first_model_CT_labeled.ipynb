{
 "cells": [
  {
   "cell_type": "markdown",
   "id": "1b9fa3b8",
   "metadata": {},
   "source": [
    "## First model - labeled CT data"
   ]
  },
  {
   "cell_type": "code",
   "execution_count": 1,
   "id": "69b4d008",
   "metadata": {},
   "outputs": [
    {
     "name": "stdout",
     "output_type": "stream",
     "text": [
      "Requirement already satisfied: opencv-python in /home/adduser/.pyenv/versions/3.8.6/envs/lewagon/lib/python3.8/site-packages (4.5.2.52)\n",
      "Requirement already satisfied: numpy>=1.17.3 in /home/adduser/.pyenv/versions/3.8.6/envs/lewagon/lib/python3.8/site-packages (from opencv-python) (1.18.5)\n",
      "\u001b[33mWARNING: You are using pip version 21.1.1; however, version 21.1.2 is available.\n",
      "You should consider upgrading via the '/home/adduser/.pyenv/versions/3.8.6/envs/lewagon/bin/python3.8 -m pip install --upgrade pip' command.\u001b[0m\n"
     ]
    }
   ],
   "source": [
    "!pip install opencv-python\n",
    "\n",
    "import pandas as pd\n",
    "import numpy as np\n",
    "import cv2\n",
    "import os\n",
    "import matplotlib.pyplot as plt\n",
    "\n",
    "import tensorflow\n",
    "\n",
    "from tensorflow.keras.utils import to_categorical\n",
    "\n",
    "from sklearn.model_selection import train_test_split\n",
    "\n",
    "from tensorflow.keras import callbacks\n",
    "\n",
    "from joblib import dump, load"
   ]
  },
  {
   "cell_type": "code",
   "execution_count": 2,
   "id": "7800a7dd",
   "metadata": {},
   "outputs": [],
   "source": [
    "def read_ct_img_bydir(target_dir):\n",
    "    img=cv2.imdecode(np.fromfile(target_dir,dtype=np.uint8),cv2.IMREAD_GRAYSCALE)\n",
    "    #img = corp_margin(img)\n",
    "    img=cv2.resize(img,(200,200))\n",
    "    \n",
    "    return img"
   ]
  },
  {
   "cell_type": "code",
   "execution_count": 3,
   "id": "c95dc196",
   "metadata": {},
   "outputs": [],
   "source": [
    "def get_data():\n",
    "    '''Loads raw data from image names of each class folder and assigns a label to it.'''\n",
    "    \n",
    "    target_dir1='../raw_data/labeled_CT_data/NiCT/'\n",
    "    target_dir2='../raw_data/labeled_CT_data/pCT/'\n",
    "    target_dir3='../raw_data/labeled_CT_data/nCT_nd/'\n",
    "\n",
    "    target_list1=[target_dir1+file for file in os.listdir(target_dir1)]\n",
    "    target_list2=[target_dir2+file for file in os.listdir(target_dir2)]\n",
    "    target_list3=[target_dir3+file for file in os.listdir(target_dir3)]\n",
    "\n",
    "    target_list=target_list1+target_list2+target_list3\n",
    "\n",
    "    # Assign labels: 0: 'non informative CT'\n",
    "    #                1: 'positive Covid-19 CT'\n",
    "    #                2: 'negative Covid-19 CT'\n",
    "    y_list=to_categorical(np.concatenate(np.array([[0]*len(target_list1),\n",
    "                                               [1]*len(target_list2),\n",
    "                                               [2]*len(target_list3)])),3)\n",
    "\n",
    "    X=np.array([read_ct_img_bydir(file) for file in target_list])[:,:,:,np.newaxis]\n",
    "\n",
    "    return X, y_list"
   ]
  },
  {
   "cell_type": "code",
   "execution_count": 4,
   "id": "93a1586d",
   "metadata": {},
   "outputs": [],
   "source": [
    "X,y = get_data()"
   ]
  },
  {
   "cell_type": "code",
   "execution_count": 5,
   "id": "ae6c3a2f",
   "metadata": {},
   "outputs": [
    {
     "data": {
      "text/plain": [
       "(16689, 200, 200, 1)"
      ]
     },
     "execution_count": 5,
     "metadata": {},
     "output_type": "execute_result"
    }
   ],
   "source": [
    "X.shape"
   ]
  },
  {
   "cell_type": "code",
   "execution_count": 6,
   "id": "081b0362",
   "metadata": {},
   "outputs": [
    {
     "data": {
      "text/plain": [
       "(16689, 3)"
      ]
     },
     "execution_count": 6,
     "metadata": {},
     "output_type": "execute_result"
    }
   ],
   "source": [
    "y.shape"
   ]
  },
  {
   "cell_type": "code",
   "execution_count": 7,
   "id": "cedb733d",
   "metadata": {},
   "outputs": [
    {
     "data": {
      "text/plain": [
       "array([[1., 0., 0.],\n",
       "       [1., 0., 0.],\n",
       "       [1., 0., 0.],\n",
       "       ...,\n",
       "       [0., 0., 1.],\n",
       "       [0., 0., 1.],\n",
       "       [0., 0., 1.]], dtype=float32)"
      ]
     },
     "execution_count": 7,
     "metadata": {},
     "output_type": "execute_result"
    }
   ],
   "source": [
    "y"
   ]
  },
  {
   "cell_type": "code",
   "execution_count": 8,
   "id": "bc46d36c",
   "metadata": {},
   "outputs": [],
   "source": [
    "X_train, X_test, y_train, y_test = train_test_split(X, y, test_size=0.3, random_state=42)"
   ]
  },
  {
   "cell_type": "code",
   "execution_count": 9,
   "id": "f7aa70fc",
   "metadata": {},
   "outputs": [
    {
     "data": {
      "text/plain": [
       "array([0., 1., 0.], dtype=float32)"
      ]
     },
     "execution_count": 9,
     "metadata": {},
     "output_type": "execute_result"
    }
   ],
   "source": [
    "y_test[1]"
   ]
  },
  {
   "cell_type": "code",
   "execution_count": 10,
   "id": "5dc0de34",
   "metadata": {},
   "outputs": [],
   "source": [
    "from tensorflow.keras.models import Sequential\n",
    "from tensorflow.keras import layers\n",
    "\n",
    "model = Sequential()\n",
    "model.add(layers.Conv2D(64, (3,3), input_shape=(200, 200, 1), activation=\"relu\"))\n",
    "model.add(layers.MaxPool2D(pool_size=(2,2))) \n",
    "\n",
    "model.add(layers.Conv2D(128, (3,3), activation=\"relu\"))\n",
    "model.add(layers.MaxPool2D(pool_size=(2,2)))\n",
    "\n",
    "model.add(layers.Conv2D(64, (3,3), activation=\"relu\"))\n",
    "model.add(layers.MaxPool2D(pool_size=(2,2))) \n",
    "\n",
    "model.add(layers.Conv2D(32, (3,3), activation=\"relu\"))\n",
    "model.add(layers.MaxPool2D(pool_size=(2,2))) \n",
    "\n",
    "model.add(layers.Dense(32, activation=\"relu\"))\n",
    "\n",
    "model.add(layers.Flatten())\n",
    "model.add(layers.Dense(3, activation=\"softmax\"))\n",
    "\n",
    "# The compilation\n",
    "model.compile(loss='categorical_crossentropy', \n",
    "              optimizer='adam', metrics = 'accuracy')  # Recommanded optimizer for RNN\n"
   ]
  },
  {
   "cell_type": "code",
   "execution_count": 11,
   "id": "f899b57b",
   "metadata": {},
   "outputs": [
    {
     "name": "stdout",
     "output_type": "stream",
     "text": [
      "Model: \"sequential\"\n",
      "_________________________________________________________________\n",
      "Layer (type)                 Output Shape              Param #   \n",
      "=================================================================\n",
      "conv2d (Conv2D)              (None, 198, 198, 64)      640       \n",
      "_________________________________________________________________\n",
      "max_pooling2d (MaxPooling2D) (None, 99, 99, 64)        0         \n",
      "_________________________________________________________________\n",
      "conv2d_1 (Conv2D)            (None, 97, 97, 128)       73856     \n",
      "_________________________________________________________________\n",
      "max_pooling2d_1 (MaxPooling2 (None, 48, 48, 128)       0         \n",
      "_________________________________________________________________\n",
      "conv2d_2 (Conv2D)            (None, 46, 46, 64)        73792     \n",
      "_________________________________________________________________\n",
      "max_pooling2d_2 (MaxPooling2 (None, 23, 23, 64)        0         \n",
      "_________________________________________________________________\n",
      "conv2d_3 (Conv2D)            (None, 21, 21, 32)        18464     \n",
      "_________________________________________________________________\n",
      "max_pooling2d_3 (MaxPooling2 (None, 10, 10, 32)        0         \n",
      "_________________________________________________________________\n",
      "dense (Dense)                (None, 10, 10, 32)        1056      \n",
      "_________________________________________________________________\n",
      "flatten (Flatten)            (None, 3200)              0         \n",
      "_________________________________________________________________\n",
      "dense_1 (Dense)              (None, 3)                 9603      \n",
      "=================================================================\n",
      "Total params: 177,411\n",
      "Trainable params: 177,411\n",
      "Non-trainable params: 0\n",
      "_________________________________________________________________\n"
     ]
    }
   ],
   "source": [
    "model.summary()"
   ]
  },
  {
   "cell_type": "code",
   "execution_count": 12,
   "id": "b8c52360",
   "metadata": {},
   "outputs": [
    {
     "name": "stdout",
     "output_type": "stream",
     "text": [
      "Epoch 1/3\n",
      "256/256 [==============================] - 941s 4s/step - loss: 2.0825 - accuracy: 0.6740 - val_loss: 0.0760 - val_accuracy: 0.9780\n",
      "Epoch 2/3\n",
      "256/256 [==============================] - 837s 3s/step - loss: 0.0726 - accuracy: 0.9752 - val_loss: 0.0705 - val_accuracy: 0.9775\n",
      "Epoch 3/3\n",
      "256/256 [==============================] - 832s 3s/step - loss: 0.0653 - accuracy: 0.9757 - val_loss: 0.0412 - val_accuracy: 0.9846\n"
     ]
    }
   ],
   "source": [
    "# The fit\n",
    "\n",
    "es = callbacks.EarlyStopping(patience=20, restore_best_weights=True)\n",
    "\n",
    "history = model.fit(X_train, y_train,\n",
    "                    batch_size=32,\n",
    "                    epochs=3,\n",
    "                    validation_split=0.3,\n",
    "                    callbacks=[es],\n",
    "                    verbose=1)"
   ]
  },
  {
   "cell_type": "code",
   "execution_count": 13,
   "id": "5c6bc754",
   "metadata": {},
   "outputs": [],
   "source": [
    "## The prediction\n",
    "y_pred = model.predict(X_test)"
   ]
  },
  {
   "cell_type": "code",
   "execution_count": 14,
   "id": "df1f1146",
   "metadata": {},
   "outputs": [
    {
     "data": {
      "text/plain": [
       "(5007, 3)"
      ]
     },
     "execution_count": 14,
     "metadata": {},
     "output_type": "execute_result"
    }
   ],
   "source": [
    "y_pred.shape"
   ]
  },
  {
   "cell_type": "code",
   "execution_count": 15,
   "id": "b793656e",
   "metadata": {},
   "outputs": [
    {
     "data": {
      "text/plain": [
       "array([3.0619441e-13, 8.1161656e-13, 1.0000000e+00], dtype=float32)"
      ]
     },
     "execution_count": 15,
     "metadata": {},
     "output_type": "execute_result"
    }
   ],
   "source": [
    "y_pred[0]"
   ]
  },
  {
   "cell_type": "code",
   "execution_count": 16,
   "id": "459ed707",
   "metadata": {},
   "outputs": [],
   "source": [
    "y_pred_class = np.rint(y_pred)"
   ]
  },
  {
   "cell_type": "code",
   "execution_count": 30,
   "id": "21992fbf",
   "metadata": {},
   "outputs": [
    {
     "data": {
      "text/plain": [
       "array([[0., 0., 1.],\n",
       "       [0., 1., 0.],\n",
       "       [0., 0., 1.],\n",
       "       ...,\n",
       "       [1., 0., 0.],\n",
       "       [0., 0., 1.],\n",
       "       [1., 0., 0.]], dtype=float32)"
      ]
     },
     "execution_count": 30,
     "metadata": {},
     "output_type": "execute_result"
    }
   ],
   "source": [
    "y_pred_class"
   ]
  },
  {
   "cell_type": "code",
   "execution_count": 17,
   "id": "76cbcc55",
   "metadata": {
    "scrolled": true
   },
   "outputs": [
    {
     "name": "stdout",
     "output_type": "stream",
     "text": [
      "157/157 [==============================] - 112s 716ms/step - loss: 0.0595 - accuracy: 0.9794\n"
     ]
    }
   ],
   "source": [
    "pred = model.evaluate(X_test, y_test, verbose=1)"
   ]
  },
  {
   "cell_type": "code",
   "execution_count": 18,
   "id": "f2f8a35d",
   "metadata": {},
   "outputs": [
    {
     "data": {
      "text/plain": [
       "[0.05953994020819664, 0.9794288277626038]"
      ]
     },
     "execution_count": 18,
     "metadata": {},
     "output_type": "execute_result"
    }
   ],
   "source": [
    "pred"
   ]
  },
  {
   "cell_type": "code",
   "execution_count": 19,
   "id": "d51149ab",
   "metadata": {},
   "outputs": [
    {
     "name": "stdout",
     "output_type": "stream",
     "text": [
      "INFO:tensorflow:Assets written to: model_labeled_ct_3epochs/assets\n"
     ]
    }
   ],
   "source": [
    "# save model\n",
    "model.save('model_labeled_ct_3epochs')  # creates a HDF5 file 'my_model.h5'"
   ]
  },
  {
   "cell_type": "code",
   "execution_count": 31,
   "id": "02960ba9",
   "metadata": {},
   "outputs": [],
   "source": [
    "# Load\n",
    "from tensorflow.keras.models import load_model\n",
    "model_loaded = load_model('model_labeled_ct_3epochs')"
   ]
  },
  {
   "cell_type": "code",
   "execution_count": null,
   "id": "79f3d528",
   "metadata": {},
   "outputs": [],
   "source": [
    "# # save model\n",
    "# model.save('my_model')  # creates a HDF5 file 'my_model.h5'"
   ]
  },
  {
   "cell_type": "code",
   "execution_count": 20,
   "id": "4b8e7ab2",
   "metadata": {},
   "outputs": [],
   "source": [
    "pred_error = y_pred_class - y_test"
   ]
  },
  {
   "cell_type": "code",
   "execution_count": 21,
   "id": "60295573",
   "metadata": {},
   "outputs": [
    {
     "data": {
      "text/plain": [
       "array([   0,    1,    2, ..., 5004, 5005, 5006])"
      ]
     },
     "execution_count": 21,
     "metadata": {},
     "output_type": "execute_result"
    }
   ],
   "source": [
    "x_plot = np.arange(len(y_test))\n",
    "x_plot"
   ]
  },
  {
   "cell_type": "code",
   "execution_count": 27,
   "id": "d5300474",
   "metadata": {},
   "outputs": [
    {
     "data": {
      "text/plain": [
       "array([[0., 0., 1.],\n",
       "       [0., 1., 0.],\n",
       "       [0., 0., 1.],\n",
       "       ...,\n",
       "       [1., 0., 0.],\n",
       "       [0., 0., 1.],\n",
       "       [1., 0., 0.]], dtype=float32)"
      ]
     },
     "execution_count": 27,
     "metadata": {},
     "output_type": "execute_result"
    }
   ],
   "source": [
    "y_pred_class"
   ]
  },
  {
   "cell_type": "code",
   "execution_count": 28,
   "id": "ba4e6364",
   "metadata": {},
   "outputs": [
    {
     "data": {
      "text/plain": [
       "array([[0., 0., 1.],\n",
       "       [0., 1., 0.],\n",
       "       [0., 0., 1.],\n",
       "       ...,\n",
       "       [1., 0., 0.],\n",
       "       [0., 0., 1.],\n",
       "       [1., 0., 0.]], dtype=float32)"
      ]
     },
     "execution_count": 28,
     "metadata": {},
     "output_type": "execute_result"
    }
   ],
   "source": [
    "y_test"
   ]
  },
  {
   "cell_type": "code",
   "execution_count": 38,
   "id": "09abbf57",
   "metadata": {
    "scrolled": true
   },
   "outputs": [
    {
     "data": {
      "text/plain": [
       "array([-1.,  0.,  1.], dtype=float32)"
      ]
     },
     "execution_count": 38,
     "metadata": {},
     "output_type": "execute_result"
    }
   ],
   "source": [
    "np.unique(pred_error)"
   ]
  },
  {
   "cell_type": "code",
   "execution_count": 52,
   "id": "bb89f612",
   "metadata": {},
   "outputs": [
    {
     "data": {
      "text/plain": [
       "[0.0, 0.0, 0.0, 0.0, 0.0]"
      ]
     },
     "execution_count": 52,
     "metadata": {},
     "output_type": "execute_result"
    }
   ],
   "source": [
    "predict_errors = list()\n",
    "\n",
    "for i in range(len(pred_error)):\n",
    "    predict_errors.append(pred_error[i,0] + pred_error[i,1]+ pred_error[i,2])\n",
    "predict_errors[:5]"
   ]
  },
  {
   "cell_type": "code",
   "execution_count": 34,
   "id": "cd5b8bd5",
   "metadata": {},
   "outputs": [
    {
     "data": {
      "text/plain": [
       "array([[3.06194414e-13, 8.11616562e-13, 1.00000000e+00],\n",
       "       [7.71779469e-07, 9.99987483e-01, 1.18502485e-05],\n",
       "       [4.44400229e-07, 5.45069543e-06, 9.99994159e-01],\n",
       "       ...,\n",
       "       [9.99542236e-01, 4.57746821e-04, 7.53449414e-10],\n",
       "       [2.65752481e-13, 7.88344678e-09, 1.00000000e+00],\n",
       "       [9.99975324e-01, 6.76020628e-10, 2.46292220e-05]], dtype=float32)"
      ]
     },
     "execution_count": 34,
     "metadata": {},
     "output_type": "execute_result"
    }
   ],
   "source": [
    "y_pred"
   ]
  },
  {
   "cell_type": "code",
   "execution_count": 35,
   "id": "10c8beea",
   "metadata": {},
   "outputs": [],
   "source": [
    "test_pred = model_loaded.predict(X_test)"
   ]
  },
  {
   "cell_type": "code",
   "execution_count": 78,
   "id": "46e302f3",
   "metadata": {},
   "outputs": [
    {
     "data": {
      "image/png": "[encoded data removed]",
      "text/plain": [
       "<Figure size 432x288 with 1 Axes>"
      ]
     },
     "metadata": {
      "needs_background": "light"
     },
     "output_type": "display_data"
    }
   ],
   "source": [
    "plt.scatter(x_plot, predict_errors);"
   ]
  },
  {
   "cell_type": "code",
   "execution_count": 54,
   "id": "ca073803",
   "metadata": {},
   "outputs": [
    {
     "data": {
      "text/plain": [
       "array([-1.,  0.], dtype=float32)"
      ]
     },
     "execution_count": 54,
     "metadata": {},
     "output_type": "execute_result"
    }
   ],
   "source": [
    "np.unique(predict_errors)"
   ]
  },
  {
   "cell_type": "code",
   "execution_count": 72,
   "id": "d6f4e5f1",
   "metadata": {},
   "outputs": [],
   "source": [
    "int_errors = [int(a) for a in predict_errors]"
   ]
  },
  {
   "cell_type": "code",
   "execution_count": 76,
   "id": "142248ec",
   "metadata": {},
   "outputs": [],
   "source": [
    "int_errors;"
   ]
  },
  {
   "cell_type": "code",
   "execution_count": 96,
   "id": "22eafc83",
   "metadata": {},
   "outputs": [],
   "source": [
    "y_df = pd.DataFrame(y)"
   ]
  },
  {
   "cell_type": "code",
   "execution_count": 97,
   "id": "d542cde7",
   "metadata": {},
   "outputs": [],
   "source": [
    "col1 = y_df[0].sum()\n",
    "col2 = y_df[1].sum()\n",
    "col3 = y_df[2].sum()"
   ]
  },
  {
   "cell_type": "code",
   "execution_count": 117,
   "id": "703be8b7",
   "metadata": {},
   "outputs": [
    {
     "name": "stdout",
     "output_type": "stream",
     "text": [
      "# non-informative labeled CTs:  3113.0\n",
      "# positive labeled CTs:  4001.0\n",
      "# negative labeled CTs:  9575.0\n"
     ]
    }
   ],
   "source": [
    "print('# non-informative labeled CTs: ',col1)\n",
    "print('# positive labeled CTs: ',col2)\n",
    "print('# negative labeled CTs: ',col3)"
   ]
  },
  {
   "cell_type": "code",
   "execution_count": 106,
   "id": "a2241281",
   "metadata": {},
   "outputs": [],
   "source": [
    "cols = [col1, col2,col3]"
   ]
  },
  {
   "cell_type": "code",
   "execution_count": 113,
   "id": "1fe7804a",
   "metadata": {
    "scrolled": false
   },
   "outputs": [
    {
     "data": {
      "image/png": "[encoded data removed]",
      "text/plain": [
       "<Figure size 432x288 with 1 Axes>"
      ]
     },
     "metadata": {
      "needs_background": "light"
     },
     "output_type": "display_data"
    }
   ],
   "source": [
    "plt.bar(['niCT','pCT','nCT'], cols)\n",
    "plt.title('distribution of categories');"
   ]
  },
  {
   "cell_type": "code",
   "execution_count": null,
   "id": "1a44d661",
   "metadata": {},
   "outputs": [],
   "source": []
  }
 ],
 "metadata": {
  "kernelspec": {
   "display_name": "Python 3",
   "language": "python",
   "name": "python3"
  },
  "language_info": {
   "codemirror_mode": {
    "name": "ipython",
    "version": 3
   },
   "file_extension": ".py",
   "mimetype": "text/x-python",
   "name": "python",
   "nbconvert_exporter": "python",
   "pygments_lexer": "ipython3",
   "version": "3.8.6"
  },
  "toc": {
   "base_numbering": 1,
   "nav_menu": {},
   "number_sections": true,
   "sideBar": true,
   "skip_h1_title": false,
   "title_cell": "Table of Contents",
   "title_sidebar": "Contents",
   "toc_cell": false,
   "toc_position": {},
   "toc_section_display": true,
   "toc_window_display": false
  }
 },
 "nbformat": 4,
 "nbformat_minor": 5
}
